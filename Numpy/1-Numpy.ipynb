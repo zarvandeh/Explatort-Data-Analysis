{
 "cells": [
  {
   "cell_type": "markdown",
   "id": "ee460c5a-2ff3-4cf8-b3da-591c958ad6a6",
   "metadata": {},
   "source": [
    "# Episode 1 :What is numpy"
   ]
  },
  {
   "cell_type": "markdown",
   "id": "7f1c2cf4-077c-4976-82a0-67c9b7b65bcb",
   "metadata": {},
   "source": [
    "NumPy is a powerful Python library for numerical computing.\n",
    "It provides efficient handling of large, multi-dimensional arrays and matrices.\n",
    "NumPy offers a wide range of mathematical functions for array operations and data manipulatio"
   ]
  },
  {
   "cell_type": "markdown",
   "id": "94678166-7e00-43e5-b098-90b3e0f610d4",
   "metadata": {
    "tags": []
   },
   "source": [
    "## Why should we use Numpy?"
   ]
  },
  {
   "cell_type": "markdown",
   "id": "d9b9501d-d094-40dc-abb6-e48a73ec8934",
   "metadata": {},
   "source": [
    "NumPy is faster than casual calculation in Python due to several reasons. First, NumPy utilizes highly optimized C and Fortran code at its core, which allows for efficient execution of numerical computations. These low-level implementations take advantage of hardware-specific optimizations and memory management techniques, resulting in faster execution times compared to pure Python code.\n",
    "\n",
    "Secondly, NumPy operates on arrays, which are contiguous blocks of memory, providing locality of reference. This allows for efficient vectorized operations, where computations are applied to entire arrays rather than individual elements. This reduces the overhead of looping in Python and enables parallelized execution, leading to significant speed improvements.\n",
    "\n",
    "Additionally, NumPy provides optimized functions for mathematical operations, such as element-wise calculations, linear algebra, and statistical computations. These functions are implemented using optimized algorithms and data structures, further enhancing performance.\n",
    "\n",
    "In summary, NumPy's combination of optimized low-level code, vectorized operations, and specialized functions contributes to its faster execution speed compared to casual calculations in Python."
   ]
  },
  {
   "cell_type": "markdown",
   "id": "23437773-92a9-4ac7-84c8-474a48f4effb",
   "metadata": {},
   "source": [
    "## introducing Numpy arrays"
   ]
  },
  {
   "cell_type": "markdown",
   "id": "6277de9e-5060-497e-b7a4-18336f11ccdb",
   "metadata": {},
   "source": [
    "A NumPy array is a data structure provided by the NumPy library in Python. It is a multidimensional container that holds elements of the same data type, arranged in a grid-like fashion. The array allows for efficient storage, manipulation, and computation of numerical data due to its homogeneous nature and optimized algorithms. It offers a powerful alternative to Python lists for handling large datasets and performing mathematical operations efficiently."
   ]
  },
  {
   "cell_type": "code",
   "execution_count": 4,
   "id": "5e542563-1160-45bb-84b1-75f6baa904cb",
   "metadata": {},
   "outputs": [],
   "source": [
    "import numpy as np"
   ]
  },
  {
   "cell_type": "code",
   "execution_count": 5,
   "id": "110e2ad5-c165-4342-9c80-9253331565fb",
   "metadata": {},
   "outputs": [],
   "source": [
    "list1=[1,1,3,4]"
   ]
  },
  {
   "cell_type": "code",
   "execution_count": 10,
   "id": "66fcc460-3285-4f3b-b2b5-61ca537a62b2",
   "metadata": {},
   "outputs": [
    {
     "data": {
      "text/plain": [
       "[1, 1, 3, 4]"
      ]
     },
     "execution_count": 10,
     "metadata": {},
     "output_type": "execute_result"
    }
   ],
   "source": [
    "list1"
   ]
  },
  {
   "cell_type": "code",
   "execution_count": 11,
   "id": "7bc034e6-f774-4e63-8ff8-a3a8b33ab96e",
   "metadata": {},
   "outputs": [],
   "source": [
    "list2=[10,12,14,16]"
   ]
  },
  {
   "cell_type": "code",
   "execution_count": 16,
   "id": "d540dd88-f9c1-44ed-a317-ad85003aef33",
   "metadata": {},
   "outputs": [],
   "source": [
    "city=['tehran','tabriz','shiraz','qom']\n",
    "weather=[28,14,30,32]"
   ]
  },
  {
   "cell_type": "code",
   "execution_count": 17,
   "id": "9fd7eb4f-8587-4e90-9f34-ca9b8cfb76f8",
   "metadata": {},
   "outputs": [
    {
     "name": "stdout",
     "output_type": "stream",
     "text": [
      "[1 2 3 4 5]\n"
     ]
    }
   ],
   "source": [
    "\n",
    "# Creating a NumPy array\n",
    "my_array = np.array([1, 2, 3, 4, 5])\n",
    "\n",
    "# Printing the array\n",
    "print(my_array)"
   ]
  },
  {
   "cell_type": "code",
   "execution_count": 18,
   "id": "7018cf56-1eaf-47bf-ad5f-d6a0d09a2dc5",
   "metadata": {},
   "outputs": [
    {
     "data": {
      "text/plain": [
       "numpy.ndarray"
      ]
     },
     "execution_count": 18,
     "metadata": {},
     "output_type": "execute_result"
    }
   ],
   "source": [
    "type(my_array)"
   ]
  },
  {
   "cell_type": "code",
   "execution_count": 19,
   "id": "cbbd0038-5e05-4230-8f6b-374e047b4593",
   "metadata": {},
   "outputs": [
    {
     "data": {
      "text/plain": [
       "list"
      ]
     },
     "execution_count": 19,
     "metadata": {},
     "output_type": "execute_result"
    }
   ],
   "source": [
    "type(list1)"
   ]
  },
  {
   "cell_type": "markdown",
   "id": "646cbd52-c9f7-480c-9909-105787969c57",
   "metadata": {},
   "source": [
    "In this code, we import the numpy library using the import statement. Then, we create a NumPy array called my_array using the np.array() function and provide a list of elements [1, 2, 3, 4, 5]. Finally, we print the array using the print() function. When you run this code, it will output [1 2 3 4 5], representing the contents of the NumPy array."
   ]
  },
  {
   "cell_type": "code",
   "execution_count": 20,
   "id": "0dca575d-6f52-4c1a-95fc-7c6f0b80a84f",
   "metadata": {},
   "outputs": [
    {
     "name": "stdout",
     "output_type": "stream",
     "text": [
      "Average (NumPy): 250.04094728881023\n",
      "Average (Classic Python): 250.04094728881023\n",
      "Time taken (NumPy): 0.03692030906677246 seconds\n",
      "Time taken (Classic Python): 202.54407238960266 seconds\n"
     ]
    }
   ],
   "source": [
    "import time\n",
    "\n",
    "# Define the size of the matrices\n",
    "matrix_size = 1000\n",
    "\n",
    "# Create two large matrices\n",
    "matrix1 = np.random.rand(matrix_size, matrix_size)\n",
    "matrix2 = np.random.rand(matrix_size, matrix_size)\n",
    "\n",
    "# Calculate dot product using NumPy and measure the time taken\n",
    "start_time = time.time()\n",
    "dot_product_np = np.dot(matrix1, matrix2)\n",
    "end_time = time.time()\n",
    "np_time = end_time - start_time\n",
    "\n",
    "# Calculate dot product using classic Python and measure the time taken\n",
    "start_time = time.time()\n",
    "dot_product_py = [[sum(a * b for a, b in zip(row, col)) for col in zip(*matrix2)] for row in matrix1]\n",
    "end_time = time.time()\n",
    "py_time = end_time - start_time\n",
    "\n",
    "# Calculate the average of the dot product\n",
    "average_np = np.mean(dot_product_np)\n",
    "average_py = np.mean(dot_product_py)\n",
    "\n",
    "# Print the average and time taken for each method\n",
    "print(\"Average (NumPy):\", average_np)\n",
    "print(\"Average (Classic Python):\", average_py)\n",
    "print(\"Time taken (NumPy):\", np_time, \"seconds\")\n",
    "print(\"Time taken (Classic Python):\", py_time, \"seconds\")"
   ]
  },
  {
   "cell_type": "markdown",
   "id": "e20f9383-1578-4c53-a15b-ce73658c93d7",
   "metadata": {},
   "source": [
    "## Basic methods to generate numpy arrays"
   ]
  },
  {
   "cell_type": "code",
   "execution_count": 5,
   "id": "d6d810b1-2666-4ad0-85e5-05453869bdaf",
   "metadata": {},
   "outputs": [
    {
     "data": {
      "text/plain": [
       "array([1, 2, 3])"
      ]
     },
     "execution_count": 5,
     "metadata": {},
     "output_type": "execute_result"
    }
   ],
   "source": [
    "my_array = np.array([1, 2, 3])\n",
    "my_array"
   ]
  },
  {
   "cell_type": "code",
   "execution_count": 7,
   "id": "d8589b84-9925-43d6-8b8e-a3d368aeee0e",
   "metadata": {},
   "outputs": [
    {
     "data": {
      "text/plain": [
       "array([1, 2, 3, 4, 5, 6, 7, 8])"
      ]
     },
     "execution_count": 7,
     "metadata": {},
     "output_type": "execute_result"
    }
   ],
   "source": [
    "list1=[1,2,3,4,5,6,7,8]\n",
    "arr1=np.array(list1)\n",
    "arr1"
   ]
  },
  {
   "cell_type": "code",
   "execution_count": 10,
   "id": "e6d49885-9ab4-49f9-880d-cd4f70affce2",
   "metadata": {},
   "outputs": [
    {
     "data": {
      "text/plain": [
       "[[1, 2, 3, 4, 5, 6, 7, 8], [10, 20, 23, 30, 35, 40, 50, 60]]"
      ]
     },
     "execution_count": 10,
     "metadata": {},
     "output_type": "execute_result"
    }
   ],
   "source": [
    "list1=[1,2,3,4,5,6,7,8]\n",
    "list2=[10,20,23,30,35,40,50,60]\n",
    "comlist=[list1,list2]\n",
    "comlist"
   ]
  },
  {
   "cell_type": "code",
   "execution_count": 12,
   "id": "2e8a8132-bdb6-47e2-a0bf-8d89571901e4",
   "metadata": {},
   "outputs": [],
   "source": [
    "myarr=np.array([list1,list2])"
   ]
  },
  {
   "cell_type": "code",
   "execution_count": 13,
   "id": "783fcdd6-5153-4d57-8ebd-71500d2f3c93",
   "metadata": {},
   "outputs": [
    {
     "data": {
      "text/plain": [
       "array([[ 1,  2,  3,  4,  5,  6,  7,  8],\n",
       "       [10, 20, 23, 30, 35, 40, 50, 60]])"
      ]
     },
     "execution_count": 13,
     "metadata": {},
     "output_type": "execute_result"
    }
   ],
   "source": [
    "myarr"
   ]
  },
  {
   "cell_type": "code",
   "execution_count": 21,
   "id": "0eefad1e-6d2c-4039-9f1b-e54fe9b9b949",
   "metadata": {},
   "outputs": [],
   "source": [
    "# Create a 3x5 sample array\n",
    "sample_array = np.array([[1, 2, 3, 4, 5],\n",
    "                         [6, 7, 8, 9, 10],\n",
    "                         [11, 12, 13, 14, 15]])\n"
   ]
  },
  {
   "cell_type": "markdown",
   "id": "470304fb-3858-439a-8c46-20687613a4c6",
   "metadata": {},
   "source": [
    "In this code we use the np.array() function to create a 3x5 sample array. The array is constructed by providing a nested list where each inner list represents a row of the array.\n",
    "\n",
    "Finally, we print the sample array using the print() function. When you run this code, it will output the following:"
   ]
  },
  {
   "cell_type": "code",
   "execution_count": 22,
   "id": "5d3a56d0-6d50-465b-9309-02ad40f7e202",
   "metadata": {},
   "outputs": [
    {
     "name": "stdout",
     "output_type": "stream",
     "text": [
      "[[ 1  2  3  4  5]\n",
      " [ 6  7  8  9 10]\n",
      " [11 12 13 14 15]]\n"
     ]
    }
   ],
   "source": [
    "# Print the sample array\n",
    "print(sample_array)"
   ]
  },
  {
   "cell_type": "markdown",
   "id": "f73f3742-5686-4e0a-b92c-9356eb451e10",
   "metadata": {},
   "source": [
    "## move to more dimentions"
   ]
  },
  {
   "cell_type": "code",
   "execution_count": 23,
   "id": "f31a0882-d059-45ab-b746-453751d10ec7",
   "metadata": {},
   "outputs": [],
   "source": [
    "import numpy as np\n",
    "\n",
    "# Create a 2x3x3 numpy array\n",
    "array_2x3x3 = np.array(\n",
    "    \n",
    "    [[[1, 2, 3], [4, 5, 6], [7, 8, 9]],\n",
    "    [[10, 11, 12], [13, 14, 15], [16, 17, 18]]\n",
    "     \n",
    "])"
   ]
  },
  {
   "cell_type": "markdown",
   "id": "6763d4d1-b570-4f89-a852-2563e1bb5f0d",
   "metadata": {},
   "source": [
    "we use the np.array() function to create a 2x3x3 numpy array. The array is constructed by providing a nested list structure, where the outermost list represents the two 2D arrays, each of size 3x3.\n",
    "\n",
    "Finally, we print the numpy array using the print() function. When you run this code, it will output the following:"
   ]
  },
  {
   "cell_type": "code",
   "execution_count": 24,
   "id": "56e639b7-9a21-4c53-81c4-a63a82ce05dc",
   "metadata": {},
   "outputs": [
    {
     "name": "stdout",
     "output_type": "stream",
     "text": [
      "[[[ 1  2  3]\n",
      "  [ 4  5  6]\n",
      "  [ 7  8  9]]\n",
      "\n",
      " [[10 11 12]\n",
      "  [13 14 15]\n",
      "  [16 17 18]]]\n"
     ]
    }
   ],
   "source": [
    "print(array_2x3x3)"
   ]
  },
  {
   "cell_type": "code",
   "execution_count": 39,
   "id": "9130e406-d6e2-423a-a2c0-671a132e9647",
   "metadata": {},
   "outputs": [],
   "source": [
    "# Create a 2x2x2x3 array\n",
    "array_2x2x2x3 = np.array([\n",
    "    [\n",
    "        [[1, 2, 3], [4, 5, 6]],\n",
    "        [[7, 8, 9], [10, 11, 12]]\n",
    "    ],\n",
    "    [\n",
    "        [[13, 14, 15], [16, 17, 18]],\n",
    "        [[19, 20, 21], [22, 23, 24]]\n",
    "    ]\n",
    "])"
   ]
  },
  {
   "cell_type": "markdown",
   "id": "769d5cd8-56ed-4d1e-8668-caf89958307b",
   "metadata": {},
   "source": [
    "we use the np.array() function to create a 2x2x2x3 array. The array is constructed by providing a nested list structure, where the outermost list represents the two 3D arrays, each of size 2x2x3.\n",
    "\n",
    "Finally, we print the numpy array using the print() function. When you run this code, it will output the following:"
   ]
  },
  {
   "cell_type": "code",
   "execution_count": 40,
   "id": "91e74ba7-2adb-41cc-9ab6-d7d869ba0284",
   "metadata": {},
   "outputs": [
    {
     "name": "stdout",
     "output_type": "stream",
     "text": [
      "[[[[ 1  2  3]\n",
      "   [ 4  5  6]]\n",
      "\n",
      "  [[ 7  8  9]\n",
      "   [10 11 12]]]\n",
      "\n",
      "\n",
      " [[[13 14 15]\n",
      "   [16 17 18]]\n",
      "\n",
      "  [[19 20 21]\n",
      "   [22 23 24]]]]\n"
     ]
    }
   ],
   "source": [
    "print(array_2x2x2x3)"
   ]
  },
  {
   "cell_type": "markdown",
   "id": "23f1d505-ee8b-41bc-9b59-ad94a7c00aad",
   "metadata": {},
   "source": [
    "## understaning and changing the shape of arrays"
   ]
  },
  {
   "cell_type": "code",
   "execution_count": 25,
   "id": "c378aadd-ad6e-4a58-a172-141f11792db8",
   "metadata": {},
   "outputs": [],
   "source": [
    "# Create a 4x3 numpy array\n",
    "\n",
    "array_4x3 = np.array([\n",
    "    [1, 2, 3],\n",
    "    [4, 5, 6],\n",
    "    [7, 8, 9],\n",
    "    [10, 11, 12]\n",
    "])"
   ]
  },
  {
   "cell_type": "markdown",
   "id": "946abdae-6c99-4803-b71b-54f41a47c263",
   "metadata": {},
   "source": [
    "we use the np.array() function to create a 4x3 numpy array. The array is constructed by providing a nested list structure, where each inner list represents a row of the array."
   ]
  },
  {
   "cell_type": "code",
   "execution_count": 31,
   "id": "5444da39-80c8-4495-83c3-9569bfc0600d",
   "metadata": {},
   "outputs": [
    {
     "name": "stdout",
     "output_type": "stream",
     "text": [
      "[[ 1  2  3]\n",
      " [ 4  5  6]\n",
      " [ 7  8  9]\n",
      " [10 11 12]]\n"
     ]
    }
   ],
   "source": [
    "print(array_4x3)"
   ]
  },
  {
   "cell_type": "code",
   "execution_count": 28,
   "id": "e8ecabdd-95f0-4bfa-b5c8-dfbaec0d83a1",
   "metadata": {},
   "outputs": [],
   "source": [
    "#Here's a Python code snippet to reshape a given matrix into a 2x2x3 array:\n",
    "reshaped_array = np.reshape(array_4x3,(2,2,3))"
   ]
  },
  {
   "cell_type": "code",
   "execution_count": 29,
   "id": "464f447f-7335-49b2-87f7-726538ab520d",
   "metadata": {},
   "outputs": [
    {
     "name": "stdout",
     "output_type": "stream",
     "text": [
      "[[[ 1  2  3]\n",
      "  [ 4  5  6]]\n",
      "\n",
      " [[ 7  8  9]\n",
      "  [10 11 12]]]\n"
     ]
    }
   ],
   "source": [
    "print(reshaped_array)"
   ]
  },
  {
   "cell_type": "markdown",
   "id": "76b51f89-6d89-4396-ba5e-89c54644f860",
   "metadata": {},
   "source": [
    "## lets investigate our matrix :"
   ]
  },
  {
   "cell_type": "code",
   "execution_count": 32,
   "id": "46147a7d-12b9-4940-a7be-25df42cb7451",
   "metadata": {},
   "outputs": [],
   "source": [
    "sample_array =array_4x3"
   ]
  },
  {
   "cell_type": "code",
   "execution_count": 33,
   "id": "645c7033-f5c3-484f-8632-3a6989638b3a",
   "metadata": {},
   "outputs": [
    {
     "name": "stdout",
     "output_type": "stream",
     "text": [
      "Array:\n",
      "\n",
      "  [[ 1  2  3]\n",
      " [ 4  5  6]\n",
      " [ 7  8  9]\n",
      " [10 11 12]] \n",
      "\n",
      "Shape:  (4, 3)  Number of dimensions:  2  Size:  12  Data type:  int32  Size of each element (in bytes):  4  Total size (in bytes):  48  Minimum value:  1  Maximum value:  12  Mean:  6.5  Sum:  78  Standard deviation:  3.452052529534663  Variance:  11.916666666666666  Index of minimum value:  0  Index of maximum value:  11  Cumulative sum:  [ 1  3  6 10 15 21 28 36 45 55 66 78]  Cumulative product:  [        1         2         6        24       120       720      5040\n",
      "     40320    362880   3628800  39916800 479001600]  \n"
     ]
    }
   ],
   "source": [
    "print(\"Array:\\n\\n \",sample_array, \"\\n\\n\"\n",
    "      \"Shape: \", sample_array.shape, \" \"\n",
    "      \"Number of dimensions: \", sample_array.ndim, \" \"\n",
    "      \"Size: \", sample_array.size, \" \"\n",
    "      \"Data type: \", sample_array.dtype, \" \"\n",
    "      \"Size of each element (in bytes): \", sample_array.itemsize, \" \"\n",
    "      \"Total size (in bytes): \", sample_array.nbytes, \" \"\n",
    "      \"Minimum value: \", sample_array.min(), \" \"\n",
    "      \"Maximum value: \", sample_array.max(), \" \"\n",
    "      \"Mean: \", sample_array.mean(), \" \"\n",
    "      \"Sum: \", sample_array.sum(), \" \"\n",
    "      \"Standard deviation: \", sample_array.std(), \" \"\n",
    "      \"Variance: \", sample_array.var(), \" \"\n",
    "      \"Index of minimum value: \", sample_array.argmin(), \" \"\n",
    "      \"Index of maximum value: \", sample_array.argmax(), \" \"\n",
    "      \"Cumulative sum: \", sample_array.cumsum(), \" \"\n",
    "      \"Cumulative product: \", sample_array.cumprod(), \" \")"
   ]
  },
  {
   "cell_type": "code",
   "execution_count": 34,
   "id": "2b94fcec-1678-46ef-ab39-903023f7fa5b",
   "metadata": {},
   "outputs": [],
   "source": [
    "sample_array =reshaped_array"
   ]
  },
  {
   "cell_type": "code",
   "execution_count": 35,
   "id": "fe4aee68-c6ea-464a-8b46-e607a60e31b6",
   "metadata": {},
   "outputs": [
    {
     "name": "stdout",
     "output_type": "stream",
     "text": [
      "Array:\n",
      "\n",
      "  [[[ 1  2  3]\n",
      "  [ 4  5  6]]\n",
      "\n",
      " [[ 7  8  9]\n",
      "  [10 11 12]]] \n",
      "\n",
      "Shape:  (2, 2, 3)  Number of dimensions:  3  Size:  12  Data type:  int32  Size of each element (in bytes):  4  Total size (in bytes):  48  Minimum value:  1  Maximum value:  12  Mean:  6.5  Sum:  78  Standard deviation:  3.452052529534663  Variance:  11.916666666666666  Index of minimum value:  0  Index of maximum value:  11  Cumulative sum:  [ 1  3  6 10 15 21 28 36 45 55 66 78]  Cumulative product:  [        1         2         6        24       120       720      5040\n",
      "     40320    362880   3628800  39916800 479001600]  \n"
     ]
    }
   ],
   "source": [
    "print(\"Array:\\n\\n \",sample_array, \"\\n\\n\"\n",
    "      \"Shape: \", sample_array.shape, \" \"\n",
    "      \"Number of dimensions: \", sample_array.ndim, \" \"\n",
    "      \"Size: \", sample_array.size, \" \"\n",
    "      \"Data type: \", sample_array.dtype, \" \"\n",
    "      \"Size of each element (in bytes): \", sample_array.itemsize, \" \"\n",
    "      \"Total size (in bytes): \", sample_array.nbytes, \" \"\n",
    "      \"Minimum value: \", sample_array.min(), \" \"\n",
    "      \"Maximum value: \", sample_array.max(), \" \"\n",
    "      \"Mean: \", sample_array.mean(), \" \"\n",
    "      \"Sum: \", sample_array.sum(), \" \"\n",
    "      \"Standard deviation: \", sample_array.std(), \" \"\n",
    "      \"Variance: \", sample_array.var(), \" \"\n",
    "      \"Index of minimum value: \", sample_array.argmin(), \" \"\n",
    "      \"Index of maximum value: \", sample_array.argmax(), \" \"\n",
    "      \"Cumulative sum: \", sample_array.cumsum(), \" \"\n",
    "      \"Cumulative product: \", sample_array.cumprod(), \" \")"
   ]
  },
  {
   "cell_type": "markdown",
   "id": "6f39589c-0fc2-4210-998b-4f6e0aa34963",
   "metadata": {},
   "source": [
    "# Episode 2 : Indexing and slicing arrays"
   ]
  },
  {
   "cell_type": "code",
   "execution_count": 38,
   "id": "2aa18151-d557-4329-80bb-0a7bf4214bea",
   "metadata": {},
   "outputs": [
    {
     "name": "stdout",
     "output_type": "stream",
     "text": [
      "[[13.8749053  11.20814037 14.82149551 11.83478554 14.02210968 12.22044283]\n",
      " [11.05765585 10.62817348 14.07257568 12.75495256 12.57219952 10.98781015]\n",
      " [12.7903794  14.64355707 10.6890274  34.53010675 37.32289233 38.83915319]\n",
      " [30.97499357 31.23371478 33.40125564 38.9277412  31.48978831 37.39928978]\n",
      " [38.8237862  33.77026702 35.8181799  31.97504932 35.34168954 36.01934753]]\n"
     ]
    }
   ],
   "source": [
    "# Generate the first set of numbers between 10 and 15\n",
    "first_set = np.random.uniform(10, 15, size=(15,))\n",
    "\n",
    "# Generate the second set of numbers between 30 and 40\n",
    "second_set = np.random.uniform(30, 40, size=(15,))\n",
    "\n",
    "# Combine the two sets into a single array\n",
    "combined_array = np.concatenate((first_set, second_set))\n",
    "\n",
    "# Reshape the combined array into a 5x6 array\n",
    "final_array = np.reshape(combined_array, (5, 6))\n",
    "\n",
    "# Print the final array\n",
    "print(final_array)"
   ]
  },
  {
   "cell_type": "code",
   "execution_count": 40,
   "id": "3d45ef07-783f-4445-a37a-d4e5bf9eec0c",
   "metadata": {},
   "outputs": [],
   "source": [
    "reshaped=final_array.reshape(5,3,2)"
   ]
  },
  {
   "cell_type": "code",
   "execution_count": 5,
   "id": "c03bc4e0-f4d7-4eaa-ba4e-d13b86d56ff9",
   "metadata": {},
   "outputs": [
    {
     "name": "stdout",
     "output_type": "stream",
     "text": [
      "23.832735229729128\n"
     ]
    }
   ],
   "source": [
    "print(final_array.mean())"
   ]
  },
  {
   "cell_type": "code",
   "execution_count": 8,
   "id": "a92ea291-1a1c-485d-b0d0-3279b2f8ea37",
   "metadata": {},
   "outputs": [
    {
     "data": {
      "text/plain": [
       "array([[13.41888329, 14.26661108, 11.80666864, 14.8825733 , 14.79873229,\n",
       "        11.48750728],\n",
       "       [10.49163264, 13.54144801, 11.62975008, 12.29504824, 13.00157894,\n",
       "        12.40779844]])"
      ]
     },
     "execution_count": 8,
     "metadata": {},
     "output_type": "execute_result"
    }
   ],
   "source": [
    "selectedarr=final_array[0:2]\n",
    "selectedarr"
   ]
  },
  {
   "cell_type": "code",
   "execution_count": 41,
   "id": "fc6dc667-0e88-4f89-b437-9322604ac929",
   "metadata": {},
   "outputs": [
    {
     "data": {
      "text/plain": [
       "array([[[13.8749053 , 11.20814037],\n",
       "        [14.82149551, 11.83478554],\n",
       "        [14.02210968, 12.22044283]],\n",
       "\n",
       "       [[11.05765585, 10.62817348],\n",
       "        [14.07257568, 12.75495256],\n",
       "        [12.57219952, 10.98781015]]])"
      ]
     },
     "execution_count": 41,
     "metadata": {},
     "output_type": "execute_result"
    }
   ],
   "source": [
    "reshaped[0:2]"
   ]
  },
  {
   "cell_type": "code",
   "execution_count": 9,
   "id": "479f6039-3be4-4536-9f01-3bb549815782",
   "metadata": {},
   "outputs": [
    {
     "name": "stdout",
     "output_type": "stream",
     "text": [
      "12.835686020069575\n"
     ]
    }
   ],
   "source": [
    "print(selectedarr.mean())"
   ]
  },
  {
   "cell_type": "code",
   "execution_count": 10,
   "id": "52ec4fd1-4d14-4b86-9216-2e37c28f1de8",
   "metadata": {},
   "outputs": [
    {
     "data": {
      "text/plain": [
       "array([[14.76391498, 10.40514748, 13.85533551, 32.67174898, 32.954441  ,\n",
       "        36.2027074 ],\n",
       "       [37.43437418, 37.11803578, 30.65533848, 39.80075219, 36.31401108,\n",
       "        34.51584982],\n",
       "       [34.40559665, 31.05482347, 35.54242851, 32.42693194, 35.8588378 ,\n",
       "        34.97354943]])"
      ]
     },
     "execution_count": 10,
     "metadata": {},
     "output_type": "execute_result"
    }
   ],
   "source": [
    "final_array[2:]"
   ]
  },
  {
   "cell_type": "code",
   "execution_count": 11,
   "id": "213dbb22-67f6-4713-976d-992342dda33a",
   "metadata": {},
   "outputs": [
    {
     "data": {
      "text/plain": [
       "31.164101369502166"
      ]
     },
     "execution_count": 11,
     "metadata": {},
     "output_type": "execute_result"
    }
   ],
   "source": [
    "final_array[2:].mean()"
   ]
  },
  {
   "cell_type": "code",
   "execution_count": 12,
   "id": "ec9f451a-7008-4749-992b-e05773ad8018",
   "metadata": {},
   "outputs": [
    {
     "data": {
      "text/plain": [
       "35.0083774429229"
      ]
     },
     "execution_count": 12,
     "metadata": {},
     "output_type": "execute_result"
    }
   ],
   "source": [
    "final_array[3:].mean()"
   ]
  },
  {
   "cell_type": "code",
   "execution_count": 42,
   "id": "9e9332a8-5e1b-447b-a383-cc1c646c27c2",
   "metadata": {},
   "outputs": [],
   "source": [
    "    array_3x2x3 = np.array([\n",
    "    [[1, 2, 3],\n",
    "     [4, 5, 6]],\n",
    "\n",
    "    [[7, 8, 9],\n",
    "     [10, 11, 12]],\n",
    "\n",
    "    [[13, 14, 15],\n",
    "     [16, 17, 18]]\n",
    "])"
   ]
  },
  {
   "cell_type": "markdown",
   "id": "0eb5153b-2f17-497b-97ef-f23411072f8b",
   "metadata": {},
   "source": [
    "we use the np.array() function to create a 3x2x3 numpy array. The array is constructed by providing a nested list structure, where each inner list represents a row of the array."
   ]
  },
  {
   "cell_type": "code",
   "execution_count": 43,
   "id": "ce63c346-6386-4f04-9a92-0058043c6cdd",
   "metadata": {},
   "outputs": [
    {
     "data": {
      "text/plain": [
       "array([[1, 2, 3],\n",
       "       [4, 5, 6]])"
      ]
     },
     "execution_count": 43,
     "metadata": {},
     "output_type": "execute_result"
    }
   ],
   "source": [
    "array_3x2x3[0]"
   ]
  },
  {
   "cell_type": "code",
   "execution_count": 15,
   "id": "579ebcc1-e27b-48af-a268-9707355871c6",
   "metadata": {},
   "outputs": [
    {
     "data": {
      "text/plain": [
       "array([[ 7,  8,  9],\n",
       "       [10, 11, 12]])"
      ]
     },
     "execution_count": 15,
     "metadata": {},
     "output_type": "execute_result"
    }
   ],
   "source": [
    "array_3x2x3[1]"
   ]
  },
  {
   "cell_type": "code",
   "execution_count": 44,
   "id": "4ece529e-082b-47da-a4d4-8e32c67ef8cc",
   "metadata": {},
   "outputs": [
    {
     "data": {
      "text/plain": [
       "array([7, 8, 9])"
      ]
     },
     "execution_count": 44,
     "metadata": {},
     "output_type": "execute_result"
    }
   ],
   "source": [
    "array_3x2x3[1][0]"
   ]
  },
  {
   "cell_type": "code",
   "execution_count": 45,
   "id": "f9ed629b-85fd-4ef2-831c-4ae5538a7c8d",
   "metadata": {},
   "outputs": [
    {
     "data": {
      "text/plain": [
       "8"
      ]
     },
     "execution_count": 45,
     "metadata": {},
     "output_type": "execute_result"
    }
   ],
   "source": [
    "array_3x2x3[1][0][1]"
   ]
  },
  {
   "cell_type": "code",
   "execution_count": 23,
   "id": "ab781d87-9991-483c-8b18-856b00b8746f",
   "metadata": {},
   "outputs": [
    {
     "data": {
      "text/plain": [
       "array([[ 7,  8,  9, 10, 11, 12],\n",
       "       [13, 14, 15, 16, 17, 18]])"
      ]
     },
     "execution_count": 23,
     "metadata": {},
     "output_type": "execute_result"
    }
   ],
   "source": [
    "np.reshape(array_3x2x3[1:],(2,6))"
   ]
  },
  {
   "cell_type": "code",
   "execution_count": 47,
   "id": "f76c7b7e-abac-4e3f-86aa-f6deb694d344",
   "metadata": {},
   "outputs": [
    {
     "data": {
      "text/plain": [
       "array([ 2,  4,  6,  8, 10, 12, 14, 16, 18])"
      ]
     },
     "execution_count": 47,
     "metadata": {},
     "output_type": "execute_result"
    }
   ],
   "source": [
    "array_3x2x3[ (array_3x2x3%2==0) ]"
   ]
  },
  {
   "cell_type": "code",
   "execution_count": 48,
   "id": "112b2852-2856-4f89-9a8d-f9f188fa55c3",
   "metadata": {},
   "outputs": [],
   "source": [
    "condition=array_3x2x3>6"
   ]
  },
  {
   "cell_type": "code",
   "execution_count": 49,
   "id": "8385fc80-71e2-4886-b081-d13e9fab5a5d",
   "metadata": {},
   "outputs": [
    {
     "data": {
      "text/plain": [
       "array([ 7,  8,  9, 10, 11, 12, 13, 14, 15, 16, 17, 18])"
      ]
     },
     "execution_count": 49,
     "metadata": {},
     "output_type": "execute_result"
    }
   ],
   "source": [
    "array_3x2x3[ condition ]"
   ]
  },
  {
   "cell_type": "code",
   "execution_count": 52,
   "id": "2a3bb8b4-61d6-4cff-bf1a-cf9a0c953100",
   "metadata": {},
   "outputs": [
    {
     "data": {
      "text/plain": [
       "array([ 8, 10, 12])"
      ]
     },
     "execution_count": 52,
     "metadata": {},
     "output_type": "execute_result"
    }
   ],
   "source": [
    "array_3x2x3[1][ array_3x2x3[1]%2==0 ]"
   ]
  },
  {
   "cell_type": "code",
   "execution_count": 53,
   "id": "fc33836a-522b-4607-8363-b92366a27cf3",
   "metadata": {},
   "outputs": [
    {
     "data": {
      "text/plain": [
       "array([[False,  True, False],\n",
       "       [ True, False,  True]])"
      ]
     },
     "execution_count": 53,
     "metadata": {},
     "output_type": "execute_result"
    }
   ],
   "source": [
    "array_3x2x3[1]%2==0"
   ]
  },
  {
   "cell_type": "markdown",
   "id": "53980468-a4db-457c-826a-19485f8676f7",
   "metadata": {},
   "source": [
    "## Understanding selection method where"
   ]
  },
  {
   "cell_type": "code",
   "execution_count": 54,
   "id": "ea2654b0-b2ce-4a39-8230-f391d491903b",
   "metadata": {},
   "outputs": [],
   "source": [
    "# Create a sample 3-dimensional numpy array\n",
    "array = np.array([\n",
    "    [[1, 2, 3],\n",
    "     [4, 5, 6]],\n",
    "\n",
    "    [[7, 8, 9],\n",
    "     [10, 11, 12]]\n",
    "])"
   ]
  },
  {
   "cell_type": "code",
   "execution_count": 56,
   "id": "65dfbb7d-8777-4004-a339-e99c9a691b24",
   "metadata": {},
   "outputs": [
    {
     "data": {
      "text/plain": [
       "array([[[ 1,  2,  3],\n",
       "        [ 4,  5,  6]],\n",
       "\n",
       "       [[ 7,  8,  9],\n",
       "        [10, 11, 12]]])"
      ]
     },
     "execution_count": 56,
     "metadata": {},
     "output_type": "execute_result"
    }
   ],
   "source": [
    "array"
   ]
  },
  {
   "cell_type": "code",
   "execution_count": 59,
   "id": "794c9878-40f9-4bbb-b888-851e0d07f615",
   "metadata": {},
   "outputs": [
    {
     "data": {
      "text/plain": [
       "array([[[False, False, False],\n",
       "        [False, False,  True]],\n",
       "\n",
       "       [[ True,  True,  True],\n",
       "        [ True,  True,  True]]])"
      ]
     },
     "execution_count": 59,
     "metadata": {},
     "output_type": "execute_result"
    }
   ],
   "source": [
    "condition = (array > 5)\n",
    "condition"
   ]
  },
  {
   "cell_type": "code",
   "execution_count": 62,
   "id": "fd38fadb-c44d-403b-9102-6a12b8291ed3",
   "metadata": {},
   "outputs": [],
   "source": [
    "# Create two arrays to select elements from\n",
    "array_x = np.array([100, 300,400])\n",
    "array_y = np.array([1000, 3000,4000])"
   ]
  },
  {
   "cell_type": "code",
   "execution_count": 63,
   "id": "f3dab6bb-7a86-40b3-8147-8e5bf0395d7e",
   "metadata": {},
   "outputs": [],
   "source": [
    "selected_elements = np.where(condition, array_x, array_y)"
   ]
  },
  {
   "cell_type": "code",
   "execution_count": 45,
   "id": "edf734de-da5c-4dcd-ae87-0387b7c0ef9f",
   "metadata": {},
   "outputs": [
    {
     "data": {
      "text/plain": [
       "array([[[1000, 2000, 3000],\n",
       "        [1000, 2000,  300]],\n",
       "\n",
       "       [[ 100,  200,  300],\n",
       "        [ 100,  200,  300]]])"
      ]
     },
     "execution_count": 45,
     "metadata": {},
     "output_type": "execute_result"
    }
   ],
   "source": [
    "selected_elements"
   ]
  },
  {
   "cell_type": "code",
   "execution_count": 49,
   "id": "bcfe556b-5a4a-40e5-82f0-bb4b99245c1d",
   "metadata": {},
   "outputs": [],
   "source": [
    "# Create a sample 3-dimensional numpy array\n",
    "array2= np.array([\n",
    "    [[1, 2, 3, 5],\n",
    "     [4, 5, 6 ,2]],\n",
    "\n",
    "    [[7, 8, 9,4],\n",
    "     [10, 11, 12,3]]\n",
    "])"
   ]
  },
  {
   "cell_type": "code",
   "execution_count": 51,
   "id": "9e83abde-f936-4d7b-9088-89d298029a54",
   "metadata": {},
   "outputs": [
    {
     "data": {
      "text/plain": [
       "array([[[False, False, False, False],\n",
       "        [False, False,  True, False]],\n",
       "\n",
       "       [[ True,  True,  True, False],\n",
       "        [ True,  True,  True, False]]])"
      ]
     },
     "execution_count": 51,
     "metadata": {},
     "output_type": "execute_result"
    }
   ],
   "source": [
    "condition2 = (array2 > 5)\n",
    "condition2"
   ]
  },
  {
   "cell_type": "code",
   "execution_count": 52,
   "id": "7d9aad80-6d83-49ff-b5db-62328945cb5e",
   "metadata": {},
   "outputs": [
    {
     "ename": "ValueError",
     "evalue": "operands could not be broadcast together with shapes (2,2,4) (3,) (3,) ",
     "output_type": "error",
     "traceback": [
      "\u001b[1;31m---------------------------------------------------------------------------\u001b[0m",
      "\u001b[1;31mValueError\u001b[0m                                Traceback (most recent call last)",
      "Input \u001b[1;32mIn [52]\u001b[0m, in \u001b[0;36m<cell line: 1>\u001b[1;34m()\u001b[0m\n\u001b[1;32m----> 1\u001b[0m selected_elements2 \u001b[38;5;241m=\u001b[39m \u001b[43mnp\u001b[49m\u001b[38;5;241;43m.\u001b[39;49m\u001b[43mwhere\u001b[49m\u001b[43m(\u001b[49m\u001b[43mcondition2\u001b[49m\u001b[43m,\u001b[49m\u001b[43m \u001b[49m\u001b[43marray_x\u001b[49m\u001b[43m,\u001b[49m\u001b[43m \u001b[49m\u001b[43marray_y\u001b[49m\u001b[43m)\u001b[49m\n",
      "File \u001b[1;32m<__array_function__ internals>:5\u001b[0m, in \u001b[0;36mwhere\u001b[1;34m(*args, **kwargs)\u001b[0m\n",
      "\u001b[1;31mValueError\u001b[0m: operands could not be broadcast together with shapes (2,2,4) (3,) (3,) "
     ]
    }
   ],
   "source": [
    "selected_elements2 = np.where(condition2, array_x, array_y)"
   ]
  },
  {
   "cell_type": "code",
   "execution_count": 53,
   "id": "3c9bbfc7-f1ee-4497-afac-abf7ba22271d",
   "metadata": {},
   "outputs": [],
   "source": [
    "# Create a sample 3-dimensional numpy array\n",
    "array3= np.array([\n",
    "    [[1, 2, 3, 5],\n",
    "     [2, 5, 6 ,3]],\n",
    "\n",
    "    [[7, 6, 2,4],\n",
    "     [10, 11, 12,3]]\n",
    "])"
   ]
  },
  {
   "cell_type": "code",
   "execution_count": 54,
   "id": "ba939fb8-d592-49b0-9e6e-316281bd17ca",
   "metadata": {},
   "outputs": [
    {
     "data": {
      "text/plain": [
       "array([ 1,  2,  3,  4,  5,  6,  7, 10, 11, 12])"
      ]
     },
     "execution_count": 54,
     "metadata": {},
     "output_type": "execute_result"
    }
   ],
   "source": [
    "np.unique(array3)"
   ]
  },
  {
   "cell_type": "markdown",
   "id": "f282740e-5d8b-4c0b-8631-097b0201e6b1",
   "metadata": {},
   "source": [
    "### Interaction between arrays"
   ]
  },
  {
   "cell_type": "markdown",
   "id": "4a07abe5-c887-4a22-a00f-aaac7cc7203e",
   "metadata": {},
   "source": [
    "## Element wise methods"
   ]
  },
  {
   "cell_type": "code",
   "execution_count": 5,
   "id": "e0d7df0b-0beb-465b-beaf-a1db899d55f2",
   "metadata": {},
   "outputs": [
    {
     "data": {
      "text/plain": [
       "array([[ 1,  2,  3,  4],\n",
       "       [ 5,  6,  7,  8],\n",
       "       [ 9, 10, 11, 12],\n",
       "       [13, 14, 15, 16]])"
      ]
     },
     "execution_count": 5,
     "metadata": {},
     "output_type": "execute_result"
    }
   ],
   "source": [
    "arr = np.array([[1, 2, 3, 4],\n",
    "                [5, 6, 7, 8],\n",
    "                [9, 10, 11, 12],\n",
    "                [13, 14, 15, 16]])\n",
    "arr"
   ]
  },
  {
   "cell_type": "code",
   "execution_count": 6,
   "id": "abbef4f1-5662-4a62-9e66-5f2db523ba79",
   "metadata": {},
   "outputs": [
    {
     "data": {
      "text/plain": [
       "array([[ 6,  7,  8,  9],\n",
       "       [10, 11, 12, 13],\n",
       "       [14, 15, 16, 17],\n",
       "       [18, 19, 20, 21]])"
      ]
     },
     "execution_count": 6,
     "metadata": {},
     "output_type": "execute_result"
    }
   ],
   "source": [
    "arr + 5"
   ]
  },
  {
   "cell_type": "code",
   "execution_count": 7,
   "id": "5e0de2e6-1077-4c0a-900e-dcf253b61357",
   "metadata": {},
   "outputs": [
    {
     "data": {
      "text/plain": [
       "array([[-1,  0,  1,  2],\n",
       "       [ 3,  4,  5,  6],\n",
       "       [ 7,  8,  9, 10],\n",
       "       [11, 12, 13, 14]])"
      ]
     },
     "execution_count": 7,
     "metadata": {},
     "output_type": "execute_result"
    }
   ],
   "source": [
    "arr - 2"
   ]
  },
  {
   "cell_type": "code",
   "execution_count": 8,
   "id": "7ed5d443-1615-46f5-ae82-b95f4dbf9f01",
   "metadata": {},
   "outputs": [
    {
     "data": {
      "text/plain": [
       "array([[ 3,  6,  9, 12],\n",
       "       [15, 18, 21, 24],\n",
       "       [27, 30, 33, 36],\n",
       "       [39, 42, 45, 48]])"
      ]
     },
     "execution_count": 8,
     "metadata": {},
     "output_type": "execute_result"
    }
   ],
   "source": [
    "arr * 3"
   ]
  },
  {
   "cell_type": "code",
   "execution_count": 9,
   "id": "12f909f4-31f7-4bde-aa96-338313b4473b",
   "metadata": {},
   "outputs": [
    {
     "data": {
      "text/plain": [
       "array([[0.25, 0.5 , 0.75, 1.  ],\n",
       "       [1.25, 1.5 , 1.75, 2.  ],\n",
       "       [2.25, 2.5 , 2.75, 3.  ],\n",
       "       [3.25, 3.5 , 3.75, 4.  ]])"
      ]
     },
     "execution_count": 9,
     "metadata": {},
     "output_type": "execute_result"
    }
   ],
   "source": [
    "arr / 4"
   ]
  },
  {
   "cell_type": "code",
   "execution_count": 10,
   "id": "2f0072bd-a143-4f21-9f0a-eaeaedf43861",
   "metadata": {},
   "outputs": [
    {
     "data": {
      "text/plain": [
       "array([[  1,   4,   9,  16],\n",
       "       [ 25,  36,  49,  64],\n",
       "       [ 81, 100, 121, 144],\n",
       "       [169, 196, 225, 256]], dtype=int32)"
      ]
     },
     "execution_count": 10,
     "metadata": {},
     "output_type": "execute_result"
    }
   ],
   "source": [
    "np.power(arr, 2)"
   ]
  },
  {
   "cell_type": "code",
   "execution_count": 11,
   "id": "c1a6ef71-dcbd-4665-ae5f-c13e17d8a991",
   "metadata": {},
   "outputs": [
    {
     "data": {
      "text/plain": [
       "array([[1, 2, 0, 1],\n",
       "       [2, 0, 1, 2],\n",
       "       [0, 1, 2, 0],\n",
       "       [1, 2, 0, 1]], dtype=int32)"
      ]
     },
     "execution_count": 11,
     "metadata": {},
     "output_type": "execute_result"
    }
   ],
   "source": [
    "np.remainder(arr, 3)"
   ]
  },
  {
   "cell_type": "code",
   "execution_count": 15,
   "id": "a2318eb7-9e06-4d3f-97f6-f9878b222819",
   "metadata": {},
   "outputs": [
    {
     "data": {
      "text/plain": [
       "array([[20,  8,  3,  7],\n",
       "       [20,  8,  7,  8],\n",
       "       [20, 10, 11, 12],\n",
       "       [20, 14, 15, 16]])"
      ]
     },
     "execution_count": 15,
     "metadata": {},
     "output_type": "execute_result"
    }
   ],
   "source": [
    "np.maximum(arr, [20, 8, 1, 7])"
   ]
  },
  {
   "cell_type": "code",
   "execution_count": 16,
   "id": "59ff0c1a-1665-40f2-90fb-63bada2b4324",
   "metadata": {},
   "outputs": [
    {
     "data": {
      "text/plain": [
       "array([[ 1,  2,  3,  4],\n",
       "       [ 3,  6,  7,  8],\n",
       "       [ 3,  6,  9, 12],\n",
       "       [ 3,  6,  9, 12]])"
      ]
     },
     "execution_count": 16,
     "metadata": {},
     "output_type": "execute_result"
    }
   ],
   "source": [
    "np.minimum(arr, [3, 6, 9, 12])"
   ]
  },
  {
   "cell_type": "code",
   "execution_count": 2,
   "id": "5dc5117c-2e82-421c-8304-765688151674",
   "metadata": {},
   "outputs": [
    {
     "name": "stdout",
     "output_type": "stream",
     "text": [
      "[[  7   8   9  10  11  12]\n",
      " [ 14  16  18  20  22  24]\n",
      " [ 21  24  27  30  33  36]\n",
      " [  0   0   0   0   0   0]\n",
      " [ 35  40  45  50  55  60]\n",
      " [ 70  80  90 100 110 120]]\n"
     ]
    }
   ],
   "source": [
    "import numpy as np\n",
    "\n",
    "# Create two two-dimensional arrays\n",
    "arr1 = np.array([[1, 2, 3],\n",
    "                 [0, 5, 10]])\n",
    "\n",
    "arr2 = np.array([[7, 8],\n",
    "                 [9, 10],\n",
    "                 [11, 12]])\n",
    "\n",
    "# Perform outer product using np.outer\n",
    "result = np.outer(arr1, arr2)\n",
    "\n",
    "# Print the result\n",
    "print(result)"
   ]
  },
  {
   "cell_type": "markdown",
   "id": "7d75f289-19fc-43d8-88a0-fec52d11ae13",
   "metadata": {},
   "source": [
    "## Array Manipulation:"
   ]
  },
  {
   "cell_type": "code",
   "execution_count": 64,
   "id": "57376185-869a-490f-aa77-18149118a0a5",
   "metadata": {},
   "outputs": [],
   "source": [
    "arr1=np.array([[ 1,  2,  3,  4],\n",
    "       [ 3,  6,  7,  8],\n",
    "       [ 3,  6,  9, 12],\n",
    "       [ 3,  6,  9, 12]])"
   ]
  },
  {
   "cell_type": "code",
   "execution_count": 65,
   "id": "88fa209a-a81d-4bfb-937b-454b53988bdf",
   "metadata": {},
   "outputs": [],
   "source": [
    "arr2=np.array([[ 3,  6,  9, 12],\n",
    "       [15, 18, 21, 24],\n",
    "       [27, 30, 33, 36],\n",
    "       [39, 42, 45, 48]])"
   ]
  },
  {
   "cell_type": "code",
   "execution_count": 21,
   "id": "3520b08a-ca2e-41eb-b92d-24820a1f4a95",
   "metadata": {},
   "outputs": [
    {
     "data": {
      "text/plain": [
       "array([[ 1,  2,  3,  4],\n",
       "       [ 3,  6,  7,  8],\n",
       "       [ 3,  6,  9, 12],\n",
       "       [ 3,  6,  9, 12],\n",
       "       [ 3,  6,  9, 12],\n",
       "       [15, 18, 21, 24],\n",
       "       [27, 30, 33, 36],\n",
       "       [39, 42, 45, 48]])"
      ]
     },
     "execution_count": 21,
     "metadata": {},
     "output_type": "execute_result"
    }
   ],
   "source": [
    "#Concatenate\n",
    "np.concatenate((arr1, arr2), axis=0)"
   ]
  },
  {
   "cell_type": "code",
   "execution_count": 22,
   "id": "6b392ea4-b5d6-4261-9936-6b09100ad93f",
   "metadata": {},
   "outputs": [
    {
     "data": {
      "text/plain": [
       "array([[ 1,  2,  3,  4,  3,  6,  9, 12],\n",
       "       [ 3,  6,  7,  8, 15, 18, 21, 24],\n",
       "       [ 3,  6,  9, 12, 27, 30, 33, 36],\n",
       "       [ 3,  6,  9, 12, 39, 42, 45, 48]])"
      ]
     },
     "execution_count": 22,
     "metadata": {},
     "output_type": "execute_result"
    }
   ],
   "source": [
    "np.concatenate((arr1, arr2), axis=1)"
   ]
  },
  {
   "cell_type": "code",
   "execution_count": 68,
   "id": "cff61af2-a5ec-4aab-8689-580d455d05d3",
   "metadata": {},
   "outputs": [],
   "source": [
    "#Stack\n",
    "xstack=np.stack((arr1, arr2), axis=1)"
   ]
  },
  {
   "cell_type": "code",
   "execution_count": 69,
   "id": "ccef6747-d2d3-4c16-b949-1410fade50ad",
   "metadata": {},
   "outputs": [
    {
     "data": {
      "text/plain": [
       "(4, 2, 4)"
      ]
     },
     "execution_count": 69,
     "metadata": {},
     "output_type": "execute_result"
    }
   ],
   "source": [
    "xstack.shape"
   ]
  },
  {
   "cell_type": "code",
   "execution_count": 66,
   "id": "ceb52109-c34d-4cc2-9773-c9629f3916f3",
   "metadata": {},
   "outputs": [],
   "source": [
    "stackarray=np.stack((arr1, arr2), axis=0)"
   ]
  },
  {
   "cell_type": "code",
   "execution_count": 67,
   "id": "5ad89bf6-4050-4323-913f-83a1c251dbca",
   "metadata": {},
   "outputs": [
    {
     "data": {
      "text/plain": [
       "(2, 4, 4)"
      ]
     },
     "execution_count": 67,
     "metadata": {},
     "output_type": "execute_result"
    }
   ],
   "source": [
    "stackarray.shape"
   ]
  },
  {
   "cell_type": "code",
   "execution_count": 26,
   "id": "d83f7ef6-4b3d-432e-bce5-70a32e3b4182",
   "metadata": {},
   "outputs": [
    {
     "data": {
      "text/plain": [
       "array([[ 1,  2,  3,  4],\n",
       "       [ 3,  6,  7,  8],\n",
       "       [ 3,  6,  9, 12],\n",
       "       [ 3,  6,  9, 12],\n",
       "       [ 3,  6,  9, 12],\n",
       "       [15, 18, 21, 24],\n",
       "       [27, 30, 33, 36],\n",
       "       [39, 42, 45, 48]])"
      ]
     },
     "execution_count": 26,
     "metadata": {},
     "output_type": "execute_result"
    }
   ],
   "source": [
    "np.vstack((arr1, arr2))"
   ]
  },
  {
   "cell_type": "code",
   "execution_count": 27,
   "id": "7bd397a0-7462-4c75-9dc8-0e76451dd8fd",
   "metadata": {},
   "outputs": [
    {
     "data": {
      "text/plain": [
       "array([[ 1,  2,  3,  4,  3,  6,  9, 12],\n",
       "       [ 3,  6,  7,  8, 15, 18, 21, 24],\n",
       "       [ 3,  6,  9, 12, 27, 30, 33, 36],\n",
       "       [ 3,  6,  9, 12, 39, 42, 45, 48]])"
      ]
     },
     "execution_count": 27,
     "metadata": {},
     "output_type": "execute_result"
    }
   ],
   "source": [
    "np.hstack((arr1, arr2))"
   ]
  },
  {
   "cell_type": "code",
   "execution_count": 29,
   "id": "55b0ebea-7a66-4107-9b1f-5eaa028daf09",
   "metadata": {},
   "outputs": [
    {
     "name": "stdout",
     "output_type": "stream",
     "text": [
      "[[1 4]\n",
      " [2 5]\n",
      " [3 6]]\n"
     ]
    }
   ],
   "source": [
    "arr1 = np.array([1, 2, 3])\n",
    "arr2 = np.array([4, 5, 6])\n",
    "result = np.column_stack((arr1, arr2))\n",
    "print(result)"
   ]
  },
  {
   "cell_type": "code",
   "execution_count": 41,
   "id": "7e2f95b5-4a69-47fd-b680-0c55c3939258",
   "metadata": {},
   "outputs": [],
   "source": [
    "arr = np.array([[1, 2, 3, 4],\n",
    "                [5, 6, 7, 8],\n",
    "                [9, 10, 11, 12],\n",
    "                [13, 14, 15, 16]])\n",
    "\n",
    "result1, result2 = np.vsplit(arr, 2)"
   ]
  },
  {
   "cell_type": "code",
   "execution_count": 38,
   "id": "c4a65649-6eeb-4b32-a193-7832f87db725",
   "metadata": {},
   "outputs": [
    {
     "name": "stdout",
     "output_type": "stream",
     "text": [
      "First split:\n",
      "[[1 2 3 4]\n",
      " [5 6 7 8]]\n",
      "\n",
      "Second split:\n",
      "[[ 9 10 11 12]\n",
      " [13 14 15 16]]\n"
     ]
    }
   ],
   "source": [
    "print(\"First split:\")\n",
    "print(result1)\n",
    "print(\"\\nSecond split:\")\n",
    "print(result2)"
   ]
  },
  {
   "cell_type": "code",
   "execution_count": 42,
   "id": "5154f70f-89eb-4e06-9b2f-caa15cec94df",
   "metadata": {},
   "outputs": [
    {
     "ename": "ValueError",
     "evalue": "array split does not result in an equal division",
     "output_type": "error",
     "traceback": [
      "\u001b[1;31m---------------------------------------------------------------------------\u001b[0m",
      "\u001b[1;31mValueError\u001b[0m                                Traceback (most recent call last)",
      "Input \u001b[1;32mIn [42]\u001b[0m, in \u001b[0;36m<cell line: 1>\u001b[1;34m()\u001b[0m\n\u001b[1;32m----> 1\u001b[0m result1, result2,result3 \u001b[38;5;241m=\u001b[39m \u001b[43mnp\u001b[49m\u001b[38;5;241;43m.\u001b[39;49m\u001b[43mvsplit\u001b[49m\u001b[43m(\u001b[49m\u001b[43marr\u001b[49m\u001b[43m,\u001b[49m\u001b[43m \u001b[49m\u001b[38;5;241;43m3\u001b[39;49m\u001b[43m)\u001b[49m\n",
      "File \u001b[1;32m<__array_function__ internals>:5\u001b[0m, in \u001b[0;36mvsplit\u001b[1;34m(*args, **kwargs)\u001b[0m\n",
      "File \u001b[1;32m~\\anaconda3\\lib\\site-packages\\numpy\\lib\\shape_base.py:991\u001b[0m, in \u001b[0;36mvsplit\u001b[1;34m(ary, indices_or_sections)\u001b[0m\n\u001b[0;32m    989\u001b[0m \u001b[38;5;28;01mif\u001b[39;00m _nx\u001b[38;5;241m.\u001b[39mndim(ary) \u001b[38;5;241m<\u001b[39m \u001b[38;5;241m2\u001b[39m:\n\u001b[0;32m    990\u001b[0m     \u001b[38;5;28;01mraise\u001b[39;00m \u001b[38;5;167;01mValueError\u001b[39;00m(\u001b[38;5;124m'\u001b[39m\u001b[38;5;124mvsplit only works on arrays of 2 or more dimensions\u001b[39m\u001b[38;5;124m'\u001b[39m)\n\u001b[1;32m--> 991\u001b[0m \u001b[38;5;28;01mreturn\u001b[39;00m \u001b[43msplit\u001b[49m\u001b[43m(\u001b[49m\u001b[43mary\u001b[49m\u001b[43m,\u001b[49m\u001b[43m \u001b[49m\u001b[43mindices_or_sections\u001b[49m\u001b[43m,\u001b[49m\u001b[43m \u001b[49m\u001b[38;5;241;43m0\u001b[39;49m\u001b[43m)\u001b[49m\n",
      "File \u001b[1;32m<__array_function__ internals>:5\u001b[0m, in \u001b[0;36msplit\u001b[1;34m(*args, **kwargs)\u001b[0m\n",
      "File \u001b[1;32m~\\anaconda3\\lib\\site-packages\\numpy\\lib\\shape_base.py:872\u001b[0m, in \u001b[0;36msplit\u001b[1;34m(ary, indices_or_sections, axis)\u001b[0m\n\u001b[0;32m    870\u001b[0m     N \u001b[38;5;241m=\u001b[39m ary\u001b[38;5;241m.\u001b[39mshape[axis]\n\u001b[0;32m    871\u001b[0m     \u001b[38;5;28;01mif\u001b[39;00m N \u001b[38;5;241m%\u001b[39m sections:\n\u001b[1;32m--> 872\u001b[0m         \u001b[38;5;28;01mraise\u001b[39;00m \u001b[38;5;167;01mValueError\u001b[39;00m(\n\u001b[0;32m    873\u001b[0m             \u001b[38;5;124m'\u001b[39m\u001b[38;5;124marray split does not result in an equal division\u001b[39m\u001b[38;5;124m'\u001b[39m) \u001b[38;5;28;01mfrom\u001b[39;00m \u001b[38;5;28mNone\u001b[39m\n\u001b[0;32m    874\u001b[0m \u001b[38;5;28;01mreturn\u001b[39;00m array_split(ary, indices_or_sections, axis)\n",
      "\u001b[1;31mValueError\u001b[0m: array split does not result in an equal division"
     ]
    }
   ],
   "source": [
    "result1, result2,result3 = np.vsplit(arr, 3)"
   ]
  },
  {
   "cell_type": "code",
   "execution_count": 43,
   "id": "69743ae4-1752-4b39-a48f-9f4bd4623219",
   "metadata": {},
   "outputs": [],
   "source": [
    "result1, result2,result3,result4 = np.vsplit(arr, 4)"
   ]
  },
  {
   "cell_type": "code",
   "execution_count": 44,
   "id": "73ef18e9-38ab-4103-a6d0-733a6587f830",
   "metadata": {},
   "outputs": [
    {
     "data": {
      "text/plain": [
       "array([[13, 14, 15, 16]])"
      ]
     },
     "execution_count": 44,
     "metadata": {},
     "output_type": "execute_result"
    }
   ],
   "source": [
    "result4"
   ]
  },
  {
   "cell_type": "code",
   "execution_count": 45,
   "id": "6740f9f3-5d5b-48f5-9027-489101cb5833",
   "metadata": {},
   "outputs": [
    {
     "data": {
      "text/plain": [
       "array([[ 9, 10, 11, 12]])"
      ]
     },
     "execution_count": 45,
     "metadata": {},
     "output_type": "execute_result"
    }
   ],
   "source": [
    "result3"
   ]
  },
  {
   "cell_type": "markdown",
   "id": "55f9af01-8770-4a91-aabd-d21705b4fff6",
   "metadata": {},
   "source": [
    "## Reduction Operations"
   ]
  },
  {
   "cell_type": "code",
   "execution_count": 46,
   "id": "9b56cff8-9cbb-409f-bc6e-3ad860246358",
   "metadata": {},
   "outputs": [
    {
     "name": "stdout",
     "output_type": "stream",
     "text": [
      "21\n"
     ]
    }
   ],
   "source": [
    "arr = np.array([[1, 2, 3],\n",
    "                [4, 5, 6]])\n",
    "\n",
    "result = np.sum(arr)\n",
    "\n",
    "print(result)"
   ]
  },
  {
   "cell_type": "code",
   "execution_count": 47,
   "id": "edc308a2-2ce1-4904-b12e-bc639131a95e",
   "metadata": {},
   "outputs": [
    {
     "name": "stdout",
     "output_type": "stream",
     "text": [
      "24\n"
     ]
    }
   ],
   "source": [
    "arr = np.array([2, 3, 4])\n",
    "\n",
    "result = np.prod(arr)\n",
    "\n",
    "print(result)"
   ]
  },
  {
   "cell_type": "code",
   "execution_count": 49,
   "id": "3d2dfde1-62a5-4dd8-be69-c86e1ba03f5a",
   "metadata": {},
   "outputs": [
    {
     "data": {
      "text/plain": [
       "3.0"
      ]
     },
     "execution_count": 49,
     "metadata": {},
     "output_type": "execute_result"
    }
   ],
   "source": [
    "arr = np.array([1, 2, 3, 4, 5])\n",
    "\n",
    "result = np.mean(arr)\n",
    "result"
   ]
  },
  {
   "cell_type": "code",
   "execution_count": 50,
   "id": "dec6a7da-6373-46a7-a959-82ad61b98bbd",
   "metadata": {},
   "outputs": [
    {
     "name": "stdout",
     "output_type": "stream",
     "text": [
      "3.0\n"
     ]
    }
   ],
   "source": [
    "arr = np.array([4, 2, 1, 5, 3])\n",
    "\n",
    "result = np.median(arr)\n",
    "\n",
    "print(result)"
   ]
  },
  {
   "cell_type": "code",
   "execution_count": 51,
   "id": "3bebfc39-27f6-4be5-816d-7fc0b66d6dcc",
   "metadata": {},
   "outputs": [
    {
     "name": "stdout",
     "output_type": "stream",
     "text": [
      "1\n"
     ]
    }
   ],
   "source": [
    "arr = np.array([5, 3, 8, 1, 6])\n",
    "\n",
    "result = np.min(arr)\n",
    "\n",
    "print(result)"
   ]
  },
  {
   "cell_type": "code",
   "execution_count": 52,
   "id": "cd976400-4547-4d9c-9346-bfec25ad549d",
   "metadata": {},
   "outputs": [
    {
     "name": "stdout",
     "output_type": "stream",
     "text": [
      "8\n"
     ]
    }
   ],
   "source": [
    "arr = np.array([5, 3, 8, 1, 6])\n",
    "\n",
    "result = np.max(arr)\n",
    "\n",
    "print(result)"
   ]
  },
  {
   "cell_type": "code",
   "execution_count": 53,
   "id": "7951f30f-7c61-402e-965d-9c8ddbdecc9b",
   "metadata": {},
   "outputs": [
    {
     "name": "stdout",
     "output_type": "stream",
     "text": [
      "3\n"
     ]
    }
   ],
   "source": [
    "arr = np.array([5, 3, 8, 1, 6])\n",
    "\n",
    "result = np.argmin(arr)\n",
    "\n",
    "print(result)"
   ]
  },
  {
   "cell_type": "code",
   "execution_count": 54,
   "id": "6d5352a1-6423-449d-b8fe-0cf7ad320f24",
   "metadata": {},
   "outputs": [
    {
     "name": "stdout",
     "output_type": "stream",
     "text": [
      "2\n"
     ]
    }
   ],
   "source": [
    "arr = np.array([5, 3, 8, 1, 6])\n",
    "\n",
    "result = np.argmax(arr)\n",
    "\n",
    "print(result)"
   ]
  },
  {
   "cell_type": "code",
   "execution_count": 55,
   "id": "007946af-68f5-4fbe-9276-b98f66598b69",
   "metadata": {},
   "outputs": [
    {
     "name": "stdout",
     "output_type": "stream",
     "text": [
      "2.0\n"
     ]
    }
   ],
   "source": [
    "arr = np.array([1, 2, 3, 4, 5])\n",
    "\n",
    "result = np.var(arr)\n",
    "\n",
    "print(result)"
   ]
  },
  {
   "cell_type": "code",
   "execution_count": 56,
   "id": "d52aa139-2435-4ee4-b289-c47ae9c68869",
   "metadata": {},
   "outputs": [
    {
     "name": "stdout",
     "output_type": "stream",
     "text": [
      "1.4142135623730951\n"
     ]
    }
   ],
   "source": [
    "arr = np.array([1, 2, 3, 4, 5])\n",
    "\n",
    "result = np.std(arr)\n",
    "\n",
    "print(result)"
   ]
  },
  {
   "cell_type": "markdown",
   "id": "1a9c5c90-1cf8-43fa-84b7-d55407efe92d",
   "metadata": {},
   "source": [
    "##  Linear Algebra"
   ]
  },
  {
   "cell_type": "markdown",
   "id": "41ed8771-a1b7-4e87-b719-956710d43a5f",
   "metadata": {},
   "source": [
    "#### np.dot(): Computes the dot product of two arrays."
   ]
  },
  {
   "cell_type": "code",
   "execution_count": 57,
   "id": "bd1848a0-9138-497a-a2f4-a27dfb8e42e0",
   "metadata": {},
   "outputs": [
    {
     "name": "stdout",
     "output_type": "stream",
     "text": [
      "32\n"
     ]
    }
   ],
   "source": [
    "arr1 = np.array([1, 2, 3])\n",
    "arr2 = np.array([4, 5, 6])\n",
    "\n",
    "result = np.dot(arr1, arr2)\n",
    "\n",
    "print(result)"
   ]
  },
  {
   "cell_type": "markdown",
   "id": "80ec2534-10f1-4a49-ba7e-319f58e7deba",
   "metadata": {},
   "source": [
    "#### np.matmul(): Performs matrix multiplication between two arrays."
   ]
  },
  {
   "attachments": {
    "4d1e8ace-e55c-4454-8aac-8972ed116172.png": {
     "image/png": "[encoded data removed]"
    }
   },
   "cell_type": "markdown",
   "id": "33d4a221-2291-422b-a7e5-4ed520b224ba",
   "metadata": {},
   "source": [
    "![image.png](attachment:4d1e8ace-e55c-4454-8aac-8972ed116172.png)"
   ]
  },
  {
   "cell_type": "code",
   "execution_count": 62,
   "id": "ee64e80b-4ac7-45a8-8eca-3a049dddd9fd",
   "metadata": {},
   "outputs": [
    {
     "name": "stdout",
     "output_type": "stream",
     "text": [
      " [[1 2]\n",
      " [3 4]] x [[5 6]\n",
      " [7 8]]\n",
      "----------------------\n",
      "[[19 22]\n",
      " [43 50]]\n"
     ]
    }
   ],
   "source": [
    "arr1 = np.array([[1, 2], [3, 4]])\n",
    "arr2 = np.array([[5, 6], [7, 8]])\n",
    "\n",
    "result = np.matmul(arr1, arr2)\n",
    "\n",
    "print(f' {arr1} x {arr2}')\n",
    "print(\"----------------------\")\n",
    "print(result)"
   ]
  },
  {
   "cell_type": "markdown",
   "id": "e94b4ee2-7a88-4c16-96c1-fdb3e2c28425",
   "metadata": {},
   "source": [
    "#### np.linalg.inv(): Computes the inverse of a square matrix."
   ]
  },
  {
   "attachments": {
    "1cf7a6a0-b56e-4bc2-ba95-0d9cb913c2a7.png": {
     "image/png": "[encoded data removed]"
    }
   },
   "cell_type": "markdown",
   "id": "e185f7e4-6b16-42f2-9a65-5126eaab0742",
   "metadata": {},
   "source": [
    "![image.png](attachment:1cf7a6a0-b56e-4bc2-ba95-0d9cb913c2a7.png)"
   ]
  },
  {
   "cell_type": "code",
   "execution_count": 63,
   "id": "4f77a89a-8cf5-4f24-9c28-0ddd44c86fdf",
   "metadata": {},
   "outputs": [
    {
     "name": "stdout",
     "output_type": "stream",
     "text": [
      "[[-2.   1. ]\n",
      " [ 1.5 -0.5]]\n"
     ]
    }
   ],
   "source": [
    "arr = np.array([[1, 2], [3, 4]])\n",
    "\n",
    "result = np.linalg.inv(arr)\n",
    "\n",
    "print(result)"
   ]
  },
  {
   "cell_type": "markdown",
   "id": "cbe6c0e3-64f5-4d78-b7ed-44d3079f72a5",
   "metadata": {},
   "source": [
    "#### np.linalg.solve(): Solves a linear matrix equation"
   ]
  },
  {
   "attachments": {
    "3aa89308-9bef-4335-9f98-b48bdaa29d6d.png": {
     "image/png": "[encoded data removed]"
    }
   },
   "cell_type": "markdown",
   "id": "2b183a1d-bf33-48f7-bbd4-34b877279ad2",
   "metadata": {},
   "source": [
    "![image.png](attachment:3aa89308-9bef-4335-9f98-b48bdaa29d6d.png)"
   ]
  },
  {
   "cell_type": "markdown",
   "id": "8b932095-ef9a-4482-b535-f5203d1a25f8",
   "metadata": {},
   "source": [
    "Let's consider a system of linear equations with 2 equations and 3 variables and solve it using NumPy."
   ]
  },
  {
   "cell_type": "raw",
   "id": "e5a2bcd0-7480-4713-8689-abc1fad713a4",
   "metadata": {},
   "source": [
    "Linear Equations:\n",
    "2x + 3y - z = 1\n",
    "x - y + z = 2\n",
    "3x + 2y - 2z = 3"
   ]
  },
  {
   "cell_type": "code",
   "execution_count": 66,
   "id": "d4651823-542e-48a6-b613-e5e79d86e7a9",
   "metadata": {},
   "outputs": [
    {
     "name": "stdout",
     "output_type": "stream",
     "text": [
      "[ 1.40000000e+00 -6.00000000e-01  1.11022302e-16]\n"
     ]
    }
   ],
   "source": [
    "# Coefficient matrix\n",
    "A = np.array([[2, 3, -1],\n",
    "              [1, -1, 1],\n",
    "              [3, 2, -2]])\n",
    "\n",
    "# Constant matrix\n",
    "b = np.array([1, 2, 3])\n",
    "\n",
    "# Solve the linear equation system\n",
    "solution = np.linalg.solve(A, b)\n",
    "\n",
    "print(solution)"
   ]
  },
  {
   "cell_type": "code",
   "execution_count": 67,
   "id": "795b4031-91d7-4be9-ac7b-42dab4c2b248",
   "metadata": {},
   "outputs": [],
   "source": [
    "rounded_solution = np.round(solution, decimals=2)"
   ]
  },
  {
   "cell_type": "code",
   "execution_count": 68,
   "id": "b035e0d1-5006-45c0-b310-8539d84fd8b5",
   "metadata": {},
   "outputs": [
    {
     "name": "stdout",
     "output_type": "stream",
     "text": [
      "[ 1.4 -0.6  0. ]\n"
     ]
    }
   ],
   "source": [
    "print(rounded_solution)"
   ]
  },
  {
   "cell_type": "markdown",
   "id": "b81fd2c3-c7a1-4008-9ac5-b31ca8fd5e24",
   "metadata": {},
   "source": [
    "#### mathematical functions"
   ]
  },
  {
   "cell_type": "code",
   "execution_count": 4,
   "id": "186afdb9-ea7f-486b-a428-9ce1f91ed111",
   "metadata": {},
   "outputs": [],
   "source": [
    "import numpy as np"
   ]
  },
  {
   "cell_type": "code",
   "execution_count": 5,
   "id": "2ba9dcbd-7cad-4102-9717-527e2873bbc1",
   "metadata": {},
   "outputs": [],
   "source": [
    "# Arithmetic Operations\n",
    "arr1 = np.array([1, 2, 3])\n",
    "arr2 = np.array([4, 5, 6])\n",
    "addition = np.add(arr1, arr2)\n",
    "subtraction = np.subtract(arr1, arr2)\n",
    "multiplication = np.multiply(arr1, arr2)\n",
    "division = np.divide(arr1, arr2)\n",
    "exponentiation = np.power(arr1, arr2)"
   ]
  },
  {
   "cell_type": "code",
   "execution_count": 70,
   "id": "0a438c3c-9911-4dbb-ab79-b4541fb0358b",
   "metadata": {},
   "outputs": [
    {
     "name": "stdout",
     "output_type": "stream",
     "text": [
      "Arithmetic Operations:\n",
      "Addition: [5 7 9]\n",
      "Subtraction: [-3 -3 -3]\n",
      "Multiplication: [ 4 10 18]\n",
      "Division: [0.25 0.4  0.5 ]\n",
      "Exponentiation: [  1  32 729]\n"
     ]
    }
   ],
   "source": [
    "print(\"Arithmetic Operations:\")\n",
    "print(\"Addition:\", addition)\n",
    "print(\"Subtraction:\", subtraction)\n",
    "print(\"Multiplication:\", multiplication)\n",
    "print(\"Division:\", division)\n",
    "print(\"Exponentiation:\", exponentiation)"
   ]
  },
  {
   "cell_type": "markdown",
   "id": "33159364-e104-4c6a-80e9-8c76da77b8d0",
   "metadata": {},
   "source": [
    "#### # Trigonometric Functions"
   ]
  },
  {
   "cell_type": "code",
   "execution_count": 71,
   "id": "4bdde4c8-2f26-4e5d-9f69-2632075e5e11",
   "metadata": {},
   "outputs": [],
   "source": [
    "angles = np.array([0, np.pi/4, np.pi/2])\n",
    "sine = np.sin(angles)\n",
    "cosine = np.cos(angles)\n",
    "tangent = np.tan(angles)"
   ]
  },
  {
   "cell_type": "code",
   "execution_count": 72,
   "id": "951e759d-cfea-4902-ba25-f0d40053f343",
   "metadata": {},
   "outputs": [
    {
     "name": "stdout",
     "output_type": "stream",
     "text": [
      "\n",
      "Trigonometric Functions:\n",
      "Sine: [0.         0.70710678 1.        ]\n",
      "Cosine: [1.00000000e+00 7.07106781e-01 6.12323400e-17]\n",
      "Tangent: [0.00000000e+00 1.00000000e+00 1.63312394e+16]\n"
     ]
    }
   ],
   "source": [
    "print(\"\\nTrigonometric Functions:\")\n",
    "print(\"Sine:\", sine)\n",
    "print(\"Cosine:\", cosine)\n",
    "print(\"Tangent:\", tangent)"
   ]
  },
  {
   "cell_type": "markdown",
   "id": "2a7f5b6d-b999-4d02-9d6e-6fe57cfc6a44",
   "metadata": {},
   "source": [
    "#### Exponential and Logarithmic Functions\n"
   ]
  },
  {
   "cell_type": "code",
   "execution_count": 76,
   "id": "80d09944-e0fa-4923-93e8-4b0ecea6fee5",
   "metadata": {},
   "outputs": [],
   "source": [
    "numbers = np.array([1, 2, 3,10])\n",
    "exponential = np.exp(numbers)\n",
    "natural_log = np.log(numbers)\n",
    "log_base10 = np.log10(numbers)\n",
    "log_base2 = np.log2(numbers)\n",
    "square_root = np.sqrt(numbers)"
   ]
  },
  {
   "cell_type": "code",
   "execution_count": 77,
   "id": "32986b68-1d90-4817-a440-2eaf8873adf4",
   "metadata": {},
   "outputs": [
    {
     "name": "stdout",
     "output_type": "stream",
     "text": [
      "\n",
      "Exponential and Logarithmic Functions:\n",
      "Exponential: [2.71828183e+00 7.38905610e+00 2.00855369e+01 2.20264658e+04]\n",
      "Natural Logarithm: [0.         0.69314718 1.09861229 2.30258509]\n",
      "Logarithm (Base 10): [0.         0.30103    0.47712125 1.        ]\n",
      "Logarithm (Base 2): [0.         1.         1.5849625  3.32192809]\n",
      "Square Root: [1.         1.41421356 1.73205081 3.16227766]\n"
     ]
    }
   ],
   "source": [
    "print(\"\\nExponential and Logarithmic Functions:\")\n",
    "print(\"Exponential:\", exponential)\n",
    "print(\"Natural Logarithm:\", natural_log)\n",
    "print(\"Logarithm (Base 10):\", log_base10)\n",
    "print(\"Logarithm (Base 2):\", log_base2)\n",
    "print(\"Square Root:\", square_root)"
   ]
  },
  {
   "cell_type": "markdown",
   "id": "e60efe93-fe89-4a35-b315-3179562d3512",
   "metadata": {},
   "source": [
    "#### Rounding and Absolute Functions"
   ]
  },
  {
   "cell_type": "code",
   "execution_count": 6,
   "id": "e1c36308-1ab4-462a-8381-aed02e9f173d",
   "metadata": {},
   "outputs": [],
   "source": [
    "float_numbers = np.array([1.3, 2.7, -4.2])\n",
    "rounded = np.round(float_numbers)\n",
    "floor = np.floor(float_numbers)\n",
    "ceil = np.ceil(float_numbers)\n",
    "absolute = np.absolute(float_numbers)"
   ]
  },
  {
   "cell_type": "code",
   "execution_count": 79,
   "id": "99287ffe-a68a-4253-b744-df1ecac1b9a8",
   "metadata": {},
   "outputs": [
    {
     "name": "stdout",
     "output_type": "stream",
     "text": [
      "\n",
      "Rounding and Absolute Functions:\n",
      "Rounded: [ 1.  3. -4.]\n",
      "Floor: [ 1.  2. -5.]\n",
      "Ceil: [ 2.  3. -4.]\n",
      "Absolute: [1.3 2.7 4.2]\n"
     ]
    }
   ],
   "source": [
    "print(\"\\nRounding and Absolute Functions:\")\n",
    "print(\"Rounded:\", rounded)\n",
    "print(\"Floor:\", floor)\n",
    "print(\"Ceil:\", ceil)\n",
    "print(\"Absolute:\", absolute)"
   ]
  },
  {
   "cell_type": "markdown",
   "id": "a3429012-c1f8-4082-9f22-55fae324243a",
   "metadata": {},
   "source": [
    "#### Statistical Functions"
   ]
  },
  {
   "cell_type": "code",
   "execution_count": 9,
   "id": "f9bd6db5-7d8b-4895-b028-760348bf559e",
   "metadata": {},
   "outputs": [],
   "source": [
    "data = np.array([1,7, 9,2, 3, 4, 5])\n",
    "mean = np.mean(data)\n",
    "median = np.median(data)\n",
    "minimum = np.min(data)\n",
    "maximum = np.max(data)\n",
    "std_deviation = np.std(data)"
   ]
  },
  {
   "cell_type": "code",
   "execution_count": 10,
   "id": "8651de30-4e3d-4d97-a5d1-cf3534caef7b",
   "metadata": {},
   "outputs": [
    {
     "name": "stdout",
     "output_type": "stream",
     "text": [
      "\n",
      "Statistical Functions:\n",
      "Mean: 4.428571428571429\n",
      "Median: 4.0\n",
      "Minimum: 1\n",
      "Maximum: 9\n",
      "Standard Deviation: 2.610809554642438\n"
     ]
    }
   ],
   "source": [
    "print(\"\\nStatistical Functions:\")\n",
    "print(\"Mean:\", mean)\n",
    "print(\"Median:\", median)\n",
    "print(\"Minimum:\", minimum)\n",
    "print(\"Maximum:\", maximum)\n",
    "print(\"Standard Deviation:\", std_deviation)"
   ]
  },
  {
   "cell_type": "markdown",
   "id": "86583063-54b6-4d78-9b8c-5f5683125250",
   "metadata": {
    "tags": []
   },
   "source": [
    "#### Linear Algebra Functions\n"
   ]
  },
  {
   "cell_type": "code",
   "execution_count": 82,
   "id": "30930c50-25ee-4fa0-934d-6871313aa5d1",
   "metadata": {},
   "outputs": [],
   "source": [
    "matrix1 = np.array([[1, 2], [3, 4]])\n",
    "matrix2 = np.array([[5, 6], [7, 8]])\n",
    "dot_product = np.dot(matrix1, matrix2)\n",
    "matrix_product = np.matmul(matrix1, matrix2)\n",
    "matrix_inverse = np.linalg.inv(matrix1)\n",
    "matrix_determinant = np.linalg.det(matrix1)\n",
    "eigenvalues, eigenvectors = np.linalg.eig(matrix1)"
   ]
  },
  {
   "cell_type": "code",
   "execution_count": 83,
   "id": "5061f794-8703-4ec2-9cf5-d201250f1fc4",
   "metadata": {},
   "outputs": [
    {
     "name": "stdout",
     "output_type": "stream",
     "text": [
      "\n",
      "Linear Algebra Functions:\n",
      "Dot Product: [[19 22]\n",
      " [43 50]]\n",
      "Matrix Product: [[19 22]\n",
      " [43 50]]\n",
      "Matrix Inverse: [[-2.   1. ]\n",
      " [ 1.5 -0.5]]\n",
      "Matrix Determinant: -2.0000000000000004\n",
      "Eigenvalues: [-0.37228132  5.37228132]\n",
      "Eigenvectors: [[-0.82456484 -0.41597356]\n",
      " [ 0.56576746 -0.90937671]]\n"
     ]
    }
   ],
   "source": [
    "print(\"\\nLinear Algebra Functions:\")\n",
    "print(\"Dot Product:\", dot_product)\n",
    "print(\"Matrix Product:\", matrix_product)\n",
    "print(\"Matrix Inverse:\", matrix_inverse)\n",
    "print(\"Matrix Determinant:\", matrix_determinant)\n",
    "print(\"Eigenvalues:\", eigenvalues)\n",
    "print(\"Eigenvectors:\", eigenvectors)"
   ]
  },
  {
   "cell_type": "code",
   "execution_count": null,
   "id": "83309e4f-c04f-453e-a372-0299aef396b6",
   "metadata": {},
   "outputs": [],
   "source": []
  }
 ],
 "metadata": {
  "kernelspec": {
   "display_name": "Python 3 (ipykernel)",
   "language": "python",
   "name": "python3"
  },
  "language_info": {
   "codemirror_mode": {
    "name": "ipython",
    "version": 3
   },
   "file_extension": ".py",
   "mimetype": "text/x-python",
   "name": "python",
   "nbconvert_exporter": "python",
   "pygments_lexer": "ipython3",
   "version": "3.9.12"
  }
 },
 "nbformat": 4,
 "nbformat_minor": 5
}
