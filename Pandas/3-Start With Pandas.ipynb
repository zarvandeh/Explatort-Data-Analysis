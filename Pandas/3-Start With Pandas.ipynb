{
 "cells": [
  {
   "cell_type": "markdown",
   "id": "ef63bebd-10cc-4e72-8e7b-a252184a457e",
   "metadata": {},
   "source": [
    "# Introduction to Pandas:"
   ]
  },
  {
   "cell_type": "code",
   "execution_count": 1,
   "id": "24c8107c-f29d-41af-a829-4fa3a388ee48",
   "metadata": {},
   "outputs": [],
   "source": [
    "import pandas as pd\n",
    "import numpy as np"
   ]
  },
  {
   "cell_type": "markdown",
   "id": "8ac8871a-be7a-4b4b-a132-6f11127659da",
   "metadata": {
    "tags": []
   },
   "source": [
    "## What is Pandas? "
   ]
  },
  {
   "cell_type": "raw",
   "id": "f0c0468c-fbca-44f1-8507-99294127bb91",
   "metadata": {},
   "source": [
    "Pandas is an open-source Python library that provides powerful data manipulation and analysis capabilities. It is built on top of the NumPy library and offers data structures like DataFrames and Series, which allow for easy handling and manipulation of structured data. Pandas is widely used in the field of data science for tasks such as data cleaning, transformation, exploration, and analysis."
   ]
  },
  {
   "cell_type": "raw",
   "id": "23fd51db-055a-457a-8b0e-1e7637cf97b2",
   "metadata": {},
   "source": [
    "Pandas is well-suited for data science projects due to its numerous advantages:\n",
    "\n",
    "Data Handling: Pandas provides efficient and flexible data structures, such as DataFrames, which allow for easy handling and manipulation of structured data. It offers functionalities for data cleaning, filtering, merging, reshaping, and more.\n",
    "\n",
    "Data Exploration: Pandas enables quick data exploration and analysis through its intuitive methods and functions. It allows for easy summarization, aggregation, and statistical computations on data, helping to gain insights and make informed decisions.\n",
    "\n",
    "Data Transformation: With Pandas, you can transform data easily by applying functions, methods, and operations. It supports data manipulation tasks like data normalization, feature engineering, missing data handling, and categorical variable encoding.\n",
    "\n",
    "Integration with Other Libraries: Pandas integrates well with other popular Python libraries used in data science, such as NumPy, Matplotlib, and Scikit-learn. This enables seamless data integration, visualization, and machine learning tasks within a single ecosystem.\n",
    "\n",
    "Performance: Pandas is optimized for performance, especially when dealing with large datasets. It leverages vectorized operations and efficient algorithms, resulting in faster data processing compared to traditional Python loops."
   ]
  },
  {
   "cell_type": "markdown",
   "id": "345c825b-098a-4a83-8b19-3aa10327c489",
   "metadata": {},
   "source": [
    "## what are the alternative libraries to pandas?"
   ]
  },
  {
   "cell_type": "raw",
   "id": "6710b42b-9dee-488a-aa53-3ca4a41de709",
   "metadata": {},
   "source": [
    "NumPy: NumPy is the fundamental library for numerical computing in Python. It provides a multidimensional array object and functions for mathematical operations on arrays. While NumPy doesn't have the extensive data manipulation functionalities like pandas, it serves as the backbone for many data processing tasks and can be used in combination with other libraries.\n",
    "\n",
    "Dask: Dask is a flexible library for parallel computing and distributed computing in Python. It provides advanced parallelism and out-of-memory computations, allowing you to work with datasets larger than the available memory. Dask offers a similar API to pandas, making it a potential alternative for scaling up data analysis tasks.\n",
    "\n",
    "Vaex: Vaex is a high-performance library for lazy, out-of-core data processing and visualization. It focuses on handling large datasets with billions of rows, providing fast and memory-efficient operations. Vaex's API is similar to pandas, making it easy to switch between the two libraries.\n",
    "\n",
    "Modin: Modin is a library that aims to speed up pandas-based data processing by utilizing parallel and distributed computing techniques. It provides a drop-in replacement for pandas and automatically scales computations to multiple cores or distributed clusters without requiring code changes.\n",
    "\n",
    "cuDF: cuDF is a GPU-accelerated data manipulation library that mimics the pandas API. It allows you to perform data processing and analysis on NVIDIA GPUs, delivering significant speedups for certain operations when compared to pandas running on CPUs."
   ]
  },
  {
   "cell_type": "markdown",
   "id": "3fe8d2cc-b438-41cd-8fda-3b3707f280ad",
   "metadata": {
    "tags": []
   },
   "source": [
    "## What are the ways for Installing Pandas"
   ]
  },
  {
   "cell_type": "markdown",
   "id": "df5a7e41-f060-411f-8cf5-9990afabb479",
   "metadata": {},
   "source": [
    "Using pip: If you have pip installed, you can use it to install pandas by running the following command in your terminal or command prompt"
   ]
  },
  {
   "cell_type": "raw",
   "id": "5edd4bf1-d992-4ae6-965d-31f30d67f883",
   "metadata": {},
   "source": [
    "pip install pandas"
   ]
  },
  {
   "cell_type": "markdown",
   "id": "e9a252f1-7a1c-40d6-a9c9-99e83f69453e",
   "metadata": {},
   "source": [
    "Using conda: If you are using the Anaconda distribution, you can install pandas using conda, which is the package manager that comes with Anaconda. Run the following command in your terminal or Anaconda prompt"
   ]
  },
  {
   "cell_type": "raw",
   "id": "02ab0181-a72d-45e5-a5a5-617dfc5f98b6",
   "metadata": {},
   "source": [
    "conda install pandas"
   ]
  },
  {
   "cell_type": "markdown",
   "id": "aaa5570b-3a6e-44b6-aab1-969a09c0a839",
   "metadata": {},
   "source": [
    "On macOS with Homebrew, you can use"
   ]
  },
  {
   "cell_type": "raw",
   "id": "df845a5a-2ac3-4301-b7c9-777cfad78b86",
   "metadata": {},
   "source": [
    "brew install pandas"
   ]
  },
  {
   "cell_type": "markdown",
   "id": "c3fe33e9-b7e8-4df1-ba67-0f83b0377b0a",
   "metadata": {},
   "source": [
    "# What will we learn?"
   ]
  },
  {
   "cell_type": "raw",
   "id": "549c1b28-4db0-4318-80a5-be0fdc4f02c8",
   "metadata": {},
   "source": [
    "Creating Series: Learn how to create a Series from different data sources such as lists, arrays, dictionaries, and other Series. Understand the various parameters and options available during Series creation.\n",
    "\n",
    "Indexing and Selecting Data: Explore different ways to access and select data from a Series using labels, integer positions, boolean indexing, and slicing. Understand the difference between implicit and explicit index.\n",
    "\n",
    "Series Attributes: Familiarize yourself with important attributes of a Series such as index, values, dtype, and shape. Understand how to retrieve and manipulate these attributes.\n",
    "\n",
    "Data Manipulation: Learn various methods and functions to manipulate data in a Series, including sorting, filtering, adding or removing elements, and modifying values. Understand how to handle missing data.\n",
    "\n",
    "Arithmetic Operations: Understand how to perform arithmetic operations on Series, including element-wise operations, broadcasting, and alignment based on the index.\n",
    "\n",
    "Descriptive Statistics: Explore methods for computing descriptive statistics on Series, such as mean, median, standard deviation, and quantiles. Learn how to handle missing values during statistical computations.\n",
    "\n",
    "Data Alignment: Understand the concept of data alignment in pandas and how it ensures the alignment of data based on the index when performing operations or combining Series.\n",
    "\n",
    "Handling Dates and Times: Learn about pandas' datetime functionality and how to handle dates, times, and time series data in a Series. Explore various date and time-related methods available in pandas.\n",
    "\n",
    "Handling Categorical Data: Understand how to handle and work with categorical data in a Series. Learn about categorical data types, methods for encoding and decoding categorical data, and performing categorical operations.\n",
    "\n",
    "Visualization: Explore visualization capabilities of pandas Series using built-in plotting functions. Learn how to create line plots, bar plots, histograms, and other visualizations to analyze and present data.\n",
    "\n",
    "Series Methods: Dive into the extensive range of methods available for Series objects, such as mathematical and statistical methods, string operations, data type conversion, and aggregation functions. Understand how and when to use these methods effectively.\n",
    "\n",
    "Combining and Merging Series: Learn how to combine multiple Series using concatenation and merging techniques. Understand different types of merges and how to handle duplicate values, missing data, and index alignment during merging.\n",
    "\n",
    "Performance Optimization: Discover techniques to optimize performance when working with Series, such as vectorized operations, using NumPy functions, and leveraging pandas' built-in methods for faster data manipulation.\n",
    "\n",
    "Handling Time Zones: Understand how to handle time zones in pandas Series using the DatetimeIndex and tz functionality. Learn how to convert between different time zones and perform time zone-aware computations.\n",
    "\n",
    "Advanced Topics: Explore advanced topics like working with multi-level indexing, reshaping and pivoting data, handling large datasets with out-of-memory computing, and integrating Series with other pandas data structures like DataFrames and Panels."
   ]
  },
  {
   "cell_type": "markdown",
   "id": "2c72c781-cbea-4615-b1d7-ce3362b4ab3b",
   "metadata": {},
   "source": [
    "## Importing the library"
   ]
  },
  {
   "cell_type": "code",
   "execution_count": 2,
   "id": "36bdde25-ab44-4f31-8c5c-8f215c1d2555",
   "metadata": {},
   "outputs": [],
   "source": [
    "import pandas as pd\n",
    "import numpy as np"
   ]
  },
  {
   "cell_type": "code",
   "execution_count": 3,
   "id": "88fa7452-d1a7-41cb-988f-e14372814936",
   "metadata": {},
   "outputs": [
    {
     "name": "stdout",
     "output_type": "stream",
     "text": [
      "pandas version: 1.4.2\n"
     ]
    }
   ],
   "source": [
    "print(f\"pandas version: {pd.__version__}\")"
   ]
  },
  {
   "cell_type": "markdown",
   "id": "feecb0a4-119d-4ae2-8be1-bf8efcd6f4b4",
   "metadata": {},
   "source": [
    "## Updating pandas"
   ]
  },
  {
   "cell_type": "raw",
   "id": "eb3d9643-24c8-4ec4-ad80-48780234c741",
   "metadata": {},
   "source": [
    "pip install --upgrade pandas"
   ]
  },
  {
   "cell_type": "markdown",
   "id": "568eeab3-95bb-4bfc-8489-685ccc09a468",
   "metadata": {},
   "source": [
    "# Data Structures in Pandas"
   ]
  },
  {
   "cell_type": "markdown",
   "id": "04643da1-c099-4dcd-8bac-5ad3978100cd",
   "metadata": {},
   "source": [
    "## Series"
   ]
  },
  {
   "cell_type": "raw",
   "id": "d2bac23e-7460-4fde-b43a-3d3206569b1f",
   "metadata": {},
   "source": [
    "A pandas Series is a one-dimensional labeled array that can hold any data type (integer, float, string, etc.). It is a core data structure in pandas and is similar to a column in a spreadsheet or a single column in a database table. The Series consists of two main components: the data and the index.\n",
    "\n"
   ]
  },
  {
   "cell_type": "markdown",
   "id": "c7e35a54-9b37-4cbd-ae91-11c50a101560",
   "metadata": {},
   "source": [
    "## Creating Series:\n",
    "Learn how to create a Series from different data sources such as lists, arrays, dictionaries, and other Series. Understand the various parameters and options available during Series creation."
   ]
  },
  {
   "cell_type": "markdown",
   "id": "a401aafb-8101-4274-a00f-a82367a377a5",
   "metadata": {},
   "source": [
    "### Creating a Series from a List"
   ]
  },
  {
   "cell_type": "code",
   "execution_count": 4,
   "id": "d428f363-b802-4479-983b-f8fbaa2ff148",
   "metadata": {},
   "outputs": [
    {
     "name": "stdout",
     "output_type": "stream",
     "text": [
      "0    10\n",
      "1    20\n",
      "2    30\n",
      "3    40\n",
      "4    50\n",
      "dtype: int64\n"
     ]
    }
   ],
   "source": [
    "my_list = [10, 20, 30, 40, 50]\n",
    "series_from_list = pd.Series(my_list)\n",
    "print(series_from_list)"
   ]
  },
  {
   "cell_type": "raw",
   "id": "d53665c2-a61c-4866-9802-e67d90e3842b",
   "metadata": {},
   "source": [
    "In this example, we create a Series from a list [10, 20, 30, 40, 50]. The pd.Series() function is used to create the Series, and it automatically assigns a default numerical index to each element. The output will display the Series with the values and the assigned index"
   ]
  },
  {
   "cell_type": "markdown",
   "id": "6cc3a83a-50d1-4eec-a369-8aeee88657bc",
   "metadata": {},
   "source": [
    "### Creating a Series from an Array"
   ]
  },
  {
   "cell_type": "code",
   "execution_count": 5,
   "id": "c59e1815-b83d-4fe2-a074-014019fdb8e1",
   "metadata": {},
   "outputs": [
    {
     "name": "stdout",
     "output_type": "stream",
     "text": [
      "A    1.5\n",
      "B    2.3\n",
      "C    3.1\n",
      "D    4.7\n",
      "E    5.2\n",
      "dtype: float64\n"
     ]
    }
   ],
   "source": [
    "my_array = np.array([1.5, 2.3, 3.1, 4.7, 5.2])\n",
    "series_from_array = pd.Series(my_array, index=['A', 'B', 'C', 'D', 'E'])\n",
    "print(series_from_array)"
   ]
  },
  {
   "cell_type": "raw",
   "id": "e69c047a-be9e-46cb-94e5-cd111de29835",
   "metadata": {},
   "source": [
    "in this example, we create a Series from a NumPy array [1.5, 2.3, 3.1, 4.7, 5.2]. We also provide a custom index using the index parameter. The output will display the Series with the values and the specified index."
   ]
  },
  {
   "cell_type": "markdown",
   "id": "0c4e1f3c-b031-4cba-a8b6-ab216f4fe94e",
   "metadata": {},
   "source": [
    "### Creating a Series from a Dictionary"
   ]
  },
  {
   "cell_type": "code",
   "execution_count": 6,
   "id": "6a80c58e-f550-4190-a36f-637b936c3c73",
   "metadata": {},
   "outputs": [
    {
     "name": "stdout",
     "output_type": "stream",
     "text": [
      "{'A': 10, 'B': 20, 'C': 30, 'D': 40, 'E': 50}\n",
      "A    10\n",
      "B    20\n",
      "C    30\n",
      "D    40\n",
      "E    50\n",
      "dtype: int64\n"
     ]
    }
   ],
   "source": [
    "my_dict = {'A': 10, 'B': 20, 'C': 30, 'D': 40, 'E': 50}\n",
    "series_from_dict = pd.Series(my_dict)\n",
    "print(my_dict)\n",
    "print(series_from_dict)"
   ]
  },
  {
   "cell_type": "raw",
   "id": "b144eecf-3280-40d2-bee9-c12e9caf3aee",
   "metadata": {},
   "source": [
    "Here, we create a Series from a dictionary {'A': 10, 'B': 20, 'C': 30, 'D': 40, 'E': 50}. The keys of the dictionary become the index of the Series, and the corresponding values become the data. The output will display the Series with the values and the assigned index."
   ]
  },
  {
   "cell_type": "markdown",
   "id": "279c1894-c682-45a7-994c-a2b0060901fe",
   "metadata": {},
   "source": [
    "### Generating a Series with random integers between a specified range:"
   ]
  },
  {
   "cell_type": "code",
   "execution_count": 8,
   "id": "a3a08c1e-70d1-4588-a426-4fb12121d9de",
   "metadata": {},
   "outputs": [
    {
     "name": "stdout",
     "output_type": "stream",
     "text": [
      "0    56\n",
      "1    32\n",
      "2    55\n",
      "3    77\n",
      "4    82\n",
      "5     8\n",
      "6    24\n",
      "7    67\n",
      "8    31\n",
      "9    20\n",
      "dtype: int32\n"
     ]
    }
   ],
   "source": [
    "random_integers = np.random.randint(low=1, high=100, size=10)\n",
    "series_random_integers = pd.Series(random_integers)\n",
    "print(series_random_integers)"
   ]
  },
  {
   "cell_type": "raw",
   "id": "2c824366-af11-4e79-84f8-5a01ee8e1983",
   "metadata": {},
   "source": [
    "This code uses np.random.randint() to generate an array of 10 random integers between 1 and 100, and then creates a Series series_random_integers from it. The output will display the Series with the generated random integers."
   ]
  },
  {
   "cell_type": "markdown",
   "id": "6d653ca9-26f9-41fd-8b0c-421886fc76d6",
   "metadata": {},
   "source": [
    "### Generating a Series with random floating-point numbers between 0 and 1"
   ]
  },
  {
   "cell_type": "code",
   "execution_count": 12,
   "id": "0bfa410e-27f8-4bd6-bf99-5f17d5b528e7",
   "metadata": {},
   "outputs": [
    {
     "name": "stdout",
     "output_type": "stream",
     "text": [
      "0    0.080415\n",
      "1    0.359640\n",
      "2    0.184108\n",
      "3    0.746137\n",
      "4    0.482614\n",
      "dtype: float64\n"
     ]
    }
   ],
   "source": [
    "random_floats = np.random.random(size=5)\n",
    "series_random_floats = pd.Series(random_floats)\n",
    "print(series_random_floats)"
   ]
  },
  {
   "cell_type": "raw",
   "id": "b7f946bd-3bd0-4496-933e-cdd2343bff1a",
   "metadata": {},
   "source": [
    "In this example, np.random.random() is used to generate an array of 5 random floating-point numbers between 0 and 1. A Series series_random_floats is created from this array, and the output will display the Series with the random floating-point numbers."
   ]
  },
  {
   "cell_type": "markdown",
   "id": "3d9a602a-65cc-4af8-8c9c-938cf099e8ce",
   "metadata": {},
   "source": [
    "### Generating a Series with random numbers from a standard normal distribution"
   ]
  },
  {
   "cell_type": "code",
   "execution_count": 13,
   "id": "43affab2-4238-426c-bb2f-0aeabb0a924b",
   "metadata": {},
   "outputs": [
    {
     "name": "stdout",
     "output_type": "stream",
     "text": [
      "0   -0.158205\n",
      "1   -1.630615\n",
      "2   -1.373461\n",
      "3   -0.003271\n",
      "4   -0.262591\n",
      "5   -1.024805\n",
      "6    1.088577\n",
      "dtype: float64\n"
     ]
    }
   ],
   "source": [
    "random_normal = np.random.randn(7)\n",
    "series_random_normal = pd.Series(random_normal)\n",
    "print(series_random_normal)"
   ]
  },
  {
   "cell_type": "raw",
   "id": "fb4648bc-9610-4a0e-8ddb-a8517ce4c95c",
   "metadata": {},
   "source": [
    "Here, np.random.randn() is used to generate an array of 7 random numbers from a standard normal distribution (mean=0, standard deviation=1). A Series series_random_normal is created from this array, and the output will display the Series with the random numbers from the normal distribution."
   ]
  },
  {
   "cell_type": "markdown",
   "id": "766d1252-429c-4f54-ba0a-c70ce8d23172",
   "metadata": {},
   "source": [
    "## Indexing and Selecting Data:\n",
    "Explore different ways to access and select data from a Series using labels, integer positions, boolean indexing, and slicing. Understand the difference between implicit and explicit index."
   ]
  },
  {
   "cell_type": "raw",
   "id": "5d86300c-356a-49ec-9223-de1b5f6b9d98",
   "metadata": {},
   "source": [
    "Here's a comprehensive list of example codes that cover various topics related to indexing and selecting data from a pandas Series"
   ]
  },
  {
   "cell_type": "markdown",
   "id": "e8c0e0cf-b913-4a3d-b205-a24d660a35fd",
   "metadata": {},
   "source": [
    "### Accessing Data by Label"
   ]
  },
  {
   "cell_type": "code",
   "execution_count": 17,
   "id": "24cecdb4-1be2-43b8-a7e7-a8149fef2ce9",
   "metadata": {},
   "outputs": [
    {
     "name": "stdout",
     "output_type": "stream",
     "text": [
      "20\n",
      "A    10\n",
      "C    30\n",
      "E    50\n",
      "dtype: int64\n",
      "B    20\n",
      "C    30\n",
      "D    40\n",
      "dtype: int64\n",
      "B    20\n",
      "C    30\n",
      "dtype: int64\n"
     ]
    }
   ],
   "source": [
    "series_data = pd.Series([10, 20, 30, 40, 50], index=['A', 'B', 'C', 'D', 'E'])\n",
    "\n",
    "# Accessing a single element by label\n",
    "print(series_data['B'])\n",
    "\n",
    "# Accessing multiple elements by labels\n",
    "print(series_data[ ['A', 'C', 'E'] ])\n",
    "\n",
    "# Accessing a range of elements by label (inclusive)\n",
    "print(series_data['B':'D'])\n",
    "print(series_data[1:3])"
   ]
  },
  {
   "cell_type": "markdown",
   "id": "f5601e65-7bb9-4b47-ab63-c4813b7e02f9",
   "metadata": {},
   "source": [
    "### Accessing Data by Integer Position"
   ]
  },
  {
   "cell_type": "code",
   "execution_count": 14,
   "id": "3a525e74-225c-429d-9b1a-7889ecdf31a8",
   "metadata": {},
   "outputs": [
    {
     "name": "stdout",
     "output_type": "stream",
     "text": [
      "30\n",
      "0    10\n",
      "2    30\n",
      "4    50\n",
      "dtype: int64\n",
      "1    20\n",
      "2    30\n",
      "3    40\n",
      "dtype: int64\n"
     ]
    }
   ],
   "source": [
    "series_data = pd.Series([10, 20, 30, 40, 50])\n",
    "\n",
    "# Accessing a single element by integer position\n",
    "print(series_data[2])\n",
    "\n",
    "# Accessing multiple elements by integer positions\n",
    "print(series_data[[0, 2, 4]])\n",
    "\n",
    "# Accessing a range of elements by integer positions (exclusive)\n",
    "print(series_data[1:4])"
   ]
  },
  {
   "cell_type": "markdown",
   "id": "e0c5bfc3-f2b3-46a7-822c-2e7fa735bad5",
   "metadata": {},
   "source": [
    "### Boolean Indexing"
   ]
  },
  {
   "cell_type": "code",
   "execution_count": 18,
   "id": "4b7d0962-770c-4a4c-bd82-381d7bb59164",
   "metadata": {},
   "outputs": [
    {
     "data": {
      "text/plain": [
       "0    10\n",
       "1    20\n",
       "2    30\n",
       "3    40\n",
       "4    50\n",
       "dtype: int64"
      ]
     },
     "execution_count": 18,
     "metadata": {},
     "output_type": "execute_result"
    }
   ],
   "source": [
    "series_data = pd.Series([10, 20, 30, 40, 50])\n",
    "series_data"
   ]
  },
  {
   "cell_type": "code",
   "execution_count": 19,
   "id": "ace0ff79-81ef-4958-bdb3-af06cff26571",
   "metadata": {},
   "outputs": [
    {
     "data": {
      "text/plain": [
       "0    False\n",
       "1    False\n",
       "2    False\n",
       "3     True\n",
       "4     True\n",
       "dtype: bool"
      ]
     },
     "execution_count": 19,
     "metadata": {},
     "output_type": "execute_result"
    }
   ],
   "source": [
    "series_data > 30"
   ]
  },
  {
   "cell_type": "code",
   "execution_count": 20,
   "id": "338434fd-df9c-4588-82d4-e1f17005d757",
   "metadata": {},
   "outputs": [
    {
     "data": {
      "text/plain": [
       "3    40\n",
       "4    50\n",
       "dtype: int64"
      ]
     },
     "execution_count": 20,
     "metadata": {},
     "output_type": "execute_result"
    }
   ],
   "source": [
    "series_data[ series_data > 30 ]"
   ]
  },
  {
   "cell_type": "code",
   "execution_count": 20,
   "id": "f35f3941-5511-4bfa-a39e-1d123226d7b3",
   "metadata": {},
   "outputs": [
    {
     "name": "stdout",
     "output_type": "stream",
     "text": [
      "3    40\n",
      "4    50\n",
      "dtype: int64\n"
     ]
    }
   ],
   "source": [
    "\n",
    "# Boolean indexing with a condition\n",
    "print(series_data[series_data > 30])"
   ]
  },
  {
   "cell_type": "code",
   "execution_count": 21,
   "id": "47e4c3e2-36f9-42e3-b6a4-50dedca4b39d",
   "metadata": {},
   "outputs": [
    {
     "name": "stdout",
     "output_type": "stream",
     "text": [
      "2    30\n",
      "3    40\n",
      "dtype: int64\n"
     ]
    }
   ],
   "source": [
    "# Boolean indexing with multiple conditions\n",
    "print(series_data[(series_data > 20) & (series_data < 50)])"
   ]
  },
  {
   "cell_type": "code",
   "execution_count": 21,
   "id": "d745c238-0e05-41cc-af21-b036d2f51973",
   "metadata": {},
   "outputs": [
    {
     "data": {
      "text/plain": [
       "0    10\n",
       "1    20\n",
       "4    50\n",
       "dtype: int64"
      ]
     },
     "execution_count": 21,
     "metadata": {},
     "output_type": "execute_result"
    }
   ],
   "source": [
    "series_data[ (series_data<30) | (series_data>40) ]"
   ]
  },
  {
   "cell_type": "code",
   "execution_count": 33,
   "id": "b18e7c7d-41e0-4be7-a64a-e34c43aafa6a",
   "metadata": {},
   "outputs": [],
   "source": [
    "bignumbers=series_data>44"
   ]
  },
  {
   "cell_type": "code",
   "execution_count": 25,
   "id": "81653498-5334-4497-933c-032640fa5556",
   "metadata": {},
   "outputs": [],
   "source": [
    "sallmumber=series_data<23"
   ]
  },
  {
   "cell_type": "code",
   "execution_count": 27,
   "id": "52c314a7-4526-4098-9b60-fbe924c42307",
   "metadata": {},
   "outputs": [
    {
     "data": {
      "text/plain": [
       "Series([], dtype: int64)"
      ]
     },
     "execution_count": 27,
     "metadata": {},
     "output_type": "execute_result"
    }
   ],
   "source": [
    "series_data[ (bignumbers)&(sallmumber) ]"
   ]
  },
  {
   "cell_type": "markdown",
   "id": "4faccd5c-9f76-4f24-80e0-f0f26b903f24",
   "metadata": {},
   "source": [
    "### Slicing Data / Locate"
   ]
  },
  {
   "cell_type": "code",
   "execution_count": 38,
   "id": "65c0af25-9941-4127-8143-56c7bdfaeedd",
   "metadata": {},
   "outputs": [
    {
     "data": {
      "text/plain": [
       "A    10\n",
       "B    20\n",
       "C    30\n",
       "D    40\n",
       "E    50\n",
       "dtype: int64"
      ]
     },
     "execution_count": 38,
     "metadata": {},
     "output_type": "execute_result"
    }
   ],
   "source": [
    "series_data = pd.Series([10, 20, 30, 40, 50],index=['A','B','C','D','E'])\n",
    "\n",
    "# Slicing with labels (inclusive)\n",
    "series_data.loc['A':'E']"
   ]
  },
  {
   "cell_type": "code",
   "execution_count": 40,
   "id": "30e0621b-c160-456b-97ef-cfeb2d398476",
   "metadata": {},
   "outputs": [
    {
     "name": "stdout",
     "output_type": "stream",
     "text": [
      "B    20\n",
      "C    30\n",
      "D    40\n",
      "dtype: int64\n"
     ]
    }
   ],
   "source": [
    "# Slicing with integer positions (exclusive)\n",
    "print(series_data.iloc[1:4])"
   ]
  },
  {
   "cell_type": "code",
   "execution_count": 31,
   "id": "a030544e-f37d-42fe-b4d9-e224ecda6116",
   "metadata": {},
   "outputs": [
    {
     "name": "stdout",
     "output_type": "stream",
     "text": [
      "C    30\n",
      "D    40\n",
      "E    50\n",
      "dtype: int64\n"
     ]
    }
   ],
   "source": [
    "print(series_data[series_data > 20])"
   ]
  },
  {
   "cell_type": "code",
   "execution_count": 32,
   "id": "94de8a88-b016-4458-84d8-ba8eb0a747e4",
   "metadata": {},
   "outputs": [
    {
     "name": "stdout",
     "output_type": "stream",
     "text": [
      "A    10\n",
      "C    30\n",
      "E    50\n",
      "dtype: int64\n"
     ]
    }
   ],
   "source": [
    "# Accessing multiple elements by explicit indexes\n",
    "print(series_data.loc[['A', 'C', 'E']])"
   ]
  },
  {
   "cell_type": "code",
   "execution_count": 33,
   "id": "c641f4cf-1aa4-4e92-ae8c-34e03b7a4be3",
   "metadata": {},
   "outputs": [
    {
     "name": "stdout",
     "output_type": "stream",
     "text": [
      "20\n",
      "A    10\n",
      "C    30\n",
      "E    50\n",
      "dtype: int64\n",
      "B    20\n",
      "C    30\n",
      "D    40\n",
      "dtype: int64\n"
     ]
    }
   ],
   "source": [
    "# Accessing a single element by implicit index\n",
    "print(series_data[1])\n",
    "\n",
    "# Accessing multiple elements by implicit indexes\n",
    "print(series_data[[0, 2, 4]])\n",
    "\n",
    "# Accessing a range of elements by implicit indexes (exclusive)\n",
    "print(series_data[1:4])"
   ]
  },
  {
   "cell_type": "markdown",
   "id": "ffe9fcf7-7b78-4f18-8ac1-d4ffe2b83d1e",
   "metadata": {},
   "source": [
    "## Series Attributes\n",
    "Familiarize yourself with important attributes of a Series such as index, values, dtype, and shape. Understand how to retrieve and manipulate these attributes"
   ]
  },
  {
   "cell_type": "raw",
   "id": "6960cb9d-d2b3-414b-ac13-1e86cc08e236",
   "metadata": {},
   "source": [
    "These examples cover various aspects of Series attributes in pandas, including retrieving the index, values, dtype, and shape attributes. They also demonstrate how to manipulate these attributes, such as changing the index labels, modifying the values, converting the dtype, and altering the shape of the Series. By working through these examples, you'll become familiar with important Series attributes and gain practical experience in retrieving and manipulating them."
   ]
  },
  {
   "cell_type": "markdown",
   "id": "3c50c810-8ba3-4b4e-993c-feb640963276",
   "metadata": {},
   "source": [
    "### Retrieving the Index Attribute"
   ]
  },
  {
   "cell_type": "code",
   "execution_count": 44,
   "id": "7ed218f5-84cc-427a-9a03-8c02a92e2992",
   "metadata": {},
   "outputs": [
    {
     "name": "stdout",
     "output_type": "stream",
     "text": [
      "['A', 'B', 'C', 'D', 'E']\n"
     ]
    }
   ],
   "source": [
    "series_data = pd.Series([10, 20, 30, 40, 50], index=['A', 'B', 'C', 'D', 'E'])\n",
    "\n",
    "# Retrieve the index attribute\n",
    "#series_data.index\n",
    "\n",
    "# Retrieve the index values as a list\n",
    "print(series_data.index.tolist())"
   ]
  },
  {
   "cell_type": "code",
   "execution_count": 46,
   "id": "51870f13-ea81-4345-9220-3ffbf62f8269",
   "metadata": {},
   "outputs": [
    {
     "data": {
      "text/plain": [
       "pandas.core.indexes.base.Index"
      ]
     },
     "execution_count": 46,
     "metadata": {},
     "output_type": "execute_result"
    }
   ],
   "source": [
    "type(series_data.index)"
   ]
  },
  {
   "cell_type": "raw",
   "id": "ebd13319-5188-4da4-a243-a7f5f10f3bd4",
   "metadata": {},
   "source": [
    "The output <class 'pandas.core.indexes.base.Index'> indicates the type of object or class of the variable being displayed. In this case, it represents an instance of the Index class from the pandas.core.indexes.base module.\n",
    "\n",
    "The Index class in pandas represents the index labels of a Series or DataFrame. It is used to identify and access individual elements or subsets of data. The Index object provides functionalities and methods to efficiently handle and manipulate the index labels.\n",
    "\n",
    "In the given output, <class 'pandas.core.indexes.base.Index'> tells us that the variable is an instance of the Index class in pandas. It signifies that the variable is likely storing the index labels associated with a Series or DataFrame object.\n",
    "\n",
    "Note that the specific details and methods available in the Index class may vary depending on the version of pandas being used. It is common to encounter this output when checking the type of the index attribute of a pandas object."
   ]
  },
  {
   "cell_type": "markdown",
   "id": "2c9b2ced-695c-46a2-9a73-67f559eeeeff",
   "metadata": {},
   "source": [
    "### Retrieving the Values Attribute"
   ]
  },
  {
   "cell_type": "code",
   "execution_count": 48,
   "id": "40f8d427-b76e-4159-9cda-4502416ff282",
   "metadata": {},
   "outputs": [
    {
     "data": {
      "text/plain": [
       "array([10, 20, 30, 40, 50], dtype=int64)"
      ]
     },
     "execution_count": 48,
     "metadata": {},
     "output_type": "execute_result"
    }
   ],
   "source": [
    "series_data = pd.Series([10, 20, 30, 40, 50])\n",
    "\n",
    "# Retrieve the values attribute\n",
    "series_data.values"
   ]
  },
  {
   "cell_type": "code",
   "execution_count": 50,
   "id": "162e8a3e-1773-45a6-a2f5-5ae3e2039c17",
   "metadata": {},
   "outputs": [
    {
     "name": "stdout",
     "output_type": "stream",
     "text": [
      "<class 'numpy.ndarray'>\n"
     ]
    }
   ],
   "source": [
    "print (type(series_data.values))"
   ]
  },
  {
   "cell_type": "markdown",
   "id": "e73dff75-c90c-4624-b212-2812374c47a0",
   "metadata": {},
   "source": [
    "### Retrieving the dtype Attribute"
   ]
  },
  {
   "cell_type": "code",
   "execution_count": 51,
   "id": "0d43eb43-5ff8-4da0-9a14-2a8499cb8379",
   "metadata": {},
   "outputs": [
    {
     "name": "stdout",
     "output_type": "stream",
     "text": [
      "int64\n"
     ]
    }
   ],
   "source": [
    "series_data = pd.Series([10, 20, 30, 40, 50])\n",
    "\n",
    "# Retrieve the dtype attribute\n",
    "print(series_data.dtype)"
   ]
  },
  {
   "cell_type": "code",
   "execution_count": 41,
   "id": "839d03d9-72d4-44f8-8b07-400284e396a9",
   "metadata": {},
   "outputs": [
    {
     "name": "stdout",
     "output_type": "stream",
     "text": [
      "datetime64[ns]\n"
     ]
    }
   ],
   "source": [
    "dates = ['2023-07-01', '2023-07-02', '2023-07-03']\n",
    "series_dates = pd.Series(dates, dtype='datetime64[ns]')\n",
    "print(series_dates.dtype)"
   ]
  },
  {
   "cell_type": "raw",
   "id": "1b4f3b4e-7d3d-4b9e-92a9-3e457f9fecf5",
   "metadata": {},
   "source": [
    "In this code, we create a Series series_dates with dtype set to datetime64[ns], representing dates with nanosecond precision. The dtype attribute is retrieved using series_dates.dtype, and it will output datetime64[ns], indicating that the dtype of the Series is a Date."
   ]
  },
  {
   "cell_type": "code",
   "execution_count": 43,
   "id": "e67fa0ea-e239-4e10-af0d-2178baafbbb1",
   "metadata": {},
   "outputs": [
    {
     "name": "stdout",
     "output_type": "stream",
     "text": [
      "object\n"
     ]
    }
   ],
   "source": [
    "strings = ['hello', 'world', 'pandas']\n",
    "series_strings = pd.Series(strings, dtype='object')\n",
    "print(series_strings.dtype)"
   ]
  },
  {
   "cell_type": "raw",
   "id": "ce8b6295-51ee-4cf8-8d3d-8d6c4221c692",
   "metadata": {},
   "source": [
    "In this example, we create a Series series_strings with dtype set to object, which is a generic dtype that can hold various types of Python objects. The dtype attribute is retrieved using series_strings.dtype, and it will output object, indicating that the dtype of the Series is a string."
   ]
  },
  {
   "cell_type": "markdown",
   "id": "4d95bae7-04ca-4011-bc6d-1b65d9465b52",
   "metadata": {},
   "source": [
    "### Retrieving the Shape Attribute"
   ]
  },
  {
   "cell_type": "code",
   "execution_count": 44,
   "id": "a2173ed4-5780-44e2-a711-3263fd38a8f5",
   "metadata": {},
   "outputs": [
    {
     "name": "stdout",
     "output_type": "stream",
     "text": [
      "(5,)\n"
     ]
    }
   ],
   "source": [
    "series_data = pd.Series([10, 20, 30, 40, 50])\n",
    "\n",
    "# Retrieve the shape attribute\n",
    "print(series_data.shape)"
   ]
  },
  {
   "cell_type": "markdown",
   "id": "e8e84217-f344-41f7-b010-056c04728288",
   "metadata": {},
   "source": [
    "## Manipulating data"
   ]
  },
  {
   "cell_type": "raw",
   "id": "1943da7e-53c1-43bc-a08f-31e7ccce6bdc",
   "metadata": {},
   "source": [
    "Manipulating data in pandas refers to the process of modifying, transforming, or reorganizing data stored in pandas data structures such as Series and DataFrames. It involves performing various operations on the data to extract useful information, clean and preprocess it, derive new features, reshape the structure, or compute summary statistics"
   ]
  },
  {
   "cell_type": "markdown",
   "id": "af50c662-ee03-498e-ad82-d8f9b42e74ff",
   "metadata": {},
   "source": [
    "### Manipulating the Index Attribute"
   ]
  },
  {
   "cell_type": "code",
   "execution_count": 45,
   "id": "07c646ca-28fe-464b-8fef-721e644900e7",
   "metadata": {},
   "outputs": [
    {
     "name": "stdout",
     "output_type": "stream",
     "text": [
      "A    10\n",
      "B    20\n",
      "C    30\n",
      "D    40\n",
      "E    50\n",
      "dtype: int64\n",
      "0    10\n",
      "1    20\n",
      "2    30\n",
      "3    40\n",
      "4    50\n",
      "dtype: int64\n"
     ]
    }
   ],
   "source": [
    "series_data = pd.Series([10, 20, 30, 40, 50])\n",
    "\n",
    "# Change the index labels\n",
    "series_data.index = ['A', 'B', 'C', 'D', 'E']\n",
    "print(series_data)\n",
    "\n",
    "# Reset the index to default numerical index\n",
    "series_data = series_data.reset_index(drop=True)\n",
    "print(series_data)"
   ]
  },
  {
   "cell_type": "markdown",
   "id": "cdca83b9-3827-4c1e-82f5-e245200cb06d",
   "metadata": {},
   "source": [
    "### Manipulating the Values Attribute"
   ]
  },
  {
   "cell_type": "code",
   "execution_count": 46,
   "id": "ad453234-4abb-41f3-9deb-dbb018430229",
   "metadata": {},
   "outputs": [
    {
     "name": "stdout",
     "output_type": "stream",
     "text": [
      "0     20\n",
      "1     40\n",
      "2     60\n",
      "3     80\n",
      "4    100\n",
      "dtype: int64\n",
      "0      400\n",
      "1     1600\n",
      "2     3600\n",
      "3     6400\n",
      "4    10000\n",
      "dtype: int64\n"
     ]
    }
   ],
   "source": [
    "series_data = pd.Series([10, 20, 30, 40, 50])\n",
    "\n",
    "# Multiply all values by 2\n",
    "series_data = series_data * 2\n",
    "print(series_data)\n",
    "\n",
    "# Apply a custom function to the values\n",
    "series_data = series_data.apply(lambda x: x ** 2)\n",
    "print(series_data)"
   ]
  },
  {
   "cell_type": "raw",
   "id": "f28274fa-df5d-40e5-8727-b29c497d04d3",
   "metadata": {},
   "source": [
    "Let's break it down step by step:\n",
    "\n",
    "series_data = pd.Series([10, 20, 30, 40, 50]): This line creates a Series object named series_data with five elements: 10, 20, 30, 40, and 50. By default, pandas assigns a numerical index to the Series.\n",
    "\n",
    "series_data = series_data * 2: This line multiplies each value in the series_data Series by 2. It effectively doubles each value in the Series. The result is stored back into the series_data variable, overwriting the original Series.\n",
    "\n",
    "print(series_data): This line prints the updated series_data Series after multiplying all the values by 2. The output will display the modified Series.\n",
    "\n",
    "series_data = series_data.apply(lambda x: x ** 2): This line applies a custom function to each value in the series_data Series. The lambda function lambda x: x ** 2 squares each value. The apply() method is used to apply this function to each element of the Series.\n",
    "\n",
    "print(series_data): This line prints the series_data Series after applying the lambda function to each value. The output will display the Series with each value squared."
   ]
  },
  {
   "cell_type": "code",
   "execution_count": 50,
   "id": "ba8ccb22-5ad3-4072-b485-06aeb1737c3a",
   "metadata": {},
   "outputs": [
    {
     "name": "stdout",
     "output_type": "stream",
     "text": [
      "0         Apple\n",
      "1        Banana\n",
      "2        Cherry\n",
      "3          Date\n",
      "4    Elderberry\n",
      "5           Rot\n",
      "dtype: object\n"
     ]
    }
   ],
   "source": [
    "import pandas as pd\n",
    "\n",
    "series_data = pd.Series(['apple', 'banana', 'cherry', 'date', 'elderberry','rot'])\n",
    "\n",
    "# Apply a custom function to capitalize each string value\n",
    "series_data = series_data.apply(lambda x: x.capitalize())\n",
    "print(series_data)"
   ]
  },
  {
   "cell_type": "raw",
   "id": "d2b0b42f-025d-49e0-8ea3-3d3d0874d896",
   "metadata": {},
   "source": [
    "In this example, we have a pandas Series named series_data that contains string values. We use the apply() method to apply a custom lambda function to each element of the Series. The lambda function lambda x: x.capitalize() capitalizes the first letter of each string value."
   ]
  },
  {
   "cell_type": "raw",
   "id": "bd5dbfce-82be-45a4-939a-b613562315e4",
   "metadata": {},
   "source": [
    "Here's a Python function that reads a text and returns \"long text\" if the length is more than 4 characters, and \"Short text\" if the length is less than or equal to 4 characters:"
   ]
  },
  {
   "cell_type": "code",
   "execution_count": 48,
   "id": "c9dc3064-6268-43ea-9754-f7fdc144386f",
   "metadata": {},
   "outputs": [
    {
     "name": "stdout",
     "output_type": "stream",
     "text": [
      "long text\n",
      "Short text\n",
      "long text\n"
     ]
    }
   ],
   "source": [
    "def check_text_length(text):\n",
    "    if len(text) > 4:\n",
    "        return \"long text\"\n",
    "    else:\n",
    "        return \"Short text\"\n",
    "\n",
    "# Example usage:\n",
    "text1 = \"Hello\"\n",
    "text2 = \"Hi\"\n",
    "text3 = \"Python\"\n",
    "\n",
    "print(check_text_length(text1))  # Output: long text\n",
    "print(check_text_length(text2))  # Output: Short text\n",
    "print(check_text_length(text3))  # Output: long text"
   ]
  },
  {
   "cell_type": "code",
   "execution_count": 51,
   "id": "c39262ae-6cd4-4a16-9432-e0f484e10034",
   "metadata": {},
   "outputs": [
    {
     "name": "stdout",
     "output_type": "stream",
     "text": [
      "0     long text\n",
      "1     long text\n",
      "2     long text\n",
      "3    Short text\n",
      "4     long text\n",
      "5    Short text\n",
      "dtype: object\n"
     ]
    }
   ],
   "source": [
    "series_data = series_data.apply(check_text_length)\n",
    "print(series_data)"
   ]
  },
  {
   "cell_type": "markdown",
   "id": "df9fbabb-99cd-4eec-a215-3784b112c831",
   "metadata": {
    "tags": []
   },
   "source": [
    "### Manipulating the dtype Attribute"
   ]
  },
  {
   "cell_type": "code",
   "execution_count": 53,
   "id": "9c3dbe04-4225-49e1-93f3-b63cf8cf2cde",
   "metadata": {},
   "outputs": [
    {
     "name": "stdout",
     "output_type": "stream",
     "text": [
      "0    10\n",
      "1    20\n",
      "2    30\n",
      "3    40\n",
      "4    50\n",
      "dtype: int64\n",
      "0    10.0\n",
      "1    20.0\n",
      "2    30.0\n",
      "3    40.0\n",
      "4    50.0\n",
      "dtype: float64\n",
      "0    10.0\n",
      "1    20.0\n",
      "2    30.0\n",
      "3    40.0\n",
      "4    50.0\n",
      "dtype: object\n"
     ]
    }
   ],
   "source": [
    "series_data = pd.Series([10, 20, 30, 40, 50])\n",
    "print(series_data)\n",
    "# Convert the dtype to float\n",
    "series_data = series_data.astype(float)\n",
    "print(series_data)\n",
    "\n",
    "# Convert the dtype to string\n",
    "series_data = series_data.astype(str)\n",
    "print(series_data)"
   ]
  },
  {
   "cell_type": "markdown",
   "id": "bcb4fc9f-c033-4476-a903-e65d01bb16fa",
   "metadata": {},
   "source": [
    "### Manipulating the Shape Attribute"
   ]
  },
  {
   "cell_type": "code",
   "execution_count": 56,
   "id": "03b5cdf1-238e-4eeb-9d9d-e8adb16047de",
   "metadata": {},
   "outputs": [
    {
     "name": "stdout",
     "output_type": "stream",
     "text": [
      "0    10\n",
      "1    20\n",
      "2    30\n",
      "3    40\n",
      "4    50\n",
      "0    60\n",
      "1    70\n",
      "dtype: int64\n",
      "0    10\n",
      "3    40\n",
      "4    50\n",
      "0    60\n",
      "dtype: int64\n"
     ]
    },
    {
     "name": "stderr",
     "output_type": "stream",
     "text": [
      "C:\\Users\\User\\AppData\\Local\\Temp\\ipykernel_17216\\4124870161.py:4: FutureWarning: The series.append method is deprecated and will be removed from pandas in a future version. Use pandas.concat instead.\n",
      "  series_data = series_data.append(pd.Series([60, 70]))\n"
     ]
    }
   ],
   "source": [
    "series_data = pd.Series([10, 20, 30, 40, 50])\n",
    "\n",
    "# Change the shape of the Series by appending new values\n",
    "series_data = series_data.append(pd.Series([60, 70]))\n",
    "print(series_data)\n",
    "\n",
    "# Change the shape of the Series by dropping values\n",
    "series_data = series_data.drop([1, 2])\n",
    "print(series_data)"
   ]
  },
  {
   "cell_type": "code",
   "execution_count": 57,
   "id": "988e4ee4-89fb-4ec2-931c-a11d1dc9955a",
   "metadata": {},
   "outputs": [
    {
     "name": "stdout",
     "output_type": "stream",
     "text": [
      "0    10\n",
      "1    20\n",
      "2    30\n",
      "3    40\n",
      "4    50\n",
      "0    60\n",
      "1    70\n",
      "dtype: int64\n"
     ]
    }
   ],
   "source": [
    "series_data = pd.Series([10, 20, 30, 40, 50])\n",
    "new_values = pd.Series([60, 70])\n",
    "\n",
    "# Append new_values to series_data using pd.concat()\n",
    "series_data = pd.concat([series_data, new_values])\n",
    "\n",
    "print(series_data)"
   ]
  },
  {
   "cell_type": "markdown",
   "id": "7a1cede2-8999-4f70-858d-079c04b080fb",
   "metadata": {},
   "source": [
    "###  Advanced Data Manipulation:\n",
    "Learn various methods and functions to manipulate data in a Series, including sorting, filtering, adding or removing elements, and modifying values. Understand how to handle missing data"
   ]
  },
  {
   "cell_type": "raw",
   "id": "61ca895b-e73d-41e4-a8d9-f654ae46c9aa",
   "metadata": {},
   "source": [
    "Here's a comprehensive list of code examples covering the basics to advanced concepts of data manipulation in pandas:"
   ]
  },
  {
   "cell_type": "markdown",
   "id": "125c543e-4521-455f-bc9c-e61ff1380d17",
   "metadata": {},
   "source": [
    "### Sorting a Series"
   ]
  },
  {
   "cell_type": "code",
   "execution_count": 58,
   "id": "176224c6-0ede-4f12-8bd8-9569d544c87a",
   "metadata": {},
   "outputs": [
    {
     "name": "stdout",
     "output_type": "stream",
     "text": [
      "2    1\n",
      "4    2\n",
      "1    3\n",
      "3    4\n",
      "0    5\n",
      "dtype: int64\n",
      "0    5\n",
      "3    4\n",
      "1    3\n",
      "4    2\n",
      "2    1\n",
      "dtype: int64\n"
     ]
    }
   ],
   "source": [
    "series_data = pd.Series([5, 3, 1, 4, 2])\n",
    "\n",
    "# Sort the Series in ascending order\n",
    "sorted_series = series_data.sort_values()\n",
    "print(sorted_series)\n",
    "\n",
    "# Sort the Series in descending order\n",
    "sorted_series_desc = series_data.sort_values(ascending=False)\n",
    "print(sorted_series_desc)"
   ]
  },
  {
   "cell_type": "markdown",
   "id": "601d3cda-7b54-41c0-902a-c6a7089937c5",
   "metadata": {},
   "source": [
    "### Filtering a Series"
   ]
  },
  {
   "cell_type": "code",
   "execution_count": 59,
   "id": "00747feb-ae1d-4b31-9f7f-9e8c1b6cb589",
   "metadata": {},
   "outputs": [],
   "source": [
    "series_data = pd.Series([10, 20, 30, 40, 50])\n",
    "filter1=series_data>30\n",
    "filter2=series_data%4==0\n",
    "filter3=series_data.isin([10,30])"
   ]
  },
  {
   "cell_type": "code",
   "execution_count": 60,
   "id": "0062ff00-e773-4fea-84d7-2f2eb706f99c",
   "metadata": {},
   "outputs": [
    {
     "data": {
      "text/plain": [
       "3    40\n",
       "4    50\n",
       "dtype: int64"
      ]
     },
     "execution_count": 60,
     "metadata": {},
     "output_type": "execute_result"
    }
   ],
   "source": [
    "series_data[filter1]"
   ]
  },
  {
   "cell_type": "code",
   "execution_count": 61,
   "id": "62bdf243-c21a-4343-aca4-00dbf5bee18a",
   "metadata": {},
   "outputs": [
    {
     "data": {
      "text/plain": [
       "1    20\n",
       "3    40\n",
       "dtype: int64"
      ]
     },
     "execution_count": 61,
     "metadata": {},
     "output_type": "execute_result"
    }
   ],
   "source": [
    "series_data[filter2]"
   ]
  },
  {
   "cell_type": "code",
   "execution_count": 62,
   "id": "209ca37a-4a68-4250-8d47-280b91da9b80",
   "metadata": {},
   "outputs": [
    {
     "data": {
      "text/plain": [
       "0    10\n",
       "2    30\n",
       "dtype: int64"
      ]
     },
     "execution_count": 62,
     "metadata": {},
     "output_type": "execute_result"
    }
   ],
   "source": [
    "series_data[filter3]"
   ]
  },
  {
   "cell_type": "code",
   "execution_count": 63,
   "id": "71a8181c-f021-4069-b3b5-a02353fa0f7e",
   "metadata": {},
   "outputs": [
    {
     "data": {
      "text/plain": [
       "3    40\n",
       "dtype: int64"
      ]
     },
     "execution_count": 63,
     "metadata": {},
     "output_type": "execute_result"
    }
   ],
   "source": [
    "series_data[filter1 & filter2]"
   ]
  },
  {
   "cell_type": "code",
   "execution_count": 64,
   "id": "4807c29a-cb22-4d1b-badb-0dc4de23440b",
   "metadata": {},
   "outputs": [
    {
     "data": {
      "text/plain": [
       "1    20\n",
       "3    40\n",
       "4    50\n",
       "dtype: int64"
      ]
     },
     "execution_count": 64,
     "metadata": {},
     "output_type": "execute_result"
    }
   ],
   "source": [
    "series_data[filter1 | filter2]"
   ]
  },
  {
   "cell_type": "markdown",
   "id": "fdb124e3-0f70-4244-9b4a-eae14015e1fa",
   "metadata": {},
   "source": [
    "### Adding elements to a Series:"
   ]
  },
  {
   "cell_type": "code",
   "execution_count": 2,
   "id": "38a99824-3feb-41f3-a69b-c62d27dcdb41",
   "metadata": {},
   "outputs": [
    {
     "name": "stdout",
     "output_type": "stream",
     "text": [
      "0    1\n",
      "1    2\n",
      "2    3\n",
      "0    4\n",
      "dtype: int64\n",
      "0    1\n",
      "1    2\n",
      "2    3\n",
      "0    4\n",
      "0    5\n",
      "1    6\n",
      "dtype: int64\n"
     ]
    },
    {
     "name": "stderr",
     "output_type": "stream",
     "text": [
      "C:\\Users\\User\\AppData\\Local\\Temp\\ipykernel_3740\\1974328797.py:4: FutureWarning: The series.append method is deprecated and will be removed from pandas in a future version. Use pandas.concat instead.\n",
      "  series_data = series_data.append(pd.Series([4]))\n"
     ]
    }
   ],
   "source": [
    "series_data = pd.Series([1, 2, 3])\n",
    "\n",
    "# Append a new value to the Series\n",
    "series_data = series_data.append(pd.Series([4]))\n",
    "print(series_data)\n",
    "\n",
    "# Concatenate two Series\n",
    "series_data = pd.concat([series_data, pd.Series([5, 6])])\n",
    "print(series_data)"
   ]
  },
  {
   "cell_type": "markdown",
   "id": "a2d81284-31dc-4cdc-9a17-937db85f9e2d",
   "metadata": {},
   "source": [
    "### Removing elements from a Series"
   ]
  },
  {
   "cell_type": "code",
   "execution_count": 3,
   "id": "84e06ae2-81d3-4b40-bacf-e0f8f53c8a0d",
   "metadata": {},
   "outputs": [
    {
     "name": "stdout",
     "output_type": "stream",
     "text": [
      "0    1\n",
      "1    2\n",
      "3    4\n",
      "4    5\n",
      "dtype: int64\n",
      "0    1\n",
      "4    5\n",
      "dtype: int64\n"
     ]
    }
   ],
   "source": [
    "series_data = pd.Series([1, 2, 3, 4, 5])\n",
    "\n",
    "# Remove element at index 2\n",
    "series_data = series_data.drop(2)\n",
    "print(series_data)\n",
    "\n",
    "# Remove multiple elements\n",
    "series_data = series_data.drop([1, 3])\n",
    "print(series_data)"
   ]
  },
  {
   "cell_type": "markdown",
   "id": "2f86337b-f8ce-4fae-9e20-793d4ed07114",
   "metadata": {},
   "source": [
    "### Modifying values in a Series"
   ]
  },
  {
   "cell_type": "code",
   "execution_count": 4,
   "id": "54e74984-ddef-4a32-944a-43cd512a96a5",
   "metadata": {},
   "outputs": [
    {
     "name": "stdout",
     "output_type": "stream",
     "text": [
      "0     20\n",
      "1     40\n",
      "2     60\n",
      "3     80\n",
      "4    100\n",
      "dtype: int64\n",
      "0     20\n",
      "1     40\n",
      "2    100\n",
      "3    200\n",
      "4    100\n",
      "dtype: int64\n"
     ]
    }
   ],
   "source": [
    "series_data = pd.Series([10, 20, 30, 40, 50])\n",
    "\n",
    "# Multiply all values by 2\n",
    "series_data = series_data * 2\n",
    "print(series_data)\n",
    "\n",
    "# Replace specific values\n",
    "series_data = series_data.replace({60: 100, 80: 200})\n",
    "print(series_data)\n"
   ]
  },
  {
   "cell_type": "code",
   "execution_count": 5,
   "id": "cc03ac77-ae8a-4a6c-aed2-12ae49cae9e8",
   "metadata": {},
   "outputs": [
    {
     "name": "stdout",
     "output_type": "stream",
     "text": [
      "0         apple\n",
      "1          pear\n",
      "2        cherry\n",
      "3          plum\n",
      "4    elderberry\n",
      "dtype: object\n"
     ]
    }
   ],
   "source": [
    "series_data = pd.Series(['apple', 'banana', 'cherry', 'date', 'elderberry'])\n",
    "\n",
    "repdict={'banana': 'pear', 'date': 'plum'}\n",
    "# Replace specific string values\n",
    "series_data = series_data.replace(repdict)\n",
    "print(series_data)"
   ]
  },
  {
   "cell_type": "markdown",
   "id": "2449bd36-9022-4140-bc7b-0365f5ade214",
   "metadata": {},
   "source": [
    "### missing data"
   ]
  },
  {
   "cell_type": "code",
   "execution_count": 6,
   "id": "6daeb71e-c85d-4bf8-97e0-87414ac83961",
   "metadata": {},
   "outputs": [
    {
     "data": {
      "text/plain": [
       "0    1.0\n",
       "1    NaN\n",
       "2    3.0\n",
       "3    NaN\n",
       "4    5.0\n",
       "5    NaN\n",
       "6    7.0\n",
       "dtype: float64"
      ]
     },
     "execution_count": 6,
     "metadata": {},
     "output_type": "execute_result"
    }
   ],
   "source": [
    "series_data = pd.Series([1, np.nan, 3, np.nan, 5, None, 7])\n",
    "series_data"
   ]
  },
  {
   "cell_type": "code",
   "execution_count": 7,
   "id": "17d65a12-3821-4674-9e63-b31944098155",
   "metadata": {},
   "outputs": [
    {
     "name": "stdout",
     "output_type": "stream",
     "text": [
      "0    False\n",
      "1     True\n",
      "2    False\n",
      "3     True\n",
      "4    False\n",
      "5     True\n",
      "6    False\n",
      "dtype: bool\n"
     ]
    }
   ],
   "source": [
    "print(series_data.isnull())"
   ]
  },
  {
   "cell_type": "code",
   "execution_count": 9,
   "id": "41ee290a-acba-4f2c-805c-33c19286eac7",
   "metadata": {},
   "outputs": [
    {
     "name": "stdout",
     "output_type": "stream",
     "text": [
      "3\n"
     ]
    }
   ],
   "source": [
    "print(series_data.isnull().sum())"
   ]
  },
  {
   "cell_type": "code",
   "execution_count": 10,
   "id": "74476861-0e25-4e40-b34a-85d97421ee51",
   "metadata": {},
   "outputs": [
    {
     "name": "stdout",
     "output_type": "stream",
     "text": [
      "0    1.0\n",
      "2    3.0\n",
      "4    5.0\n",
      "6    7.0\n",
      "dtype: float64\n"
     ]
    }
   ],
   "source": [
    "# Drop missing values\n",
    "series_data_dropped = series_data.dropna()\n",
    "print(series_data_dropped)"
   ]
  },
  {
   "cell_type": "code",
   "execution_count": 11,
   "id": "366bcfc2-9307-466a-b937-7b71392fe37c",
   "metadata": {},
   "outputs": [
    {
     "name": "stdout",
     "output_type": "stream",
     "text": [
      "0    1.0\n",
      "1    0.0\n",
      "2    3.0\n",
      "3    0.0\n",
      "4    5.0\n",
      "5    0.0\n",
      "6    7.0\n",
      "dtype: float64\n"
     ]
    }
   ],
   "source": [
    "# Fill missing values with a specific value\n",
    "series_data_filled = series_data.fillna(0)\n",
    "print(series_data_filled)"
   ]
  },
  {
   "cell_type": "code",
   "execution_count": 12,
   "id": "81f25e63-95cc-411b-b5dc-cd8969e1257a",
   "metadata": {},
   "outputs": [
    {
     "name": "stdout",
     "output_type": "stream",
     "text": [
      "0    1.0\n",
      "1    1.0\n",
      "2    3.0\n",
      "3    3.0\n",
      "4    5.0\n",
      "5    5.0\n",
      "6    7.0\n",
      "dtype: float64\n"
     ]
    }
   ],
   "source": [
    "series_data_ffill = series_data.ffill()\n",
    "print(series_data_ffill)"
   ]
  },
  {
   "cell_type": "code",
   "execution_count": 13,
   "id": "5fdabd7f-8d11-4dd0-a6d0-67567763c620",
   "metadata": {},
   "outputs": [
    {
     "name": "stdout",
     "output_type": "stream",
     "text": [
      "0    1.0\n",
      "1    3.0\n",
      "2    3.0\n",
      "3    5.0\n",
      "4    5.0\n",
      "5    7.0\n",
      "6    7.0\n",
      "dtype: float64\n"
     ]
    }
   ],
   "source": [
    "series_data_bfill = series_data.bfill()\n",
    "print(series_data_bfill)"
   ]
  },
  {
   "cell_type": "raw",
   "id": "d430f3f7-fc3d-4247-a0f2-a445d36f75fc",
   "metadata": {},
   "source": [
    "Here's a code example that fills null values in a pandas Series with the mean of the other numbers in the series"
   ]
  },
  {
   "cell_type": "code",
   "execution_count": 14,
   "id": "1bb64a44-a713-4bfb-9ee1-47b8aa55b4ea",
   "metadata": {},
   "outputs": [
    {
     "name": "stdout",
     "output_type": "stream",
     "text": [
      "0    1.0\n",
      "1    2.0\n",
      "2    3.8\n",
      "3    4.0\n",
      "4    5.0\n",
      "5    3.8\n",
      "6    7.0\n",
      "dtype: float64\n"
     ]
    }
   ],
   "source": [
    "# Create a Series with null values\n",
    "series_data = pd.Series([1, 2, np.nan, 4, 5, np.nan, 7])\n",
    "\n",
    "# Calculate the mean excluding null values\n",
    "mean = series_data[~series_data.isnull()].mean()\n",
    "\n",
    "# Fill null values with the mean\n",
    "series_data_filled = series_data.fillna(mean)\n",
    "print(series_data_filled)"
   ]
  },
  {
   "cell_type": "raw",
   "id": "efec803f-cb16-458b-99c6-5d2b1b2ce051",
   "metadata": {},
   "source": [
    "Here's a code example that fills null values in a pandas Series with the moving average of the other numbers in the series:"
   ]
  },
  {
   "cell_type": "code",
   "execution_count": 15,
   "id": "f9d0e5c8-2939-4fea-b67b-cc96dafd3a3a",
   "metadata": {},
   "outputs": [
    {
     "name": "stdout",
     "output_type": "stream",
     "text": [
      "0    1.0\n",
      "1    2.0\n",
      "2    1.5\n",
      "3    4.0\n",
      "4    5.0\n",
      "5    4.5\n",
      "6    7.0\n",
      "dtype: float64\n"
     ]
    }
   ],
   "source": [
    "# Create a Series with null values\n",
    "series_data = pd.Series([1, 2, np.nan, 4, 5, np.nan, 7])\n",
    "\n",
    "# Calculate the moving average excluding null values\n",
    "window_size = 3  # Adjust the window size as needed\n",
    "series_data_filled = series_data.fillna(series_data.rolling(window_size, min_periods=1).mean())\n",
    "\n",
    "print(series_data_filled)"
   ]
  },
  {
   "cell_type": "raw",
   "id": "16a52b28-5f95-4d9a-a890-7acbf858802d",
   "metadata": {},
   "source": [
    "we use the rolling() method along with the mean() method to calculate the moving average of the Series. The rolling() method specifies the window size for the moving average, which in this example is set to 3. The min_periods=1 argument ensures that the moving average is calculated even if there are null values in the initial window."
   ]
  },
  {
   "cell_type": "markdown",
   "id": "3df092b8-9b04-4f1e-a706-f57e82d0e7c7",
   "metadata": {},
   "source": [
    "#### Bonus tip : The rolling"
   ]
  },
  {
   "cell_type": "code",
   "execution_count": 17,
   "id": "5a3a65ca-78d1-49f9-96bf-24f843181fff",
   "metadata": {},
   "outputs": [
    {
     "name": "stdout",
     "output_type": "stream",
     "text": [
      "Rolling [window=3,center=False,axis=0,method=single]\n",
      "0     NaN\n",
      "1     NaN\n",
      "2    12.0\n",
      "3    18.0\n",
      "4    24.0\n",
      "5    30.0\n",
      "6    36.0\n",
      "7    42.0\n",
      "8    48.0\n",
      "9    54.0\n",
      "dtype: float64\n"
     ]
    }
   ],
   "source": [
    "# Create a Series with 10 numbers\n",
    "series_data = pd.Series([2, 4, 6, 8, 10, 12, 14, 16, 18, 20])\n",
    "\n",
    "# Calculate the rolling sum with a window size of 3\n",
    "roll=series_data.rolling(window=3)\n",
    "rolling_sum = series_data.rolling(window=3).sum()\n",
    "print(roll)\n",
    "print(rolling_sum)"
   ]
  },
  {
   "cell_type": "markdown",
   "id": "b0ce2a02-d210-49ed-99e9-70fe10662474",
   "metadata": {},
   "source": [
    "### arithmetic operations\n",
    "Understand how to perform arithmetic operations on Series, including element-wise operations, broadcasting, and alignment based on the index."
   ]
  },
  {
   "cell_type": "code",
   "execution_count": 18,
   "id": "9934b524-748d-41e0-ad30-2d51de288d37",
   "metadata": {},
   "outputs": [
    {
     "name": "stdout",
     "output_type": "stream",
     "text": [
      "Element-wise addition:\n",
      "0    11\n",
      "1    22\n",
      "2    33\n",
      "3    44\n",
      "4    55\n",
      "dtype: int64\n",
      "\n",
      "Element-wise subtraction:\n",
      "0    -9\n",
      "1   -18\n",
      "2   -27\n",
      "3   -36\n",
      "4   -45\n",
      "dtype: int64\n",
      "\n",
      "Element-wise multiplication:\n",
      "0     10\n",
      "1     40\n",
      "2     90\n",
      "3    160\n",
      "4    250\n",
      "dtype: int64\n",
      "\n",
      "Element-wise division:\n",
      "0    0.1\n",
      "1    0.1\n",
      "2    0.1\n",
      "3    0.1\n",
      "4    0.1\n",
      "dtype: float64\n",
      "\n",
      "Broadcasting with scalar value:\n",
      "0    11\n",
      "1    12\n",
      "2    13\n",
      "3    14\n",
      "4    15\n",
      "dtype: int64\n"
     ]
    }
   ],
   "source": [
    "# Create two Series\n",
    "series1 = pd.Series([1, 2, 3, 4, 5])\n",
    "series2 = pd.Series([10, 20, 30, 40, 50])\n",
    "\n",
    "# Element-wise addition\n",
    "addition = series1 + series2\n",
    "print(\"Element-wise addition:\")\n",
    "print(addition)\n",
    "\n",
    "# Element-wise subtraction\n",
    "subtraction = series1 - series2\n",
    "print(\"\\nElement-wise subtraction:\")\n",
    "print(subtraction)\n",
    "\n",
    "# Element-wise multiplication\n",
    "multiplication = series1 * series2\n",
    "print(\"\\nElement-wise multiplication:\")\n",
    "print(multiplication)\n",
    "\n",
    "# Element-wise division\n",
    "division = series1 / series2\n",
    "print(\"\\nElement-wise division:\")\n",
    "print(division)\n",
    "\n",
    "# Broadcasting with scalar value\n",
    "scalar_broadcast = series1 + 10\n",
    "print(\"\\nBroadcasting with scalar value:\")\n",
    "print(scalar_broadcast)"
   ]
  },
  {
   "cell_type": "code",
   "execution_count": 19,
   "id": "55d17f03-6082-410a-b3a1-77f0da26f69b",
   "metadata": {},
   "outputs": [
    {
     "name": "stdout",
     "output_type": "stream",
     "text": [
      "\n",
      "Alignment based on index - addition:\n",
      "0     NaN\n",
      "1    12.0\n",
      "2    23.0\n",
      "3     NaN\n",
      "dtype: float64\n",
      "\n",
      "Alignment based on index - subtraction:\n",
      "0     NaN\n",
      "1    -8.0\n",
      "2   -17.0\n",
      "3     NaN\n",
      "dtype: float64\n",
      "\n",
      "Alignment based on index - multiplication:\n",
      "0     NaN\n",
      "1    20.0\n",
      "2    60.0\n",
      "3     NaN\n",
      "dtype: float64\n",
      "\n",
      "Alignment based on index - division:\n",
      "0     NaN\n",
      "1    0.20\n",
      "2    0.15\n",
      "3     NaN\n",
      "dtype: float64\n"
     ]
    }
   ],
   "source": [
    "# Arithmetic operation with differently indexed Series\n",
    "series3 = pd.Series([1, 2, 3], index=[0, 1, 2])\n",
    "series4 = pd.Series([10, 20, 30], index=[1, 2, 3])\n",
    "\n",
    "alignment_addition = series3 + series4\n",
    "print(\"\\nAlignment based on index - addition:\")\n",
    "print(alignment_addition)\n",
    "\n",
    "alignment_subtraction = series3 - series4\n",
    "print(\"\\nAlignment based on index - subtraction:\")\n",
    "print(alignment_subtraction)\n",
    "\n",
    "alignment_multiplication = series3 * series4\n",
    "print(\"\\nAlignment based on index - multiplication:\")\n",
    "print(alignment_multiplication)\n",
    "\n",
    "alignment_division = series3 / series4\n",
    "print(\"\\nAlignment based on index - division:\")\n",
    "print(alignment_division)"
   ]
  },
  {
   "cell_type": "markdown",
   "id": "aec7cdde-d6a5-4626-b0cb-ca9cdd1fc7bb",
   "metadata": {},
   "source": [
    "# Descriptive Statistics\n",
    "Explore methods for computing descriptive statistics on Series, such as mean, median, standard deviation, and quantiles. Learn how to handle missing values  "
   ]
  },
  {
   "cell_type": "markdown",
   "id": "91000bd3-1cb5-4dab-bcc7-86a5665d0e85",
   "metadata": {},
   "source": [
    "## Basic statistics"
   ]
  },
  {
   "cell_type": "raw",
   "id": "5d299c6e-a128-4137-8a0b-892592467896",
   "metadata": {},
   "source": [
    "In this code example list, we cover various aspects of descriptive statistics with pandas"
   ]
  },
  {
   "cell_type": "code",
   "execution_count": 1,
   "id": "1cef5c3f-bcd8-41d1-a98b-7f58f13d0905",
   "metadata": {},
   "outputs": [],
   "source": [
    "import pandas as pd\n",
    "import numpy as np"
   ]
  },
  {
   "cell_type": "code",
   "execution_count": 2,
   "id": "18abdb4f-083b-4abc-8cfe-dcfed545f673",
   "metadata": {},
   "outputs": [],
   "source": [
    "series_data = pd.Series([10, 20, 30, 40, 50, np.nan, 60, 70, 80])"
   ]
  },
  {
   "cell_type": "code",
   "execution_count": 4,
   "id": "d24def5c-a867-4252-be85-828647558dd4",
   "metadata": {},
   "outputs": [
    {
     "name": "stdout",
     "output_type": "stream",
     "text": [
      "Mean: 45.0\n"
     ]
    }
   ],
   "source": [
    "# Compute the mean\n",
    "\n",
    "mean = series_data.mean()\n",
    "print(\"Mean:\", mean)"
   ]
  },
  {
   "cell_type": "code",
   "execution_count": 6,
   "id": "5ac9d9f7-be2f-44b2-8e72-45af02f7a579",
   "metadata": {},
   "outputs": [
    {
     "name": "stdout",
     "output_type": "stream",
     "text": [
      "Median: 45.0\n"
     ]
    }
   ],
   "source": [
    "# Compute the median\n",
    "\n",
    "median = series_data.median()\n",
    "print(\"Median:\", median)"
   ]
  },
  {
   "cell_type": "code",
   "execution_count": 7,
   "id": "6d9f0cad-1e3e-41d8-aa5a-f166e1b3747e",
   "metadata": {},
   "outputs": [
    {
     "name": "stdout",
     "output_type": "stream",
     "text": [
      "Standard Deviation: 24.49489742783178\n"
     ]
    }
   ],
   "source": [
    "# Compute the standard deviation\n",
    "\n",
    "std_dev = series_data.std()\n",
    "print(\"Standard Deviation:\", std_dev)"
   ]
  },
  {
   "cell_type": "code",
   "execution_count": 8,
   "id": "27d366cd-b753-4a73-aea4-98a354fd6e54",
   "metadata": {},
   "outputs": [
    {
     "name": "stdout",
     "output_type": "stream",
     "text": [
      "Variance: 600.0\n"
     ]
    }
   ],
   "source": [
    "# Compute the variance\n",
    "\n",
    "variance = series_data.var()\n",
    "print(\"Variance:\", variance)"
   ]
  },
  {
   "cell_type": "code",
   "execution_count": 10,
   "id": "3c6e425a-c5d8-4b2c-9eeb-d8ff58f6d0cc",
   "metadata": {},
   "outputs": [
    {
     "data": {
      "text/plain": [
       "24.49489742783178"
      ]
     },
     "execution_count": 10,
     "metadata": {},
     "output_type": "execute_result"
    }
   ],
   "source": [
    "#note :\n",
    "np.sqrt(600)"
   ]
  },
  {
   "cell_type": "code",
   "execution_count": 11,
   "id": "a717d5ca-b401-459f-b1c0-0b095f213c33",
   "metadata": {},
   "outputs": [
    {
     "name": "stdout",
     "output_type": "stream",
     "text": [
      "Minimum: 10.0\n",
      "Maximum: 80.0\n"
     ]
    }
   ],
   "source": [
    "# Compute the minimum and maximum values\n",
    "min_value = series_data.min()\n",
    "max_value = series_data.max()\n",
    "print(\"Minimum:\", min_value)\n",
    "print(\"Maximum:\", max_value)"
   ]
  },
  {
   "cell_type": "code",
   "execution_count": 12,
   "id": "fc66731b-7b96-4eea-9f64-9d9f7e7c6d7d",
   "metadata": {},
   "outputs": [
    {
     "name": "stdout",
     "output_type": "stream",
     "text": [
      "Quantiles:\n",
      "0.25    27.5\n",
      "0.50    45.0\n",
      "0.75    62.5\n",
      "dtype: float64\n"
     ]
    }
   ],
   "source": [
    "quantiles = series_data.quantile([0.25, 0.5, 0.75])\n",
    "print(\"Quantiles:\")\n",
    "print(quantiles)"
   ]
  },
  {
   "cell_type": "markdown",
   "id": "c96fef94-51f1-41b1-9565-daafd90b527c",
   "metadata": {
    "tags": []
   },
   "source": [
    "## Methods related to missing values"
   ]
  },
  {
   "cell_type": "code",
   "execution_count": 13,
   "id": "48da5b76-37e1-4212-ba4d-8e21d9b22f7e",
   "metadata": {},
   "outputs": [],
   "source": [
    "series_data = pd.Series([1, 2, None, 4, 5, None, 7])"
   ]
  },
  {
   "cell_type": "code",
   "execution_count": 15,
   "id": "89fa0504-4bf6-4cf9-8e58-1dbad9489771",
   "metadata": {},
   "outputs": [
    {
     "name": "stdout",
     "output_type": "stream",
     "text": [
      "0    False\n",
      "1    False\n",
      "2     True\n",
      "3    False\n",
      "4    False\n",
      "5     True\n",
      "6    False\n",
      "dtype: bool\n"
     ]
    }
   ],
   "source": [
    "# Check for missing values\n",
    "\n",
    "has_missing_values = series_data.isnull()\n",
    "print(has_missing_values)"
   ]
  },
  {
   "cell_type": "code",
   "execution_count": 17,
   "id": "be221ac3-6d39-42c9-b06d-c69343eff168",
   "metadata": {},
   "outputs": [
    {
     "data": {
      "text/plain": [
       "2"
      ]
     },
     "execution_count": 17,
     "metadata": {},
     "output_type": "execute_result"
    }
   ],
   "source": [
    "#note :\n",
    "\n",
    "has_missing_values.sum()"
   ]
  },
  {
   "cell_type": "code",
   "execution_count": 18,
   "id": "c5070017-9b1f-40fb-8143-bdb69c46c601",
   "metadata": {},
   "outputs": [
    {
     "data": {
      "text/plain": [
       "False    5\n",
       "True     2\n",
       "dtype: int64"
      ]
     },
     "execution_count": 18,
     "metadata": {},
     "output_type": "execute_result"
    }
   ],
   "source": [
    "has_missing_values.value_counts()"
   ]
  },
  {
   "cell_type": "code",
   "execution_count": 19,
   "id": "c4f0c0f5-7945-45b6-be6a-e71fbb8d0b0f",
   "metadata": {},
   "outputs": [
    {
     "name": "stdout",
     "output_type": "stream",
     "text": [
      "0    1.0\n",
      "1    2.0\n",
      "3    4.0\n",
      "4    5.0\n",
      "6    7.0\n",
      "dtype: float64\n"
     ]
    }
   ],
   "source": [
    "# Drop missing values\n",
    "\n",
    "series_data_dropped = series_data.dropna()\n",
    "print(series_data_dropped)"
   ]
  },
  {
   "cell_type": "code",
   "execution_count": 20,
   "id": "a6a7c646-aeae-4e95-8985-d70f9660e789",
   "metadata": {},
   "outputs": [
    {
     "name": "stdout",
     "output_type": "stream",
     "text": [
      "0    1.0\n",
      "1    2.0\n",
      "2    0.0\n",
      "3    4.0\n",
      "4    5.0\n",
      "5    0.0\n",
      "6    7.0\n",
      "dtype: float64\n"
     ]
    }
   ],
   "source": [
    "# Fill missing values with a specific value\n",
    "\n",
    "series_data_filled = series_data.fillna(0)\n",
    "print(series_data_filled)"
   ]
  },
  {
   "cell_type": "code",
   "execution_count": 21,
   "id": "1d7acce0-21dc-4d3a-9afd-bd680226bb31",
   "metadata": {},
   "outputs": [
    {
     "name": "stdout",
     "output_type": "stream",
     "text": [
      "0    1.0\n",
      "1    2.0\n",
      "2    3.8\n",
      "3    4.0\n",
      "4    5.0\n",
      "5    3.8\n",
      "6    7.0\n",
      "dtype: float64\n"
     ]
    }
   ],
   "source": [
    "series_data = pd.Series([1, 2, None, 4, 5, None, 7])\n",
    "\n",
    "# Fill missing values with the mean of non-null values\n",
    "\n",
    "mean = series_data.mean()\n",
    "series_data_filled_mean = series_data.fillna(mean)\n",
    "print(series_data_filled_mean)"
   ]
  },
  {
   "cell_type": "code",
   "execution_count": 22,
   "id": "498f2011-2334-4293-b89f-6fe19740c75f",
   "metadata": {},
   "outputs": [
    {
     "name": "stdout",
     "output_type": "stream",
     "text": [
      "0    1.0\n",
      "1    2.0\n",
      "2    4.0\n",
      "3    4.0\n",
      "4    5.0\n",
      "5    4.0\n",
      "6    7.0\n",
      "dtype: float64\n"
     ]
    }
   ],
   "source": [
    "# Fill missing values with the median of non-null values\n",
    "\n",
    "median = series_data.median()\n",
    "series_data_filled_median = series_data.fillna(median)\n",
    "print(series_data_filled_median)"
   ]
  },
  {
   "cell_type": "code",
   "execution_count": 23,
   "id": "da44ad8c-6412-4bac-9e8b-f3b455ae9aa1",
   "metadata": {},
   "outputs": [
    {
     "name": "stdout",
     "output_type": "stream",
     "text": [
      "0    1.0\n",
      "1    2.0\n",
      "2    2.0\n",
      "3    2.0\n",
      "4    5.0\n",
      "5    5.0\n",
      "6    7.0\n",
      "dtype: float64\n"
     ]
    }
   ],
   "source": [
    "series_data = pd.Series([1, 2, None, None, 5, None, 7])\n",
    "\n",
    "# Forward fill missing values\n",
    "\n",
    "series_data_ffilled = series_data.ffill()\n",
    "print(series_data_ffilled)"
   ]
  },
  {
   "cell_type": "code",
   "execution_count": 24,
   "id": "5aa5681f-a5b3-45c6-a9e7-38d00dacca06",
   "metadata": {},
   "outputs": [
    {
     "name": "stdout",
     "output_type": "stream",
     "text": [
      "0    1.0\n",
      "1    2.0\n",
      "2    5.0\n",
      "3    5.0\n",
      "4    5.0\n",
      "5    7.0\n",
      "6    7.0\n",
      "dtype: float64\n"
     ]
    }
   ],
   "source": [
    "\n",
    "# Backward fill missing values\n",
    "\n",
    "series_data_bfilled = series_data.bfill()\n",
    "print(series_data_bfilled)"
   ]
  },
  {
   "cell_type": "markdown",
   "id": "ffa2e991-75a2-42fc-ab48-f17dac22a32c",
   "metadata": {},
   "source": [
    "# data alignment in pandas"
   ]
  },
  {
   "cell_type": "raw",
   "id": "b1029a78-d593-49cb-a129-389226136e19",
   "metadata": {},
   "source": [
    "Data alignment is a fundamental concept in pandas that ensures the alignment of data based on the index when performing operations or combining Series. It ensures that operations are applied to corresponding elements with matching indices, providing meaningful and expected results."
   ]
  },
  {
   "cell_type": "raw",
   "id": "95cb3f12-bf3c-4823-a0c1-145e5bb17380",
   "metadata": {},
   "source": [
    "Data alignment is particularly useful in scenarios where you have multiple Series with overlapping or different indices, and you need to perform operations or combine them. It simplifies the process by taking care of aligning the data automatically, allowing you to focus on the analysis rather than manual data alignment."
   ]
  },
  {
   "cell_type": "markdown",
   "id": "f12df70c-8c68-4db9-b8c7-1a646502d7a0",
   "metadata": {},
   "source": [
    "## Arithmetic Operations:"
   ]
  },
  {
   "cell_type": "raw",
   "id": "6ae6e85c-195e-4c75-970f-f418c8840c15",
   "metadata": {},
   "source": [
    "Arithmetic operations in pandas involve performing mathematical calculations on Series or DataFrame objects.\n",
    "They allow for element-wise addition, subtraction, multiplication, division, and more.\n",
    "Arithmetic operations are automatically aligned based on the index labels, ensuring consistent and meaningful results."
   ]
  },
  {
   "cell_type": "raw",
   "id": "536beefd-2d47-4f75-b03c-0ef0aaa926d4",
   "metadata": {},
   "source": [
    "add(): Addition of two Series with aligned index values.\n",
    "sub(): Subtraction of two Series with aligned index values.\n",
    "mul(): Element-wise multiplication of two Series with aligned index values.\n",
    "div(): Element-wise division of two Series with aligned index values.\n",
    "floordiv(): Floor division of two Series with aligned index values.\n",
    "mod(): Modulo operation of two Series with aligned index values.\n",
    "pow(): Exponential operation of two Series with aligned index values."
   ]
  },
  {
   "cell_type": "code",
   "execution_count": 25,
   "id": "5aefe231-3e69-4721-a3fb-6fdfb7572702",
   "metadata": {},
   "outputs": [
    {
     "name": "stdout",
     "output_type": "stream",
     "text": [
      "Addition:\n",
      "0    11\n",
      "1    22\n",
      "2    33\n",
      "3    44\n",
      "4    55\n",
      "dtype: int64\n",
      "\n",
      "Subtraction:\n",
      "0     9\n",
      "1    18\n",
      "2    27\n",
      "3    36\n",
      "4    45\n",
      "dtype: int64\n",
      "\n",
      "Multiplication:\n",
      "0    0.1\n",
      "1    0.4\n",
      "2    0.9\n",
      "3    1.6\n",
      "4    2.5\n",
      "dtype: float64\n",
      "\n",
      "Division:\n",
      "0    100.0\n",
      "1    100.0\n",
      "2    100.0\n",
      "3    100.0\n",
      "4    100.0\n",
      "dtype: float64\n",
      "\n",
      "Floor Division:\n",
      "0    10\n",
      "1    10\n",
      "2    10\n",
      "3    10\n",
      "4    10\n",
      "dtype: int64\n",
      "\n",
      "Modulus:\n",
      "0    1.000000e-01\n",
      "1    2.000000e-01\n",
      "2    1.110223e-15\n",
      "3    4.000000e-01\n",
      "4    0.000000e+00\n",
      "dtype: float64\n",
      "\n",
      "Power:\n",
      "0    1.000000\n",
      "1    1.148698\n",
      "2    1.390389\n",
      "3    1.741101\n",
      "4    2.236068\n",
      "dtype: float64\n"
     ]
    }
   ],
   "source": [
    "import pandas as pd\n",
    "\n",
    "# Create three Series\n",
    "series1 = pd.Series([1, 2, 3, 4, 5])\n",
    "series2 = pd.Series([10, 20, 30, 40, 50])\n",
    "series3 = pd.Series([0.1, 0.2, 0.3, 0.4, 0.5])\n",
    "\n",
    "# Arithmetic operations\n",
    "addition = series1 + series2\n",
    "subtraction = series2 - series1\n",
    "multiplication = series1 * series3\n",
    "division = series2 / series3\n",
    "floordivision = series2 // series1\n",
    "modulus = series2 % series3\n",
    "power = series1 ** series3\n",
    "\n",
    "# Print the results\n",
    "print(\"Addition:\")\n",
    "print(addition)\n",
    "print(\"\\nSubtraction:\")\n",
    "print(subtraction)\n",
    "print(\"\\nMultiplication:\")\n",
    "print(multiplication)\n",
    "print(\"\\nDivision:\")\n",
    "print(division)\n",
    "print(\"\\nFloor Division:\")\n",
    "print(floordivision)\n",
    "print(\"\\nModulus:\")\n",
    "print(modulus)\n",
    "print(\"\\nPower:\")\n",
    "print(power)\n"
   ]
  },
  {
   "cell_type": "code",
   "execution_count": 27,
   "id": "7a232fa0-0ce6-469c-8e85-5cb7422b711e",
   "metadata": {},
   "outputs": [
    {
     "name": "stdout",
     "output_type": "stream",
     "text": [
      "Addition:\n",
      "0    11\n",
      "1    22\n",
      "2    33\n",
      "3    44\n",
      "4    55\n",
      "dtype: int64\n",
      "\n",
      "Subtraction:\n",
      "0    -9\n",
      "1   -18\n",
      "2   -27\n",
      "3   -36\n",
      "4   -45\n",
      "dtype: int64\n",
      "\n",
      "Multiplication:\n",
      "0     10\n",
      "1     40\n",
      "2     90\n",
      "3    160\n",
      "4    250\n",
      "dtype: int64\n",
      "\n",
      "Division:\n",
      "0    0.1\n",
      "1    0.1\n",
      "2    0.1\n",
      "3    0.1\n",
      "4    0.1\n",
      "dtype: float64\n",
      "\n",
      "Floor Division:\n",
      "0    0\n",
      "1    0\n",
      "2    0\n",
      "3    0\n",
      "4    0\n",
      "dtype: int64\n",
      "\n",
      "Modulus:\n",
      "0    1\n",
      "1    2\n",
      "2    3\n",
      "3    4\n",
      "4    5\n",
      "dtype: int64\n",
      "\n",
      "Power:\n",
      "0                      1\n",
      "1                1048576\n",
      "2        205891132094649\n",
      "3                      0\n",
      "4   -6776596920136667815\n",
      "dtype: int64\n"
     ]
    }
   ],
   "source": [
    "# Create two Series\n",
    "series1 = pd.Series([1, 2, 3, 4, 5])\n",
    "series2 = pd.Series([10, 20, 30, 40, 50])\n",
    "\n",
    "# Addition\n",
    "addition = series1.add(series2)\n",
    "print(\"Addition:\")\n",
    "print(addition)\n",
    "\n",
    "# Subtraction\n",
    "subtraction = series1.sub(series2)\n",
    "print(\"\\nSubtraction:\")\n",
    "print(subtraction)\n",
    "\n",
    "# Multiplication\n",
    "multiplication = series1.mul(series2)\n",
    "print(\"\\nMultiplication:\")\n",
    "print(multiplication)\n",
    "\n",
    "# Division\n",
    "division = series1.div(series2)\n",
    "print(\"\\nDivision:\")\n",
    "print(division)\n",
    "\n",
    "# Floor Division\n",
    "floordivision = series1.floordiv(series2)\n",
    "print(\"\\nFloor Division:\")\n",
    "print(floordivision)\n",
    "\n",
    "# Modulo\n",
    "modulus = series1.mod(series2)\n",
    "print(\"\\nModulus:\")\n",
    "print(modulus)\n",
    "\n",
    "# Power\n",
    "power = series1.pow(series2)\n",
    "print(\"\\nPower:\")\n",
    "print(power)"
   ]
  },
  {
   "cell_type": "markdown",
   "id": "c4bc462d-5c1c-4fc6-b463-c3da396248ee",
   "metadata": {},
   "source": [
    "## Comparison Operations:"
   ]
  },
  {
   "cell_type": "raw",
   "id": "65561106-246f-43d8-a46a-c4aed5d72dba",
   "metadata": {},
   "source": [
    "eq(): Element-wise equality comparison of two Series with aligned index values.\n",
    "ne(): Element-wise inequality comparison of two Series with aligned index values.\n",
    "lt(): Element-wise less than comparison of two Series with aligned index values.\n",
    "gt(): Element-wise greater than comparison of two Series with aligned index values.\n",
    "le(): Element-wise less than or equal to comparison of two Series with aligned index "
   ]
  },
  {
   "cell_type": "code",
   "execution_count": 28,
   "id": "a76b4faa-4875-4533-b1ff-0c0bdff1b64f",
   "metadata": {},
   "outputs": [
    {
     "name": "stdout",
     "output_type": "stream",
     "text": [
      "Equality Comparison:\n",
      "0    False\n",
      "1     True\n",
      "2    False\n",
      "3    False\n",
      "4    False\n",
      "dtype: bool\n",
      "\n",
      "Inequality Comparison:\n",
      "0     True\n",
      "1    False\n",
      "2     True\n",
      "3     True\n",
      "4     True\n",
      "dtype: bool\n",
      "\n",
      "Less Than Comparison:\n",
      "0     True\n",
      "1    False\n",
      "2     True\n",
      "3     True\n",
      "4    False\n",
      "dtype: bool\n",
      "\n",
      "Greater Than Comparison:\n",
      "0    False\n",
      "1    False\n",
      "2    False\n",
      "3    False\n",
      "4     True\n",
      "dtype: bool\n",
      "\n",
      "Less Than or Equal To Comparison:\n",
      "0     True\n",
      "1     True\n",
      "2     True\n",
      "3     True\n",
      "4    False\n",
      "dtype: bool\n"
     ]
    }
   ],
   "source": [
    "# Create two Series\n",
    "series1 = pd.Series([1, 2, 3, 4, 5])\n",
    "series2 = pd.Series([3, 2, 5, 6, 1])\n",
    "\n",
    "# Equality comparison\n",
    "equality = series1.eq(series2)\n",
    "print(\"Equality Comparison:\")\n",
    "print(equality)\n",
    "\n",
    "# Inequality comparison\n",
    "inequality = series1.ne(series2)\n",
    "print(\"\\nInequality Comparison:\")\n",
    "print(inequality)\n",
    "\n",
    "# Less than comparison\n",
    "less_than = series1.lt(series2)\n",
    "print(\"\\nLess Than Comparison:\")\n",
    "print(less_than)\n",
    "\n",
    "# Greater than comparison\n",
    "greater_than = series1.gt(series2)\n",
    "print(\"\\nGreater Than Comparison:\")\n",
    "print(greater_than)\n",
    "\n",
    "# Less than or equal to comparison\n",
    "less_than_equal = series1.le(series2)\n",
    "print(\"\\nLess Than or Equal To Comparison:\")\n",
    "print(less_than_equal)\n"
   ]
  },
  {
   "cell_type": "markdown",
   "id": "f800a9fc-946f-4e73-ab37-fec893a187f1",
   "metadata": {},
   "source": [
    "## Statistical methods"
   ]
  },
  {
   "cell_type": "code",
   "execution_count": 34,
   "id": "b923d011-975c-42b6-b95b-4157cf73e7fa",
   "metadata": {},
   "outputs": [],
   "source": [
    "# Set the random seed for reproducibility\n",
    "np.random.seed(123)\n",
    "\n",
    "# Generate two Series with negative correlation\n",
    "size = 100\n",
    "xs = pd.Series(np.random.normal(0, 1, size))\n",
    "ys = pd.Series(series1 * -0.75 + np.random.normal(0, 0.5, size))"
   ]
  },
  {
   "cell_type": "code",
   "execution_count": 35,
   "id": "05c8bc51-0bf9-4902-a21a-8e6403f8d03a",
   "metadata": {},
   "outputs": [
    {
     "data": {
      "image/png": "[encoded data removed]",
      "text/plain": [
       "<Figure size 432x288 with 1 Axes>"
      ]
     },
     "metadata": {
      "needs_background": "light"
     },
     "output_type": "display_data"
    }
   ],
   "source": [
    "import matplotlib.pyplot as plt\n",
    "# Create a scatter plot\n",
    "plt.scatter(xs, ys)\n",
    "plt.xlabel('Series 1')\n",
    "plt.ylabel('Series 2')\n",
    "plt.title('Scatter Plot of Series 1 and Series 2')\n",
    "plt.show()"
   ]
  },
  {
   "cell_type": "code",
   "execution_count": 36,
   "id": "38aa2425-6f62-4642-9a48-dd3b9be5a0f9",
   "metadata": {},
   "outputs": [
    {
     "name": "stdout",
     "output_type": "stream",
     "text": [
      "Covariance:\n",
      "-0.9750055208710272\n",
      "\n",
      "Correlation:\n",
      "-0.8699654090699958\n",
      "\n",
      "Rank:\n",
      "0     18.0\n",
      "1     76.0\n",
      "2     58.0\n",
      "3      7.0\n",
      "4     36.0\n",
      "      ... \n",
      "95    78.0\n",
      "96    19.0\n",
      "97     9.0\n",
      "98    62.0\n",
      "99    42.0\n",
      "Length: 100, dtype: float64\n"
     ]
    }
   ],
   "source": [
    "# Calculate covariance\n",
    "covariance = series1.cov(series2)\n",
    "print(\"Covariance:\")\n",
    "print(covariance)\n",
    "\n",
    "# Calculate correlation\n",
    "correlation = series1.corr(series2)\n",
    "print(\"\\nCorrelation:\")\n",
    "print(correlation)\n",
    "\n",
    "# Calculate rank\n",
    "rank = series1.rank()\n",
    "print(\"\\nRank:\")\n",
    "print(rank)"
   ]
  },
  {
   "cell_type": "raw",
   "id": "50b23ff3-f92a-4267-baf1-68dc297e4e6a",
   "metadata": {},
   "source": [
    "Since the covariance is negative (-0.975), it suggests that when one set of numbers tends to increase, the other set tends to decrease. Conversely, when one set decreases, the other set tends to increase. This negative relationship implies an inverse pattern between the two sets of numbers."
   ]
  },
  {
   "cell_type": "raw",
   "id": "10ddb964-fcd4-4a42-91d2-7a0744163803",
   "metadata": {},
   "source": [
    "n the case of the correlation coefficient, which is approximately -0.87, it indicates a relatively strong negative relationship between the two sets of numbers. This suggests that as one set of numbers increases or decreases, the other set tends to move in the opposite direction with a high degree of consistency."
   ]
  },
  {
   "cell_type": "markdown",
   "id": "4a6e6834-5a44-4657-88ce-d4d7491683d8",
   "metadata": {},
   "source": [
    "# Working with Date & Time"
   ]
  },
  {
   "cell_type": "markdown",
   "id": "7d199d1d-01b8-4938-a844-cf3a3b2ebab7",
   "metadata": {},
   "source": [
    "## datetime library"
   ]
  },
  {
   "cell_type": "raw",
   "id": "161db5bd-9404-4f5b-b424-8de970bfca92",
   "metadata": {},
   "source": [
    "David Beckham's date of birth is May 2, 1975. Here's a sample code to generate a random date and time that matches his date of birth:\n",
    "\n"
   ]
  },
  {
   "cell_type": "code",
   "execution_count": 39,
   "id": "d153ecdc-8828-484c-a472-fb4e4cdedb0e",
   "metadata": {},
   "outputs": [
    {
     "name": "stdout",
     "output_type": "stream",
     "text": [
      "Random Date and Time: 1975-05-02 21:22:49\n"
     ]
    }
   ],
   "source": [
    "import random\n",
    "import datetime\n",
    "\n",
    "# Set the date of birth\n",
    "date_of_birth = datetime.date(1975, 5, 2)\n",
    "\n",
    "# Generate a random time\n",
    "random_time = datetime.time(random.randint(0, 23), random.randint(0, 59), random.randint(0, 59))\n",
    "\n",
    "# Combine the date and time\n",
    "random_date_time = datetime.datetime.combine(date_of_birth, random_time)\n",
    "\n",
    "print(\"Random Date and Time:\", random_date_time)\n"
   ]
  },
  {
   "cell_type": "code",
   "execution_count": 40,
   "id": "223a8ae1-78a3-4ac8-93e5-36a23ebe911c",
   "metadata": {},
   "outputs": [
    {
     "name": "stdout",
     "output_type": "stream",
     "text": [
      "Year: 1975\n",
      "Month: 5\n",
      "Day: 2\n",
      "Weekday: 4\n",
      "ISO Format: 1975-05-02\n",
      "Custom Format: May 02, 1975\n"
     ]
    }
   ],
   "source": [
    "import datetime\n",
    "\n",
    "# Retrieve the year\n",
    "year = date_of_birth.year\n",
    "print(\"Year:\", year)\n",
    "\n",
    "# Retrieve the month\n",
    "month = date_of_birth.month\n",
    "print(\"Month:\", month)\n",
    "\n",
    "# Retrieve the day\n",
    "day = date_of_birth.day\n",
    "print(\"Day:\", day)\n",
    "\n",
    "# Get the weekday (0 - Monday, 6 - Sunday)\n",
    "weekday = date_of_birth.weekday()\n",
    "print(\"Weekday:\", weekday)\n",
    "\n",
    "# Format the date in ISO 8601 format\n",
    "iso_format = date_of_birth.isoformat()\n",
    "print(\"ISO Format:\", iso_format)\n",
    "\n",
    "# Format the date with a custom format\n",
    "custom_format = date_of_birth.strftime('%B %d, %Y')\n",
    "print(\"Custom Format:\", custom_format)\n"
   ]
  },
  {
   "cell_type": "raw",
   "id": "2fbf0df0-cec7-4f42-82db-1b8268c75230",
   "metadata": {},
   "source": [
    "Note : By running this code, you will see the date of birth (May 2, 1975) represented in 10 different formats, including variations of month names, day, month, and year ordering, separators, and more."
   ]
  },
  {
   "cell_type": "code",
   "execution_count": 41,
   "id": "bfaa2f0a-af2c-49e0-8e2c-58432165baf0",
   "metadata": {},
   "outputs": [
    {
     "name": "stdout",
     "output_type": "stream",
     "text": [
      "1975-05-02\n",
      "05/02/1975\n",
      "May 02, 1975\n",
      "May 02, 1975\n",
      "Friday, May 02, 1975\n",
      "02 May 1975\n",
      "02-May-1975\n",
      "02/05/1975\n",
      "May 1975\n",
      "1975\n"
     ]
    }
   ],
   "source": [
    "# Format the date with different formats\n",
    "\n",
    "formats = [\n",
    "    '%Y-%m-%d',\n",
    "    '%m/%d/%Y',\n",
    "    '%B %d, %Y',\n",
    "    '%b %d, %Y',\n",
    "    '%A, %B %d, %Y',\n",
    "    '%d %B %Y',\n",
    "    '%d-%b-%Y',\n",
    "    '%d/%m/%Y',\n",
    "    '%b %Y',\n",
    "    '%Y'\n",
    "]\n",
    "\n",
    "# Print the formatted dates\n",
    "for format_str in formats:\n",
    "    formatted_date = date_of_birth.strftime(format_str)\n",
    "    print(formatted_date)\n"
   ]
  },
  {
   "cell_type": "code",
   "execution_count": 42,
   "id": "5e5cbad8-ab5b-4968-bed8-e4cacf069fe6",
   "metadata": {},
   "outputs": [
    {
     "name": "stdout",
     "output_type": "stream",
     "text": [
      "Week number: 18\n",
      "Day of the week: Friday\n",
      "Day count: 721110\n"
     ]
    }
   ],
   "source": [
    "# Extract information about the date\n",
    "week_number = date_of_birth.isocalendar()[1]\n",
    "day_of_week = date_of_birth.strftime('%A')\n",
    "day_count = date_of_birth.toordinal()\n",
    "\n",
    "# Print the extracted information\n",
    "print(\"Week number:\", week_number)\n",
    "print(\"Day of the week:\", day_of_week)\n",
    "print(\"Day count:\", day_count)"
   ]
  },
  {
   "cell_type": "raw",
   "id": "5f098302-569e-47be-b9d8-5611b886f42c",
   "metadata": {},
   "source": [
    "The isocalendar() method in Python's datetime module returns a tuple containing the ISO calendar year, ISO calendar week number, and ISO calendar weekday for a given date. Here's a list of the possible information you can get from the isocalendar() method:\n",
    "\n",
    "ISO Calendar Year (year): The ISO calendar year as a four-digit integer.\n",
    "\n",
    "ISO Calendar Week Number (week): The ISO calendar week number as an integer (1-53). Note that not all years have 53 weeks.\n",
    "\n",
    "ISO Calendar Weekday (weekday): The ISO calendar weekday as an integer (1-7), where Monday is 1 and Sunday is 7."
   ]
  },
  {
   "cell_type": "code",
   "execution_count": 43,
   "id": "a1452551-1bdc-4f27-8677-622e7337070c",
   "metadata": {},
   "outputs": [
    {
     "name": "stdout",
     "output_type": "stream",
     "text": [
      "ISO Calendar Year: 1975\n",
      "ISO Calendar Week Number: 18\n",
      "ISO Calendar Weekday: 5\n"
     ]
    }
   ],
   "source": [
    "\n",
    "# Get ISO calendar information\n",
    "iso_year, iso_week, iso_weekday = date_of_birth.isocalendar()\n",
    "\n",
    "# Print the ISO calendar information\n",
    "print(\"ISO Calendar Year:\", iso_year)\n",
    "print(\"ISO Calendar Week Number:\", iso_week)\n",
    "print(\"ISO Calendar Weekday:\", iso_weekday)\n"
   ]
  },
  {
   "cell_type": "markdown",
   "id": "fc643273-bbfd-4541-8573-dad7d7142f21",
   "metadata": {},
   "source": [
    "## Dateutil library"
   ]
  },
  {
   "cell_type": "raw",
   "id": "6bbc4e77-62d6-46f4-abe0-9cb77b207c0c",
   "metadata": {},
   "source": [
    "pip install python-dateutil"
   ]
  },
  {
   "cell_type": "code",
   "execution_count": 56,
   "id": "bec8a499-a907-4872-aa35-f94cbe9ec891",
   "metadata": {},
   "outputs": [],
   "source": [
    "import dateutil\n",
    "import datetime"
   ]
  },
  {
   "cell_type": "code",
   "execution_count": 50,
   "id": "800a3f36-c368-4b65-968d-6e094bdfab6d",
   "metadata": {},
   "outputs": [],
   "source": [
    ">>> from dateutil.relativedelta import *\n",
    ">>> from dateutil.easter import *\n",
    ">>> from dateutil.rrule import *\n",
    ">>> from dateutil.parser import *\n",
    ">>> from datetime import *"
   ]
  },
  {
   "cell_type": "code",
   "execution_count": 51,
   "id": "871d3045-bed3-41eb-86b1-70d3107e6907",
   "metadata": {},
   "outputs": [],
   "source": [
    "mydate=parse(\"Sat Oct 11 17:13:46 UTC 2003\")"
   ]
  },
  {
   "cell_type": "code",
   "execution_count": 52,
   "id": "37797f0a-a4f8-4d9f-8858-23cbf04760aa",
   "metadata": {},
   "outputs": [
    {
     "data": {
      "text/plain": [
       "datetime.datetime(2003, 10, 11, 17, 13, 46, tzinfo=tzutc())"
      ]
     },
     "execution_count": 52,
     "metadata": {},
     "output_type": "execute_result"
    }
   ],
   "source": [
    "mydate"
   ]
  },
  {
   "cell_type": "code",
   "execution_count": 53,
   "id": "ef554c4c-fe86-4c2f-8436-ea8e1609786e",
   "metadata": {},
   "outputs": [],
   "source": [
    "dt = parse(\"Today is January 1, 2047 at 8:21:00AM\", fuzzy=True)"
   ]
  },
  {
   "cell_type": "code",
   "execution_count": 54,
   "id": "ca8c4a97-e5c5-4fec-a9df-69b6c82cdc13",
   "metadata": {},
   "outputs": [
    {
     "data": {
      "text/plain": [
       "datetime.datetime(2047, 1, 1, 8, 21)"
      ]
     },
     "execution_count": 54,
     "metadata": {},
     "output_type": "execute_result"
    }
   ],
   "source": [
    "dt"
   ]
  },
  {
   "cell_type": "markdown",
   "id": "3def75ab-a276-43ef-995c-56c0792912a2",
   "metadata": {},
   "source": [
    "### dateutil.relativedelta"
   ]
  },
  {
   "cell_type": "raw",
   "id": "78933e46-970e-4070-b018-1a225c05444e",
   "metadata": {},
   "source": [
    "This function is used to create a relativedelta object, which represents a duration of time. The object can be used to perform calculations and operations with relative dates and times, such as adding or subtracting a specified number of days, weeks, or months from a given date. Here is an example of using the dateutil.relativedelta() function to create a relativedelta object and use it to calculate a date that is three days in the future from a given date:"
   ]
  },
  {
   "cell_type": "code",
   "execution_count": 59,
   "id": "7d4dace3-9c90-4132-be8f-e71256397bdc",
   "metadata": {},
   "outputs": [],
   "source": [
    "# Create a datetime object for the current date and time\n",
    "now = datetime.datetime.now()\n",
    "\n",
    "# Create a relativedelta object that represents a duration of three days\n",
    "delta = relativedelta(days=3)\n",
    "\n",
    "# Use the relativedelta object to calculate the date and time that is three days in the future\n",
    "future = now + delta"
   ]
  },
  {
   "cell_type": "code",
   "execution_count": 61,
   "id": "331abe4a-3b3f-4010-8591-56fccf166da9",
   "metadata": {},
   "outputs": [
    {
     "name": "stdout",
     "output_type": "stream",
     "text": [
      "2023-07-18 22:58:01.750047\n",
      "2023-07-21 22:58:01.750047\n"
     ]
    }
   ],
   "source": [
    "print(now)\n",
    "\n",
    "print(future)\n"
   ]
  },
  {
   "cell_type": "raw",
   "id": "318e8153-660b-4d58-87a2-8a48c8e81af4",
   "metadata": {},
   "source": [
    "dateutil.relativedelta(\n",
    "    years=None,\n",
    "    months=None,\n",
    "    weeks=None,\n",
    "    days=None,\n",
    "    hours=None,\n",
    "    minutes=None,\n",
    "    seconds=None,\n",
    "    microseconds=None,\n",
    "    year=None,\n",
    "    month=None,\n",
    "    day=None,\n",
    "    weekday=None,\n",
    "    yearday=None,\n",
    "    nlyearday=None,\n",
    "    hour=None,\n",
    "    minute=None,\n",
    "    second=None,\n",
    "    microsecond=None,\n",
    ")"
   ]
  },
  {
   "cell_type": "raw",
   "id": "c66bd0fe-66b9-4e51-9c4e-ba581fef17d5",
   "metadata": {},
   "source": [
    "dateutil.parser.parse() function. This argument takes a string that specifies the format of the date and time string using format codes.\n",
    "Here are some commonly used format codes in dateutil.parser.parse():\n",
    "\n",
    "%Y: Four-digit year\n",
    "%m: Zero-padded month (01-12)\n",
    "%d: Zero-padded day of the month (01-31)\n",
    "%H: Hour in 24-hour format (00-23)\n",
    "%M: Zero-padded minute (00-59)\n",
    "%S: Zero-padded second (00-59)\n",
    "%f: Microsecond (000000-999999)\n",
    "%p: AM/PM indicator\n",
    "%z: UTC offset in the form +HHMM or -HHMM\n",
    "%Z: Time zone name"
   ]
  },
  {
   "cell_type": "code",
   "execution_count": 63,
   "id": "192fe3af-483f-4896-8b93-d3e2650b209e",
   "metadata": {},
   "outputs": [
    {
     "name": "stdout",
     "output_type": "stream",
     "text": [
      "2022-07-15 12:30:00\n"
     ]
    }
   ],
   "source": [
    "date_string = \"2022-07-15 12:30:00\"\n",
    "parsed_date = parse(date_string)\n",
    "\n",
    "print(parsed_date)"
   ]
  },
  {
   "cell_type": "code",
   "execution_count": 65,
   "id": "54b09526-ab26-4874-b02e-f99b9cad2364",
   "metadata": {},
   "outputs": [
    {
     "name": "stdout",
     "output_type": "stream",
     "text": [
      "2022-12-15 15:43:34-05:00\n"
     ]
    }
   ],
   "source": [
    "text = \"Mon, 15 Dec 2022 15:43:34 -0500\"\n",
    "parsed_datetime = parse(text)\n",
    "\n",
    "print(parsed_datetime)"
   ]
  },
  {
   "cell_type": "code",
   "execution_count": 66,
   "id": "034d2955-3dab-4962-91a2-51d653ff70df",
   "metadata": {},
   "outputs": [
    {
     "name": "stdout",
     "output_type": "stream",
     "text": [
      "Year: 2022\n",
      "Month: 07\n",
      "Day: 15\n",
      "Hour: 12\n",
      "Minute: 30\n",
      "Second: 00\n",
      "Microsecond: 000000\n",
      "AM/PM: PM\n",
      "UTC Offset: \n",
      "Time Zone: \n"
     ]
    }
   ],
   "source": [
    "date_string = \"2022-07-15 12:30:00\"\n",
    "parsed_date = parse(date_string)\n",
    "\n",
    "year = parsed_date.strftime(\"%Y\")\n",
    "month = parsed_date.strftime(\"%m\")\n",
    "day = parsed_date.strftime(\"%d\")\n",
    "hour = parsed_date.strftime(\"%H\")\n",
    "minute = parsed_date.strftime(\"%M\")\n",
    "second = parsed_date.strftime(\"%S\")\n",
    "microsecond = parsed_date.strftime(\"%f\")\n",
    "am_pm = parsed_date.strftime(\"%p\")\n",
    "utc_offset = parsed_date.strftime(\"%z\")\n",
    "time_zone = parsed_date.strftime(\"%Z\")\n",
    "\n",
    "print(\"Year:\", year)\n",
    "print(\"Month:\", month)\n",
    "print(\"Day:\", day)\n",
    "print(\"Hour:\", hour)\n",
    "print(\"Minute:\", minute)\n",
    "print(\"Second:\", second)\n",
    "print(\"Microsecond:\", microsecond)\n",
    "print(\"AM/PM:\", am_pm)\n",
    "print(\"UTC Offset:\", utc_offset)\n",
    "print(\"Time Zone:\", time_zone)"
   ]
  },
  {
   "cell_type": "markdown",
   "id": "816d1ac7-a13e-4e55-b8d2-31e761b1ee55",
   "metadata": {},
   "source": [
    "## Persian tools "
   ]
  },
  {
   "cell_type": "code",
   "execution_count": 77,
   "id": "4ee97419-2f14-4083-a6c5-0840f7c56498",
   "metadata": {},
   "outputs": [],
   "source": [
    ">>> from persiantools.jdatetime import JalaliDate\n",
    "from persiantools.jdatetime import JalaliDateTime\n",
    ">>> import datetime\n"
   ]
  },
  {
   "cell_type": "code",
   "execution_count": 71,
   "id": "992c8a44-f2e2-406a-aaf5-9416d7f856b9",
   "metadata": {},
   "outputs": [
    {
     "name": "stdout",
     "output_type": "stream",
     "text": [
      "1402-04-27\n",
      "1369-07-01\n",
      "1369-07-01\n",
      "1392-06-25\n",
      "2013-09-16\n"
     ]
    }
   ],
   "source": [
    ">>> print(JalaliDate.today())\n",
    "\n",
    ">>> print(JalaliDate(1369, 7, 1))\n",
    "\n",
    ">>> print(JalaliDate(datetime.date(1990, 9, 23)))\n",
    "# Grprint(egorian to Jalali\n",
    "\n",
    ">>> print(JalaliDate.to_jalali(2013, 9, 16) )\n",
    "# Grprint(egorian to Jalali\n",
    "\n",
    ">>> print(JalaliDate(1392, 6, 25).to_gregorian() )\n",
    "# Japrint(lali to Gregorian\n",
    "\n"
   ]
  },
  {
   "cell_type": "code",
   "execution_count": 72,
   "id": "50ef589c-240f-4833-94b1-adce16895d8a",
   "metadata": {},
   "outputs": [
    {
     "data": {
      "text/plain": [
       "'the time is 1395/03/01 .'"
      ]
     },
     "execution_count": 72,
     "metadata": {},
     "output_type": "execute_result"
    }
   ],
   "source": [
    "JalaliDate(1395, 3, 1).strftime(\"the time is %Y/%m/%d .\")"
   ]
  },
  {
   "cell_type": "code",
   "execution_count": 79,
   "id": "d1735e62-a7f3-4ee1-9803-73f6668a8cfc",
   "metadata": {},
   "outputs": [
    {
     "data": {
      "text/plain": [
       "'Yekshanbeh 01 Mehr 1369 14:00:10'"
      ]
     },
     "execution_count": 79,
     "metadata": {},
     "output_type": "execute_result"
    }
   ],
   "source": [
    "JalaliDateTime(1369, 7, 1, 14, 0, 10).strftime(\"%c\")"
   ]
  },
  {
   "cell_type": "code",
   "execution_count": 84,
   "id": "97321e58-5f93-41d4-84e8-aa0046130580",
   "metadata": {},
   "outputs": [
    {
     "data": {
      "text/plain": [
       "'Mahe Mehr rooze Yekshanbeh'"
      ]
     },
     "execution_count": 84,
     "metadata": {},
     "output_type": "execute_result"
    }
   ],
   "source": [
    "JalaliDateTime(1369, 7, 1, 14, 0, 10).strftime(\"Mahe %B rooze %A\")"
   ]
  },
  {
   "cell_type": "raw",
   "id": "f966eb9b-dd75-44ae-a644-b66709286ecb",
   "metadata": {},
   "source": [
    "%Y: Four-digit year\n",
    "%m: Zero-padded month (01-12)\n",
    "%d: Zero-padded day of the month (01-31)\n",
    "%H: Hour in 24-hour format (00-23)\n",
    "%M: Zero-padded minute (00-59)\n",
    "%S: Zero-padded second (00-59)\n",
    "%f: Microsecond (000000-999999)\n",
    "%p: AM/PM indicator (AM or PM)\n",
    "%a: Abbreviated weekday name (Sun, Mon, etc.)\n",
    "%A: Full weekday name (Sunday, Monday, etc.)\n",
    "%b: Abbreviated month name (Jan, Feb, etc.)\n",
    "%B: Full month name (January, February, etc.)\n",
    "%j: Day of the year as a zero-padded decimal number (001-366)\n",
    "%w: Weekday as a decimal number (0-6, Sunday is 0)\n",
    "%U: Week number of the year (Sunday as the first day of the week) as a zero-padded decimal number (00-53)\n",
    "%W: Week number of the year (Monday as the first day of the week) as a zero-padded decimal number (00-53)\n",
    "%Z: Time zone name (e.g., EST, GMT, etc.)\n",
    "%z: UTC offset in the form +HHMM or -HHMM"
   ]
  },
  {
   "cell_type": "code",
   "execution_count": null,
   "id": "0c9ee520-fc47-4b0b-a0d3-0cf7178c3fa2",
   "metadata": {},
   "outputs": [],
   "source": []
  }
 ],
 "metadata": {
  "kernelspec": {
   "display_name": "Python 3 (ipykernel)",
   "language": "python",
   "name": "python3"
  },
  "language_info": {
   "codemirror_mode": {
    "name": "ipython",
    "version": 3
   },
   "file_extension": ".py",
   "mimetype": "text/x-python",
   "name": "python",
   "nbconvert_exporter": "python",
   "pygments_lexer": "ipython3",
   "version": "3.9.12"
  }
 },
 "nbformat": 4,
 "nbformat_minor": 5
}
