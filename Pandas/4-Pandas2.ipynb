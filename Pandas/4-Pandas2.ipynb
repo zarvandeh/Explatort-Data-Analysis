{
 "cells": [
  {
   "cell_type": "markdown",
   "id": "73b1de86-641f-4589-9529-095748193413",
   "metadata": {},
   "source": [
    "# Categories in pandas"
   ]
  },
  {
   "cell_type": "markdown",
   "id": "9581cae5-f262-4abf-9b37-7c310581aec9",
   "metadata": {},
   "source": [
    "Here's a comprehensive list of methods in pandas for handling categorical data"
   ]
  },
  {
   "cell_type": "markdown",
   "id": "60cc20fe-9ad7-4545-abea-d67c83254467",
   "metadata": {},
   "source": [
    "Categorical Data Types:\n",
    "\n",
    "astype(): Convert the data type of a Series to a specified categorical data type.\n",
    "pd.Categorical(): Create a categorical object from a list or array of data.\n",
    "pd.CategoricalDtype(): Create a new categorical data type.\n",
    "cat.categories: Access the categories of a categorical Series.\n",
    "cat.ordered: Check if the categories of a categorical Series are ordered.\n",
    "Encoding Categorical Data:\n",
    "\n",
    "cat.codes: Return the category codes of a categorical Series.\n",
    "cat.reorder_categories(): Reorder the categories of a categorical Series.\n",
    "cat.add_categories(): Add new categories to a categorical Series.\n",
    "cat.remove_categories(): Remove categories from a categorical Series.\n",
    "cat.rename_categories(): Rename the categories of a categorical Series.\n",
    "Decoding Categorical Data:\n",
    "\n",
    "cat.get_dummies(): Convert a categorical Series into dummy/indicator variables.\n",
    "Categorical Operations:\n",
    "\n",
    "cat.set_categories(): Set new categories for a categorical Series.\n",
    "cat.remove_unused_categories(): Remove categories that are not used in a categorical Series.\n",
    "cat.as_ordered(): Convert a categorical Series to an ordered categorical.\n",
    "cat.as_unordered(): Convert a categorical Series to an unordered categorical.\n",
    "cat.set_ordered(): Set the ordered flag of a categorical Series.\n",
    "cat.remove_categories(): Remove specified categories from a categorical Series.\n",
    "Categorical Data Properties:\n",
    "\n",
    "cat.categories: Access the categories of a categorical Series.\n",
    "cat.ordered: Check if the categories of a categorical Series are ordered.\n",
    "cat.codes: Return the category codes of a categorical Series.\n",
    "Statistical and Aggregation Methods:\n",
    "\n",
    "value_counts(): Count the occurrences of each category in a categorical Series.\n",
    "cat.mode(): Return the most frequently occurring category in a categorical Series.\n",
    "cat.min(), cat.max(), cat.mean(), etc.: Aggregation functions for categorical Series.\n",
    "Categorical Data Merging and Grouping:\n",
    "\n",
    "groupby(): Group data based on categorical variables for aggregation.\n",
    "pd.concat(): Concatenate two or more categorical Series.\n",
    "Categorical Data Filtering:\n",
    "\n",
    "isin(): Check if elements of a categorical Series are in a given set of categories.\n",
    "These methods provide various functionalities for working with categorical data in pandas. They allow you to manage categories, encode and decode categorical data, perform categorical operations, and analyze categorical data using statistical and aggregation methods."
   ]
  },
  {
   "cell_type": "markdown",
   "id": "9e5ba4d2-d3fe-4717-b221-8ae628e3c40e",
   "metadata": {},
   "source": [
    "## astype()\n",
    "Convert the data type of a Series to a specified categorical data type.\n"
   ]
  },
  {
   "cell_type": "code",
   "execution_count": 4,
   "id": "d84e1ee2-1346-4d23-a301-669ac71931f6",
   "metadata": {},
   "outputs": [
    {
     "name": "stdout",
     "output_type": "stream",
     "text": [
      "0    10\n",
      "1    20\n",
      "2    30\n",
      "3    30\n",
      "4    10\n",
      "5    20\n",
      "6    10\n",
      "7    30\n",
      "dtype: int64\n",
      "0    10\n",
      "1    20\n",
      "2    30\n",
      "3    30\n",
      "4    10\n",
      "5    20\n",
      "6    10\n",
      "7    30\n",
      "dtype: category\n",
      "Categories (3, int64): [10, 20, 30]\n"
     ]
    }
   ],
   "source": [
    "import pandas as pd\n",
    "\n",
    "# Create a Series with numerical data\n",
    "data = pd.Series([10,20,30,30,10,20,10,30])\n",
    "# Convert the Series to categorical data type\n",
    "categorical_data = data.astype('category')\n",
    "\n",
    "print(data)\n",
    "\n",
    "print(categorical_data)\n"
   ]
  },
  {
   "cell_type": "code",
   "execution_count": null,
   "id": "fba3346d-e680-4125-b278-04463a9b3b87",
   "metadata": {},
   "outputs": [],
   "source": []
  }
 ],
 "metadata": {
  "kernelspec": {
   "display_name": "Python 3 (ipykernel)",
   "language": "python",
   "name": "python3"
  },
  "language_info": {
   "codemirror_mode": {
    "name": "ipython",
    "version": 3
   },
   "file_extension": ".py",
   "mimetype": "text/x-python",
   "name": "python",
   "nbconvert_exporter": "python",
   "pygments_lexer": "ipython3",
   "version": "3.9.12"
  }
 },
 "nbformat": 4,
 "nbformat_minor": 5
}
